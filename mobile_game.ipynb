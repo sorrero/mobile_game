{
 "cells": [
  {
   "cell_type": "code",
   "execution_count": 3,
   "metadata": {},
   "outputs": [
    {
     "name": "stderr",
     "output_type": "stream",
     "text": [
      "/opt/tljh/user/lib/python3.7/site-packages/outdated/utils.py:18: OutdatedCacheFailedWarning: Failed to use cache while checking for outdated package.\n",
      "Set the environment variable OUTDATED_RAISE_EXCEPTION=1 for a full traceback.\n",
      "Set the environment variable OUTDATED_IGNORE=1 to disable these warnings.\n",
      "  **kwargs\n",
      "/opt/tljh/user/lib/python3.7/site-packages/outdated/utils.py:18: OutdatedPackageWarning: The package pingouin is out of date. Your version is 0.4.0, the latest is 0.5.4.\n",
      "Set the environment variable OUTDATED_IGNORE=1 to disable these warnings.\n",
      "  **kwargs\n",
      "/opt/tljh/user/lib/python3.7/site-packages/outdated/utils.py:18: OutdatedPackageWarning: The package outdated is out of date. Your version is 0.2.1, the latest is 0.2.2.\n",
      "Set the environment variable OUTDATED_IGNORE=1 to disable these warnings.\n",
      "  **kwargs\n"
     ]
    }
   ],
   "source": [
    "import pandas as pd\n",
    "import numpy as np\n",
    "\n",
    "import datetime\n",
    "from datetime import timedelta\n",
    "\n",
    "import requests\n",
    "from urllib.parse import urlencode\n",
    "import json\n",
    "\n",
    "from scipy import stats\n",
    "from scipy.stats import ttest_ind\n",
    "from scipy.stats import normaltest\n",
    "from scipy.stats import bootstrap\n",
    "import pingouin as pg\n",
    "\n",
    "import seaborn as sns\n",
    "import plotly.express as px\n",
    "import matplotlib.pyplot as plt\n",
    "\n",
    "%matplotlib inline"
   ]
  },
  {
   "cell_type": "markdown",
   "metadata": {},
   "source": [
    "# ЗАДАНИЕ 1\n",
    "\n",
    "<div class=\"alert alert-block alert-info\">\n",
    "Retention – один из самых важных показателей в компании. <br>Ваша задача – написать функцию, которая будет считать retention игроков (по дням от даты регистрации игрока). </div>\n",
    "\n"
   ]
  },
  {
   "cell_type": "code",
   "execution_count": 2,
   "metadata": {},
   "outputs": [
    {
     "name": "stderr",
     "output_type": "stream",
     "text": [
      "/opt/tljh/user/lib/python3.7/site-packages/outdated/utils.py:18: OutdatedCacheFailedWarning: Failed to use cache while checking for outdated package.\n",
      "Set the environment variable OUTDATED_RAISE_EXCEPTION=1 for a full traceback.\n",
      "Set the environment variable OUTDATED_IGNORE=1 to disable these warnings.\n",
      "  **kwargs\n",
      "/opt/tljh/user/lib/python3.7/site-packages/outdated/utils.py:18: OutdatedPackageWarning: The package outdated is out of date. Your version is 0.2.1, the latest is 0.2.2.\n",
      "Set the environment variable OUTDATED_IGNORE=1 to disable these warnings.\n",
      "  **kwargs\n",
      "/opt/tljh/user/lib/python3.7/site-packages/outdated/utils.py:18: OutdatedPackageWarning: The package pingouin is out of date. Your version is 0.4.0, the latest is 0.5.4.\n",
      "Set the environment variable OUTDATED_IGNORE=1 to disable these warnings.\n",
      "  **kwargs\n"
     ]
    },
    {
     "data": {
      "text/html": [
       "<div>\n",
       "<style scoped>\n",
       "    .dataframe tbody tr th:only-of-type {\n",
       "        vertical-align: middle;\n",
       "    }\n",
       "\n",
       "    .dataframe tbody tr th {\n",
       "        vertical-align: top;\n",
       "    }\n",
       "\n",
       "    .dataframe thead th {\n",
       "        text-align: right;\n",
       "    }\n",
       "</style>\n",
       "<table border=\"1\" class=\"dataframe\">\n",
       "  <thead>\n",
       "    <tr style=\"text-align: right;\">\n",
       "      <th></th>\n",
       "      <th>reg_ts</th>\n",
       "      <th>uid</th>\n",
       "    </tr>\n",
       "  </thead>\n",
       "  <tbody>\n",
       "    <tr>\n",
       "      <th>0</th>\n",
       "      <td>911382223</td>\n",
       "      <td>1</td>\n",
       "    </tr>\n",
       "    <tr>\n",
       "      <th>1</th>\n",
       "      <td>932683089</td>\n",
       "      <td>2</td>\n",
       "    </tr>\n",
       "    <tr>\n",
       "      <th>2</th>\n",
       "      <td>947802447</td>\n",
       "      <td>3</td>\n",
       "    </tr>\n",
       "    <tr>\n",
       "      <th>3</th>\n",
       "      <td>959523541</td>\n",
       "      <td>4</td>\n",
       "    </tr>\n",
       "    <tr>\n",
       "      <th>4</th>\n",
       "      <td>969103313</td>\n",
       "      <td>5</td>\n",
       "    </tr>\n",
       "  </tbody>\n",
       "</table>\n",
       "</div>"
      ],
      "text/plain": [
       "      reg_ts  uid\n",
       "0  911382223    1\n",
       "1  932683089    2\n",
       "2  947802447    3\n",
       "3  959523541    4\n",
       "4  969103313    5"
      ]
     },
     "execution_count": 2,
     "metadata": {},
     "output_type": "execute_result"
    }
   ],
   "source": [
    "# загружаем таблицу с данными о регистрации, в качестве разделителя ;\n",
    "df_reg = pd.read_csv('../shared/problem1-reg_data.csv', encoding='windows=1251', sep=';')\n",
    "df_reg.head()"
   ]
  },
  {
   "cell_type": "code",
   "execution_count": 3,
   "metadata": {},
   "outputs": [
    {
     "data": {
      "text/html": [
       "<div>\n",
       "<style scoped>\n",
       "    .dataframe tbody tr th:only-of-type {\n",
       "        vertical-align: middle;\n",
       "    }\n",
       "\n",
       "    .dataframe tbody tr th {\n",
       "        vertical-align: top;\n",
       "    }\n",
       "\n",
       "    .dataframe thead th {\n",
       "        text-align: right;\n",
       "    }\n",
       "</style>\n",
       "<table border=\"1\" class=\"dataframe\">\n",
       "  <thead>\n",
       "    <tr style=\"text-align: right;\">\n",
       "      <th></th>\n",
       "      <th>auth_ts</th>\n",
       "      <th>uid</th>\n",
       "    </tr>\n",
       "  </thead>\n",
       "  <tbody>\n",
       "    <tr>\n",
       "      <th>0</th>\n",
       "      <td>911382223</td>\n",
       "      <td>1</td>\n",
       "    </tr>\n",
       "    <tr>\n",
       "      <th>1</th>\n",
       "      <td>932683089</td>\n",
       "      <td>2</td>\n",
       "    </tr>\n",
       "    <tr>\n",
       "      <th>2</th>\n",
       "      <td>932921206</td>\n",
       "      <td>2</td>\n",
       "    </tr>\n",
       "    <tr>\n",
       "      <th>3</th>\n",
       "      <td>933393015</td>\n",
       "      <td>2</td>\n",
       "    </tr>\n",
       "    <tr>\n",
       "      <th>4</th>\n",
       "      <td>933875379</td>\n",
       "      <td>2</td>\n",
       "    </tr>\n",
       "  </tbody>\n",
       "</table>\n",
       "</div>"
      ],
      "text/plain": [
       "     auth_ts  uid\n",
       "0  911382223    1\n",
       "1  932683089    2\n",
       "2  932921206    2\n",
       "3  933393015    2\n",
       "4  933875379    2"
      ]
     },
     "execution_count": 3,
     "metadata": {},
     "output_type": "execute_result"
    }
   ],
   "source": [
    "# загружаем таблицу с данными о заходе пользователей, в качестве разделителя ;\n",
    "df_auth = pd.read_csv('../shared/problem1-auth_data.csv', encoding='windows=1251', sep=';')\n",
    "df_auth.head()"
   ]
  },
  {
   "cell_type": "markdown",
   "metadata": {},
   "source": [
    "#### Проведем для начала предобработку и общий анализ наших данных"
   ]
  },
  {
   "cell_type": "code",
   "execution_count": 4,
   "metadata": {},
   "outputs": [
    {
     "data": {
      "text/plain": [
       "(1000000, 2)"
      ]
     },
     "execution_count": 4,
     "metadata": {},
     "output_type": "execute_result"
    }
   ],
   "source": [
    "df_reg.shape"
   ]
  },
  {
   "cell_type": "code",
   "execution_count": 5,
   "metadata": {},
   "outputs": [
    {
     "data": {
      "text/plain": [
       "(9601013, 2)"
      ]
     },
     "execution_count": 5,
     "metadata": {},
     "output_type": "execute_result"
    }
   ],
   "source": [
    "df_auth.shape"
   ]
  },
  {
   "cell_type": "code",
   "execution_count": 6,
   "metadata": {},
   "outputs": [
    {
     "data": {
      "text/plain": [
       "1000000"
      ]
     },
     "execution_count": 6,
     "metadata": {},
     "output_type": "execute_result"
    }
   ],
   "source": [
    "df_auth.uid.nunique()\n",
    "# проверим уникальные записи, их столько же сколько и в таблице с регистрацией, всё ок"
   ]
  },
  {
   "cell_type": "code",
   "execution_count": 7,
   "metadata": {},
   "outputs": [
    {
     "data": {
      "text/plain": [
       "reg_ts    0\n",
       "uid       0\n",
       "dtype: int64"
      ]
     },
     "execution_count": 7,
     "metadata": {},
     "output_type": "execute_result"
    }
   ],
   "source": [
    "df_reg.isnull().sum()\n",
    "# пропущенных значений нет"
   ]
  },
  {
   "cell_type": "code",
   "execution_count": 8,
   "metadata": {},
   "outputs": [
    {
     "data": {
      "text/plain": [
       "auth_ts    0\n",
       "uid        0\n",
       "dtype: int64"
      ]
     },
     "execution_count": 8,
     "metadata": {},
     "output_type": "execute_result"
    }
   ],
   "source": [
    "df_auth.isnull().sum()\n",
    "# пропущенных значений нет"
   ]
  },
  {
   "cell_type": "code",
   "execution_count": 9,
   "metadata": {},
   "outputs": [
    {
     "data": {
      "text/plain": [
       "reg_ts    int64\n",
       "uid       int64\n",
       "dtype: object"
      ]
     },
     "execution_count": 9,
     "metadata": {},
     "output_type": "execute_result"
    }
   ],
   "source": [
    "# посмотрим на типы данных\n",
    "df_reg.dtypes "
   ]
  },
  {
   "cell_type": "code",
   "execution_count": 10,
   "metadata": {},
   "outputs": [
    {
     "data": {
      "text/plain": [
       "auth_ts    int64\n",
       "uid        int64\n",
       "dtype: object"
      ]
     },
     "execution_count": 10,
     "metadata": {},
     "output_type": "execute_result"
    }
   ],
   "source": [
    "df_auth.dtypes"
   ]
  },
  {
   "cell_type": "code",
   "execution_count": 11,
   "metadata": {},
   "outputs": [
    {
     "data": {
      "text/plain": [
       "0"
      ]
     },
     "execution_count": 11,
     "metadata": {},
     "output_type": "execute_result"
    }
   ],
   "source": [
    "df_reg.duplicated().sum()\n",
    "# проверим на дубликаты"
   ]
  },
  {
   "cell_type": "code",
   "execution_count": 12,
   "metadata": {},
   "outputs": [
    {
     "data": {
      "text/plain": [
       "0"
      ]
     },
     "execution_count": 12,
     "metadata": {},
     "output_type": "execute_result"
    }
   ],
   "source": [
    "df_auth.duplicated().sum()\n",
    "# проверим на дубликаты"
   ]
  },
  {
   "cell_type": "markdown",
   "metadata": {},
   "source": [
    "судя по всему у нас в таблицах используется формат времени ts\n",
    "преобразуем его в обычное время"
   ]
  },
  {
   "cell_type": "code",
   "execution_count": 13,
   "metadata": {},
   "outputs": [
    {
     "data": {
      "text/html": [
       "<div>\n",
       "<style scoped>\n",
       "    .dataframe tbody tr th:only-of-type {\n",
       "        vertical-align: middle;\n",
       "    }\n",
       "\n",
       "    .dataframe tbody tr th {\n",
       "        vertical-align: top;\n",
       "    }\n",
       "\n",
       "    .dataframe thead th {\n",
       "        text-align: right;\n",
       "    }\n",
       "</style>\n",
       "<table border=\"1\" class=\"dataframe\">\n",
       "  <thead>\n",
       "    <tr style=\"text-align: right;\">\n",
       "      <th></th>\n",
       "      <th>reg_ts</th>\n",
       "      <th>uid</th>\n",
       "    </tr>\n",
       "  </thead>\n",
       "  <tbody>\n",
       "    <tr>\n",
       "      <th>0</th>\n",
       "      <td>1998-11-18 12:43:43</td>\n",
       "      <td>1</td>\n",
       "    </tr>\n",
       "    <tr>\n",
       "      <th>1</th>\n",
       "      <td>1999-07-23 02:38:09</td>\n",
       "      <td>2</td>\n",
       "    </tr>\n",
       "    <tr>\n",
       "      <th>2</th>\n",
       "      <td>2000-01-14 01:27:27</td>\n",
       "      <td>3</td>\n",
       "    </tr>\n",
       "    <tr>\n",
       "      <th>3</th>\n",
       "      <td>2000-05-28 18:19:01</td>\n",
       "      <td>4</td>\n",
       "    </tr>\n",
       "    <tr>\n",
       "      <th>4</th>\n",
       "      <td>2000-09-16 15:21:53</td>\n",
       "      <td>5</td>\n",
       "    </tr>\n",
       "  </tbody>\n",
       "</table>\n",
       "</div>"
      ],
      "text/plain": [
       "               reg_ts  uid\n",
       "0 1998-11-18 12:43:43    1\n",
       "1 1999-07-23 02:38:09    2\n",
       "2 2000-01-14 01:27:27    3\n",
       "3 2000-05-28 18:19:01    4\n",
       "4 2000-09-16 15:21:53    5"
      ]
     },
     "execution_count": 13,
     "metadata": {},
     "output_type": "execute_result"
    }
   ],
   "source": [
    "# Преобразование столбца reg_ts в формат времени\n",
    "df_reg['reg_ts'] = df_reg['reg_ts'].apply(lambda x: datetime.datetime.fromtimestamp(x))\n",
    "df_reg.head()"
   ]
  },
  {
   "cell_type": "code",
   "execution_count": 14,
   "metadata": {},
   "outputs": [
    {
     "data": {
      "text/html": [
       "<div>\n",
       "<style scoped>\n",
       "    .dataframe tbody tr th:only-of-type {\n",
       "        vertical-align: middle;\n",
       "    }\n",
       "\n",
       "    .dataframe tbody tr th {\n",
       "        vertical-align: top;\n",
       "    }\n",
       "\n",
       "    .dataframe thead th {\n",
       "        text-align: right;\n",
       "    }\n",
       "</style>\n",
       "<table border=\"1\" class=\"dataframe\">\n",
       "  <thead>\n",
       "    <tr style=\"text-align: right;\">\n",
       "      <th></th>\n",
       "      <th>auth_ts</th>\n",
       "      <th>uid</th>\n",
       "    </tr>\n",
       "  </thead>\n",
       "  <tbody>\n",
       "    <tr>\n",
       "      <th>0</th>\n",
       "      <td>1998-11-18 12:43:43</td>\n",
       "      <td>1</td>\n",
       "    </tr>\n",
       "    <tr>\n",
       "      <th>1</th>\n",
       "      <td>1999-07-23 02:38:09</td>\n",
       "      <td>2</td>\n",
       "    </tr>\n",
       "    <tr>\n",
       "      <th>2</th>\n",
       "      <td>1999-07-25 20:46:46</td>\n",
       "      <td>2</td>\n",
       "    </tr>\n",
       "    <tr>\n",
       "      <th>3</th>\n",
       "      <td>1999-07-31 07:50:15</td>\n",
       "      <td>2</td>\n",
       "    </tr>\n",
       "    <tr>\n",
       "      <th>4</th>\n",
       "      <td>1999-08-05 21:49:39</td>\n",
       "      <td>2</td>\n",
       "    </tr>\n",
       "  </tbody>\n",
       "</table>\n",
       "</div>"
      ],
      "text/plain": [
       "              auth_ts  uid\n",
       "0 1998-11-18 12:43:43    1\n",
       "1 1999-07-23 02:38:09    2\n",
       "2 1999-07-25 20:46:46    2\n",
       "3 1999-07-31 07:50:15    2\n",
       "4 1999-08-05 21:49:39    2"
      ]
     },
     "execution_count": 14,
     "metadata": {},
     "output_type": "execute_result"
    }
   ],
   "source": [
    "# Преобразование столбца reg_ts в формат времени\n",
    "df_auth['auth_ts'] = df_auth['auth_ts'].apply(lambda x: datetime.datetime.fromtimestamp(x))\n",
    "df_auth.head()"
   ]
  },
  {
   "cell_type": "markdown",
   "metadata": {},
   "source": [
    "### Для подсчета Retention будем использовать когортный анализ"
   ]
  },
  {
   "cell_type": "markdown",
   "metadata": {},
   "source": [
    "<div class=\"alert alert-danger\"><br>\n",
    "Перед проведением когортного анализа определяют четыре параметра:<br>\n",
    "\n",
    "Признак формирования когорты — действие, которое объединяет людей в группу:<br>\n",
    "первый визит, покупка, установка, регистрация и т.п.<br>\n",
    "У нас это будет дата регистрации<br>\n",
    "\n",
    "Размер когорты — временной интервал: день, неделя, месяц.<br>\n",
    "У нас это 1 день по условиям задания<br>\n",
    "\n",
    "Отчетный период — время исследования поведения групп.<br>\n",
    "Данны период будет предлагаться выбрать (дата регистрации и конец периода)<br>\n",
    "\n",
    "Анализируемый ключевой показатель: ROI, Retention Rate, LTV и т.д.<br>\n",
    "У нас это Retention Rate - т.е. когда пользователь совершил свой следующий заход (авторизовался) после регистрации<br>\n",
    "</div>"
   ]
  },
  {
   "cell_type": "code",
   "execution_count": 15,
   "metadata": {},
   "outputs": [
    {
     "data": {
      "text/html": [
       "<div>\n",
       "<style scoped>\n",
       "    .dataframe tbody tr th:only-of-type {\n",
       "        vertical-align: middle;\n",
       "    }\n",
       "\n",
       "    .dataframe tbody tr th {\n",
       "        vertical-align: top;\n",
       "    }\n",
       "\n",
       "    .dataframe thead th {\n",
       "        text-align: right;\n",
       "    }\n",
       "</style>\n",
       "<table border=\"1\" class=\"dataframe\">\n",
       "  <thead>\n",
       "    <tr style=\"text-align: right;\">\n",
       "      <th></th>\n",
       "      <th>reg_ts</th>\n",
       "      <th>uid</th>\n",
       "    </tr>\n",
       "  </thead>\n",
       "  <tbody>\n",
       "    <tr>\n",
       "      <th>0</th>\n",
       "      <td>1998-11-18</td>\n",
       "      <td>1</td>\n",
       "    </tr>\n",
       "    <tr>\n",
       "      <th>1</th>\n",
       "      <td>1999-07-23</td>\n",
       "      <td>2</td>\n",
       "    </tr>\n",
       "    <tr>\n",
       "      <th>2</th>\n",
       "      <td>2000-01-14</td>\n",
       "      <td>3</td>\n",
       "    </tr>\n",
       "    <tr>\n",
       "      <th>3</th>\n",
       "      <td>2000-05-28</td>\n",
       "      <td>4</td>\n",
       "    </tr>\n",
       "    <tr>\n",
       "      <th>4</th>\n",
       "      <td>2000-09-16</td>\n",
       "      <td>5</td>\n",
       "    </tr>\n",
       "  </tbody>\n",
       "</table>\n",
       "</div>"
      ],
      "text/plain": [
       "       reg_ts  uid\n",
       "0  1998-11-18    1\n",
       "1  1999-07-23    2\n",
       "2  2000-01-14    3\n",
       "3  2000-05-28    4\n",
       "4  2000-09-16    5"
      ]
     },
     "execution_count": 15,
     "metadata": {},
     "output_type": "execute_result"
    }
   ],
   "source": [
    "# уберем лишнее из дат\n",
    "df_reg['reg_ts'] = df_reg['reg_ts'].dt.strftime('%Y-%m-%d')\n",
    "df_reg.head()"
   ]
  },
  {
   "cell_type": "code",
   "execution_count": 16,
   "metadata": {},
   "outputs": [
    {
     "data": {
      "text/html": [
       "<div>\n",
       "<style scoped>\n",
       "    .dataframe tbody tr th:only-of-type {\n",
       "        vertical-align: middle;\n",
       "    }\n",
       "\n",
       "    .dataframe tbody tr th {\n",
       "        vertical-align: top;\n",
       "    }\n",
       "\n",
       "    .dataframe thead th {\n",
       "        text-align: right;\n",
       "    }\n",
       "</style>\n",
       "<table border=\"1\" class=\"dataframe\">\n",
       "  <thead>\n",
       "    <tr style=\"text-align: right;\">\n",
       "      <th></th>\n",
       "      <th>auth_ts</th>\n",
       "      <th>uid</th>\n",
       "    </tr>\n",
       "  </thead>\n",
       "  <tbody>\n",
       "    <tr>\n",
       "      <th>0</th>\n",
       "      <td>1998-11-18</td>\n",
       "      <td>1</td>\n",
       "    </tr>\n",
       "    <tr>\n",
       "      <th>1</th>\n",
       "      <td>1999-07-23</td>\n",
       "      <td>2</td>\n",
       "    </tr>\n",
       "    <tr>\n",
       "      <th>2</th>\n",
       "      <td>1999-07-25</td>\n",
       "      <td>2</td>\n",
       "    </tr>\n",
       "    <tr>\n",
       "      <th>3</th>\n",
       "      <td>1999-07-31</td>\n",
       "      <td>2</td>\n",
       "    </tr>\n",
       "    <tr>\n",
       "      <th>4</th>\n",
       "      <td>1999-08-05</td>\n",
       "      <td>2</td>\n",
       "    </tr>\n",
       "  </tbody>\n",
       "</table>\n",
       "</div>"
      ],
      "text/plain": [
       "      auth_ts  uid\n",
       "0  1998-11-18    1\n",
       "1  1999-07-23    2\n",
       "2  1999-07-25    2\n",
       "3  1999-07-31    2\n",
       "4  1999-08-05    2"
      ]
     },
     "execution_count": 16,
     "metadata": {},
     "output_type": "execute_result"
    }
   ],
   "source": [
    "df_auth['auth_ts'] = df_auth['auth_ts'].dt.strftime('%Y-%m-%d')\n",
    "df_auth.head()"
   ]
  },
  {
   "cell_type": "code",
   "execution_count": 17,
   "metadata": {},
   "outputs": [
    {
     "data": {
      "text/plain": [
       "'2020-09-23'"
      ]
     },
     "execution_count": 17,
     "metadata": {},
     "output_type": "execute_result"
    }
   ],
   "source": [
    "# последняя дата в таблице с регистрациями \n",
    "df_reg.reg_ts.max()"
   ]
  },
  {
   "cell_type": "code",
   "execution_count": 18,
   "metadata": {},
   "outputs": [
    {
     "data": {
      "text/html": [
       "<div>\n",
       "<style scoped>\n",
       "    .dataframe tbody tr th:only-of-type {\n",
       "        vertical-align: middle;\n",
       "    }\n",
       "\n",
       "    .dataframe tbody tr th {\n",
       "        vertical-align: top;\n",
       "    }\n",
       "\n",
       "    .dataframe thead th {\n",
       "        text-align: right;\n",
       "    }\n",
       "</style>\n",
       "<table border=\"1\" class=\"dataframe\">\n",
       "  <thead>\n",
       "    <tr style=\"text-align: right;\">\n",
       "      <th></th>\n",
       "      <th>reg_ts</th>\n",
       "      <th>uid</th>\n",
       "    </tr>\n",
       "  </thead>\n",
       "  <tbody>\n",
       "    <tr>\n",
       "      <th>963262</th>\n",
       "      <td>2020-09-01</td>\n",
       "      <td>1069810</td>\n",
       "    </tr>\n",
       "    <tr>\n",
       "      <th>963263</th>\n",
       "      <td>2020-09-01</td>\n",
       "      <td>1069811</td>\n",
       "    </tr>\n",
       "    <tr>\n",
       "      <th>963264</th>\n",
       "      <td>2020-09-01</td>\n",
       "      <td>1069812</td>\n",
       "    </tr>\n",
       "    <tr>\n",
       "      <th>963265</th>\n",
       "      <td>2020-09-01</td>\n",
       "      <td>1069813</td>\n",
       "    </tr>\n",
       "    <tr>\n",
       "      <th>963266</th>\n",
       "      <td>2020-09-01</td>\n",
       "      <td>1069814</td>\n",
       "    </tr>\n",
       "  </tbody>\n",
       "</table>\n",
       "</div>"
      ],
      "text/plain": [
       "            reg_ts      uid\n",
       "963262  2020-09-01  1069810\n",
       "963263  2020-09-01  1069811\n",
       "963264  2020-09-01  1069812\n",
       "963265  2020-09-01  1069813\n",
       "963266  2020-09-01  1069814"
      ]
     },
     "execution_count": 18,
     "metadata": {},
     "output_type": "execute_result"
    }
   ],
   "source": [
    "# для предварительного когортного анализа оставим данные только за последний месяц, чтобы сократить вычисления\n",
    "df_test_reg =  df_reg.query('reg_ts >= \"2020-09-01\"')\n",
    "df_test_reg.head()"
   ]
  },
  {
   "cell_type": "code",
   "execution_count": 19,
   "metadata": {},
   "outputs": [
    {
     "data": {
      "text/html": [
       "<div>\n",
       "<style scoped>\n",
       "    .dataframe tbody tr th:only-of-type {\n",
       "        vertical-align: middle;\n",
       "    }\n",
       "\n",
       "    .dataframe tbody tr th {\n",
       "        vertical-align: top;\n",
       "    }\n",
       "\n",
       "    .dataframe thead th {\n",
       "        text-align: right;\n",
       "    }\n",
       "</style>\n",
       "<table border=\"1\" class=\"dataframe\">\n",
       "  <thead>\n",
       "    <tr style=\"text-align: right;\">\n",
       "      <th></th>\n",
       "      <th>auth_ts</th>\n",
       "      <th>uid</th>\n",
       "    </tr>\n",
       "  </thead>\n",
       "  <tbody>\n",
       "    <tr>\n",
       "      <th>9247286</th>\n",
       "      <td>2020-09-01</td>\n",
       "      <td>737562</td>\n",
       "    </tr>\n",
       "    <tr>\n",
       "      <th>9247287</th>\n",
       "      <td>2020-09-01</td>\n",
       "      <td>376336</td>\n",
       "    </tr>\n",
       "    <tr>\n",
       "      <th>9247288</th>\n",
       "      <td>2020-09-01</td>\n",
       "      <td>1069810</td>\n",
       "    </tr>\n",
       "    <tr>\n",
       "      <th>9247289</th>\n",
       "      <td>2020-09-01</td>\n",
       "      <td>13791</td>\n",
       "    </tr>\n",
       "    <tr>\n",
       "      <th>9247290</th>\n",
       "      <td>2020-09-01</td>\n",
       "      <td>807646</td>\n",
       "    </tr>\n",
       "  </tbody>\n",
       "</table>\n",
       "</div>"
      ],
      "text/plain": [
       "            auth_ts      uid\n",
       "9247286  2020-09-01   737562\n",
       "9247287  2020-09-01   376336\n",
       "9247288  2020-09-01  1069810\n",
       "9247289  2020-09-01    13791\n",
       "9247290  2020-09-01   807646"
      ]
     },
     "execution_count": 19,
     "metadata": {},
     "output_type": "execute_result"
    }
   ],
   "source": [
    "df_test_auth =  df_auth.query('auth_ts >= \"2020-09-01\"')\n",
    "df_test_auth.head()"
   ]
  },
  {
   "cell_type": "code",
   "execution_count": 20,
   "metadata": {},
   "outputs": [
    {
     "data": {
      "text/html": [
       "<div>\n",
       "<style scoped>\n",
       "    .dataframe tbody tr th:only-of-type {\n",
       "        vertical-align: middle;\n",
       "    }\n",
       "\n",
       "    .dataframe tbody tr th {\n",
       "        vertical-align: top;\n",
       "    }\n",
       "\n",
       "    .dataframe thead th {\n",
       "        text-align: right;\n",
       "    }\n",
       "</style>\n",
       "<table border=\"1\" class=\"dataframe\">\n",
       "  <thead>\n",
       "    <tr style=\"text-align: right;\">\n",
       "      <th></th>\n",
       "      <th>reg_ts</th>\n",
       "      <th>uid</th>\n",
       "      <th>auth_ts</th>\n",
       "    </tr>\n",
       "  </thead>\n",
       "  <tbody>\n",
       "    <tr>\n",
       "      <th>0</th>\n",
       "      <td>2020-09-01</td>\n",
       "      <td>1069810</td>\n",
       "      <td>2020-09-01</td>\n",
       "    </tr>\n",
       "    <tr>\n",
       "      <th>1</th>\n",
       "      <td>2020-09-01</td>\n",
       "      <td>1069810</td>\n",
       "      <td>2020-09-02</td>\n",
       "    </tr>\n",
       "    <tr>\n",
       "      <th>2</th>\n",
       "      <td>2020-09-01</td>\n",
       "      <td>1069810</td>\n",
       "      <td>2020-09-04</td>\n",
       "    </tr>\n",
       "    <tr>\n",
       "      <th>3</th>\n",
       "      <td>2020-09-01</td>\n",
       "      <td>1069811</td>\n",
       "      <td>2020-09-01</td>\n",
       "    </tr>\n",
       "    <tr>\n",
       "      <th>4</th>\n",
       "      <td>2020-09-01</td>\n",
       "      <td>1069811</td>\n",
       "      <td>2020-09-07</td>\n",
       "    </tr>\n",
       "  </tbody>\n",
       "</table>\n",
       "</div>"
      ],
      "text/plain": [
       "       reg_ts      uid     auth_ts\n",
       "0  2020-09-01  1069810  2020-09-01\n",
       "1  2020-09-01  1069810  2020-09-02\n",
       "2  2020-09-01  1069810  2020-09-04\n",
       "3  2020-09-01  1069811  2020-09-01\n",
       "4  2020-09-01  1069811  2020-09-07"
      ]
     },
     "execution_count": 20,
     "metadata": {},
     "output_type": "execute_result"
    }
   ],
   "source": [
    "# объединяем таблицы\n",
    "retention_table = pd.merge(df_test_reg, df_test_auth, on='uid') \n",
    "retention_table.head()"
   ]
  },
  {
   "cell_type": "code",
   "execution_count": 21,
   "metadata": {},
   "outputs": [
    {
     "data": {
      "text/html": [
       "<div>\n",
       "<style scoped>\n",
       "    .dataframe tbody tr th:only-of-type {\n",
       "        vertical-align: middle;\n",
       "    }\n",
       "\n",
       "    .dataframe tbody tr th {\n",
       "        vertical-align: top;\n",
       "    }\n",
       "\n",
       "    .dataframe thead th {\n",
       "        text-align: right;\n",
       "    }\n",
       "</style>\n",
       "<table border=\"1\" class=\"dataframe\">\n",
       "  <thead>\n",
       "    <tr style=\"text-align: right;\">\n",
       "      <th></th>\n",
       "      <th>reg_ts</th>\n",
       "      <th>uid</th>\n",
       "      <th>auth_ts</th>\n",
       "    </tr>\n",
       "  </thead>\n",
       "  <tbody>\n",
       "    <tr>\n",
       "      <th>0</th>\n",
       "      <td>2020-09-01</td>\n",
       "      <td>1069810</td>\n",
       "      <td>2020-09-01</td>\n",
       "    </tr>\n",
       "    <tr>\n",
       "      <th>1</th>\n",
       "      <td>2020-09-01</td>\n",
       "      <td>1069810</td>\n",
       "      <td>2020-09-02</td>\n",
       "    </tr>\n",
       "    <tr>\n",
       "      <th>2</th>\n",
       "      <td>2020-09-01</td>\n",
       "      <td>1069810</td>\n",
       "      <td>2020-09-04</td>\n",
       "    </tr>\n",
       "    <tr>\n",
       "      <th>3</th>\n",
       "      <td>2020-09-01</td>\n",
       "      <td>1069811</td>\n",
       "      <td>2020-09-01</td>\n",
       "    </tr>\n",
       "    <tr>\n",
       "      <th>4</th>\n",
       "      <td>2020-09-01</td>\n",
       "      <td>1069811</td>\n",
       "      <td>2020-09-07</td>\n",
       "    </tr>\n",
       "    <tr>\n",
       "      <th>...</th>\n",
       "      <td>...</td>\n",
       "      <td>...</td>\n",
       "      <td>...</td>\n",
       "    </tr>\n",
       "    <tr>\n",
       "      <th>56218</th>\n",
       "      <td>2020-09-23</td>\n",
       "      <td>1110618</td>\n",
       "      <td>2020-09-23</td>\n",
       "    </tr>\n",
       "    <tr>\n",
       "      <th>56219</th>\n",
       "      <td>2020-09-23</td>\n",
       "      <td>1110619</td>\n",
       "      <td>2020-09-23</td>\n",
       "    </tr>\n",
       "    <tr>\n",
       "      <th>56220</th>\n",
       "      <td>2020-09-23</td>\n",
       "      <td>1110620</td>\n",
       "      <td>2020-09-23</td>\n",
       "    </tr>\n",
       "    <tr>\n",
       "      <th>56221</th>\n",
       "      <td>2020-09-23</td>\n",
       "      <td>1110621</td>\n",
       "      <td>2020-09-23</td>\n",
       "    </tr>\n",
       "    <tr>\n",
       "      <th>56222</th>\n",
       "      <td>2020-09-23</td>\n",
       "      <td>1110622</td>\n",
       "      <td>2020-09-23</td>\n",
       "    </tr>\n",
       "  </tbody>\n",
       "</table>\n",
       "<p>56223 rows × 3 columns</p>\n",
       "</div>"
      ],
      "text/plain": [
       "           reg_ts      uid     auth_ts\n",
       "0      2020-09-01  1069810  2020-09-01\n",
       "1      2020-09-01  1069810  2020-09-02\n",
       "2      2020-09-01  1069810  2020-09-04\n",
       "3      2020-09-01  1069811  2020-09-01\n",
       "4      2020-09-01  1069811  2020-09-07\n",
       "...           ...      ...         ...\n",
       "56218  2020-09-23  1110618  2020-09-23\n",
       "56219  2020-09-23  1110619  2020-09-23\n",
       "56220  2020-09-23  1110620  2020-09-23\n",
       "56221  2020-09-23  1110621  2020-09-23\n",
       "56222  2020-09-23  1110622  2020-09-23\n",
       "\n",
       "[56223 rows x 3 columns]"
      ]
     },
     "execution_count": 21,
     "metadata": {},
     "output_type": "execute_result"
    }
   ],
   "source": [
    "# остортируем в порядке возрастания \n",
    "retention_table.sort_values(['reg_ts', 'uid'])\n",
    "retention_table"
   ]
  },
  {
   "cell_type": "code",
   "execution_count": 22,
   "metadata": {},
   "outputs": [
    {
     "data": {
      "text/plain": [
       "reg_ts     object\n",
       "uid         int64\n",
       "auth_ts    object\n",
       "dtype: object"
      ]
     },
     "execution_count": 22,
     "metadata": {},
     "output_type": "execute_result"
    }
   ],
   "source": [
    "# проверим типы данных \n",
    "retention_table.dtypes"
   ]
  },
  {
   "cell_type": "code",
   "execution_count": 23,
   "metadata": {},
   "outputs": [],
   "source": [
    "# Задаем дату для расчета retention, например 10 сентября 2020 года\n",
    "start_period = \"2020-09-10\"\n",
    "# Преобразование строки в объект datetime\n",
    "start_period_dt = datetime.datetime.strptime(start_period, '%Y-%m-%d')\n",
    "# Форматирование даты в нужный формат\n",
    "start_period_formatted = start_period_dt.strftime('%Y-%m-%d')\n",
    "# Возьмем период для расчета retention в 10 дней\n",
    "end_period = \"2020-09-20\"\n",
    "end_period_dt = datetime.datetime.strptime(end_period, '%Y-%m-%d')\n",
    "end_period_formatted = end_period_dt.strftime('%Y-%m-%d')"
   ]
  },
  {
   "cell_type": "code",
   "execution_count": 24,
   "metadata": {},
   "outputs": [
    {
     "data": {
      "text/html": [
       "<div>\n",
       "<style scoped>\n",
       "    .dataframe tbody tr th:only-of-type {\n",
       "        vertical-align: middle;\n",
       "    }\n",
       "\n",
       "    .dataframe tbody tr th {\n",
       "        vertical-align: top;\n",
       "    }\n",
       "\n",
       "    .dataframe thead th {\n",
       "        text-align: right;\n",
       "    }\n",
       "</style>\n",
       "<table border=\"1\" class=\"dataframe\">\n",
       "  <thead>\n",
       "    <tr style=\"text-align: right;\">\n",
       "      <th></th>\n",
       "      <th>reg_ts</th>\n",
       "      <th>uid</th>\n",
       "      <th>auth_ts</th>\n",
       "    </tr>\n",
       "  </thead>\n",
       "  <tbody>\n",
       "    <tr>\n",
       "      <th>27126</th>\n",
       "      <td>2020-09-10</td>\n",
       "      <td>1085739</td>\n",
       "      <td>2020-09-10</td>\n",
       "    </tr>\n",
       "    <tr>\n",
       "      <th>27127</th>\n",
       "      <td>2020-09-10</td>\n",
       "      <td>1085740</td>\n",
       "      <td>2020-09-10</td>\n",
       "    </tr>\n",
       "    <tr>\n",
       "      <th>27128</th>\n",
       "      <td>2020-09-10</td>\n",
       "      <td>1085741</td>\n",
       "      <td>2020-09-10</td>\n",
       "    </tr>\n",
       "    <tr>\n",
       "      <th>27129</th>\n",
       "      <td>2020-09-10</td>\n",
       "      <td>1085742</td>\n",
       "      <td>2020-09-10</td>\n",
       "    </tr>\n",
       "    <tr>\n",
       "      <th>27130</th>\n",
       "      <td>2020-09-10</td>\n",
       "      <td>1085744</td>\n",
       "      <td>2020-09-10</td>\n",
       "    </tr>\n",
       "    <tr>\n",
       "      <th>...</th>\n",
       "      <td>...</td>\n",
       "      <td>...</td>\n",
       "      <td>...</td>\n",
       "    </tr>\n",
       "    <tr>\n",
       "      <th>51582</th>\n",
       "      <td>2020-09-20</td>\n",
       "      <td>1105556</td>\n",
       "      <td>2020-09-20</td>\n",
       "    </tr>\n",
       "    <tr>\n",
       "      <th>51583</th>\n",
       "      <td>2020-09-20</td>\n",
       "      <td>1105556</td>\n",
       "      <td>2020-09-23</td>\n",
       "    </tr>\n",
       "    <tr>\n",
       "      <th>51584</th>\n",
       "      <td>2020-09-20</td>\n",
       "      <td>1105557</td>\n",
       "      <td>2020-09-20</td>\n",
       "    </tr>\n",
       "    <tr>\n",
       "      <th>51585</th>\n",
       "      <td>2020-09-20</td>\n",
       "      <td>1105558</td>\n",
       "      <td>2020-09-20</td>\n",
       "    </tr>\n",
       "    <tr>\n",
       "      <th>51586</th>\n",
       "      <td>2020-09-20</td>\n",
       "      <td>1105559</td>\n",
       "      <td>2020-09-20</td>\n",
       "    </tr>\n",
       "  </tbody>\n",
       "</table>\n",
       "<p>24461 rows × 3 columns</p>\n",
       "</div>"
      ],
      "text/plain": [
       "           reg_ts      uid     auth_ts\n",
       "27126  2020-09-10  1085739  2020-09-10\n",
       "27127  2020-09-10  1085740  2020-09-10\n",
       "27128  2020-09-10  1085741  2020-09-10\n",
       "27129  2020-09-10  1085742  2020-09-10\n",
       "27130  2020-09-10  1085744  2020-09-10\n",
       "...           ...      ...         ...\n",
       "51582  2020-09-20  1105556  2020-09-20\n",
       "51583  2020-09-20  1105556  2020-09-23\n",
       "51584  2020-09-20  1105557  2020-09-20\n",
       "51585  2020-09-20  1105558  2020-09-20\n",
       "51586  2020-09-20  1105559  2020-09-20\n",
       "\n",
       "[24461 rows x 3 columns]"
      ]
     },
     "execution_count": 24,
     "metadata": {},
     "output_type": "execute_result"
    }
   ],
   "source": [
    "# оставляем нужные нам данные \n",
    "retention_table = retention_table[(retention_table['reg_ts'] >= start_period_formatted) & (retention_table['reg_ts'] <= end_period_formatted)]\n",
    "retention_table"
   ]
  },
  {
   "cell_type": "code",
   "execution_count": 25,
   "metadata": {},
   "outputs": [
    {
     "data": {
      "text/html": [
       "<div>\n",
       "<style scoped>\n",
       "    .dataframe tbody tr th:only-of-type {\n",
       "        vertical-align: middle;\n",
       "    }\n",
       "\n",
       "    .dataframe tbody tr th {\n",
       "        vertical-align: top;\n",
       "    }\n",
       "\n",
       "    .dataframe thead th {\n",
       "        text-align: right;\n",
       "    }\n",
       "</style>\n",
       "<table border=\"1\" class=\"dataframe\">\n",
       "  <thead>\n",
       "    <tr style=\"text-align: right;\">\n",
       "      <th></th>\n",
       "      <th>reg_ts</th>\n",
       "      <th>auth_ts</th>\n",
       "      <th>uid</th>\n",
       "    </tr>\n",
       "  </thead>\n",
       "  <tbody>\n",
       "    <tr>\n",
       "      <th>0</th>\n",
       "      <td>2020-09-10</td>\n",
       "      <td>2020-09-10</td>\n",
       "      <td>1609</td>\n",
       "    </tr>\n",
       "    <tr>\n",
       "      <th>1</th>\n",
       "      <td>2020-09-10</td>\n",
       "      <td>2020-09-11</td>\n",
       "      <td>29</td>\n",
       "    </tr>\n",
       "    <tr>\n",
       "      <th>2</th>\n",
       "      <td>2020-09-10</td>\n",
       "      <td>2020-09-12</td>\n",
       "      <td>71</td>\n",
       "    </tr>\n",
       "    <tr>\n",
       "      <th>3</th>\n",
       "      <td>2020-09-10</td>\n",
       "      <td>2020-09-13</td>\n",
       "      <td>74</td>\n",
       "    </tr>\n",
       "    <tr>\n",
       "      <th>4</th>\n",
       "      <td>2020-09-10</td>\n",
       "      <td>2020-09-14</td>\n",
       "      <td>70</td>\n",
       "    </tr>\n",
       "    <tr>\n",
       "      <th>...</th>\n",
       "      <td>...</td>\n",
       "      <td>...</td>\n",
       "      <td>...</td>\n",
       "    </tr>\n",
       "    <tr>\n",
       "      <th>94</th>\n",
       "      <td>2020-09-19</td>\n",
       "      <td>2020-09-23</td>\n",
       "      <td>67</td>\n",
       "    </tr>\n",
       "    <tr>\n",
       "      <th>95</th>\n",
       "      <td>2020-09-20</td>\n",
       "      <td>2020-09-20</td>\n",
       "      <td>1636</td>\n",
       "    </tr>\n",
       "    <tr>\n",
       "      <th>96</th>\n",
       "      <td>2020-09-20</td>\n",
       "      <td>2020-09-21</td>\n",
       "      <td>38</td>\n",
       "    </tr>\n",
       "    <tr>\n",
       "      <th>97</th>\n",
       "      <td>2020-09-20</td>\n",
       "      <td>2020-09-22</td>\n",
       "      <td>71</td>\n",
       "    </tr>\n",
       "    <tr>\n",
       "      <th>98</th>\n",
       "      <td>2020-09-20</td>\n",
       "      <td>2020-09-23</td>\n",
       "      <td>57</td>\n",
       "    </tr>\n",
       "  </tbody>\n",
       "</table>\n",
       "<p>99 rows × 3 columns</p>\n",
       "</div>"
      ],
      "text/plain": [
       "        reg_ts     auth_ts   uid\n",
       "0   2020-09-10  2020-09-10  1609\n",
       "1   2020-09-10  2020-09-11    29\n",
       "2   2020-09-10  2020-09-12    71\n",
       "3   2020-09-10  2020-09-13    74\n",
       "4   2020-09-10  2020-09-14    70\n",
       "..         ...         ...   ...\n",
       "94  2020-09-19  2020-09-23    67\n",
       "95  2020-09-20  2020-09-20  1636\n",
       "96  2020-09-20  2020-09-21    38\n",
       "97  2020-09-20  2020-09-22    71\n",
       "98  2020-09-20  2020-09-23    57\n",
       "\n",
       "[99 rows x 3 columns]"
      ]
     },
     "execution_count": 25,
     "metadata": {},
     "output_type": "execute_result"
    }
   ],
   "source": [
    "# группируем данные по дате регистрации и дате авторизации, \n",
    "# считаем число уникальных пользователей ( одна авторизация от пользователя)\n",
    "# т.е. смотрим  для каждой даты регистрации в какие дни пользователи делали заходы в игру и сколько таких пользователей было\n",
    "retention_table = retention_table.groupby(['reg_ts','auth_ts'],  as_index=False)\\\n",
    "                                   .agg({'uid':'nunique'})\n",
    "retention_table"
   ]
  },
  {
   "cell_type": "code",
   "execution_count": 26,
   "metadata": {},
   "outputs": [
    {
     "data": {
      "text/html": [
       "<div>\n",
       "<style scoped>\n",
       "    .dataframe tbody tr th:only-of-type {\n",
       "        vertical-align: middle;\n",
       "    }\n",
       "\n",
       "    .dataframe tbody tr th {\n",
       "        vertical-align: top;\n",
       "    }\n",
       "\n",
       "    .dataframe thead th {\n",
       "        text-align: right;\n",
       "    }\n",
       "</style>\n",
       "<table border=\"1\" class=\"dataframe\">\n",
       "  <thead>\n",
       "    <tr style=\"text-align: right;\">\n",
       "      <th></th>\n",
       "      <th>reg_ts</th>\n",
       "      <th>auth_ts</th>\n",
       "      <th>uid</th>\n",
       "      <th>cogort_period</th>\n",
       "    </tr>\n",
       "  </thead>\n",
       "  <tbody>\n",
       "    <tr>\n",
       "      <th>0</th>\n",
       "      <td>2020-09-10</td>\n",
       "      <td>2020-09-10</td>\n",
       "      <td>1609</td>\n",
       "      <td>0</td>\n",
       "    </tr>\n",
       "    <tr>\n",
       "      <th>1</th>\n",
       "      <td>2020-09-10</td>\n",
       "      <td>2020-09-11</td>\n",
       "      <td>29</td>\n",
       "      <td>1</td>\n",
       "    </tr>\n",
       "    <tr>\n",
       "      <th>2</th>\n",
       "      <td>2020-09-10</td>\n",
       "      <td>2020-09-12</td>\n",
       "      <td>71</td>\n",
       "      <td>2</td>\n",
       "    </tr>\n",
       "    <tr>\n",
       "      <th>3</th>\n",
       "      <td>2020-09-10</td>\n",
       "      <td>2020-09-13</td>\n",
       "      <td>74</td>\n",
       "      <td>3</td>\n",
       "    </tr>\n",
       "    <tr>\n",
       "      <th>4</th>\n",
       "      <td>2020-09-10</td>\n",
       "      <td>2020-09-14</td>\n",
       "      <td>70</td>\n",
       "      <td>4</td>\n",
       "    </tr>\n",
       "    <tr>\n",
       "      <th>...</th>\n",
       "      <td>...</td>\n",
       "      <td>...</td>\n",
       "      <td>...</td>\n",
       "      <td>...</td>\n",
       "    </tr>\n",
       "    <tr>\n",
       "      <th>94</th>\n",
       "      <td>2020-09-19</td>\n",
       "      <td>2020-09-23</td>\n",
       "      <td>67</td>\n",
       "      <td>4</td>\n",
       "    </tr>\n",
       "    <tr>\n",
       "      <th>95</th>\n",
       "      <td>2020-09-20</td>\n",
       "      <td>2020-09-20</td>\n",
       "      <td>1636</td>\n",
       "      <td>0</td>\n",
       "    </tr>\n",
       "    <tr>\n",
       "      <th>96</th>\n",
       "      <td>2020-09-20</td>\n",
       "      <td>2020-09-21</td>\n",
       "      <td>38</td>\n",
       "      <td>1</td>\n",
       "    </tr>\n",
       "    <tr>\n",
       "      <th>97</th>\n",
       "      <td>2020-09-20</td>\n",
       "      <td>2020-09-22</td>\n",
       "      <td>71</td>\n",
       "      <td>2</td>\n",
       "    </tr>\n",
       "    <tr>\n",
       "      <th>98</th>\n",
       "      <td>2020-09-20</td>\n",
       "      <td>2020-09-23</td>\n",
       "      <td>57</td>\n",
       "      <td>3</td>\n",
       "    </tr>\n",
       "  </tbody>\n",
       "</table>\n",
       "<p>99 rows × 4 columns</p>\n",
       "</div>"
      ],
      "text/plain": [
       "        reg_ts     auth_ts   uid  cogort_period\n",
       "0   2020-09-10  2020-09-10  1609              0\n",
       "1   2020-09-10  2020-09-11    29              1\n",
       "2   2020-09-10  2020-09-12    71              2\n",
       "3   2020-09-10  2020-09-13    74              3\n",
       "4   2020-09-10  2020-09-14    70              4\n",
       "..         ...         ...   ...            ...\n",
       "94  2020-09-19  2020-09-23    67              4\n",
       "95  2020-09-20  2020-09-20  1636              0\n",
       "96  2020-09-20  2020-09-21    38              1\n",
       "97  2020-09-20  2020-09-22    71              2\n",
       "98  2020-09-20  2020-09-23    57              3\n",
       "\n",
       "[99 rows x 4 columns]"
      ]
     },
     "execution_count": 26,
     "metadata": {},
     "output_type": "execute_result"
    }
   ],
   "source": [
    "# посчитаем для каждого строки период когорты - разницу между авторизацией и регистрацией\n",
    "retention_table['cogort_period'] = (pd.to_datetime(retention_table['auth_ts']) - pd.to_datetime(retention_table['reg_ts'])).dt.days\n",
    "retention_table\n"
   ]
  },
  {
   "cell_type": "code",
   "execution_count": 27,
   "metadata": {},
   "outputs": [
    {
     "data": {
      "text/html": [
       "<div>\n",
       "<style scoped>\n",
       "    .dataframe tbody tr th:only-of-type {\n",
       "        vertical-align: middle;\n",
       "    }\n",
       "\n",
       "    .dataframe tbody tr th {\n",
       "        vertical-align: top;\n",
       "    }\n",
       "\n",
       "    .dataframe thead th {\n",
       "        text-align: right;\n",
       "    }\n",
       "</style>\n",
       "<table border=\"1\" class=\"dataframe\">\n",
       "  <thead>\n",
       "    <tr style=\"text-align: right;\">\n",
       "      <th></th>\n",
       "      <th>reg_ts</th>\n",
       "      <th>auth_ts</th>\n",
       "      <th>uid</th>\n",
       "      <th>cogort_period</th>\n",
       "    </tr>\n",
       "  </thead>\n",
       "  <tbody>\n",
       "    <tr>\n",
       "      <th>0</th>\n",
       "      <td>2020-09-10</td>\n",
       "      <td>2020-09-10</td>\n",
       "      <td>1609</td>\n",
       "      <td>0</td>\n",
       "    </tr>\n",
       "    <tr>\n",
       "      <th>1</th>\n",
       "      <td>2020-09-10</td>\n",
       "      <td>2020-09-11</td>\n",
       "      <td>29</td>\n",
       "      <td>1</td>\n",
       "    </tr>\n",
       "    <tr>\n",
       "      <th>2</th>\n",
       "      <td>2020-09-10</td>\n",
       "      <td>2020-09-12</td>\n",
       "      <td>71</td>\n",
       "      <td>2</td>\n",
       "    </tr>\n",
       "    <tr>\n",
       "      <th>3</th>\n",
       "      <td>2020-09-10</td>\n",
       "      <td>2020-09-13</td>\n",
       "      <td>74</td>\n",
       "      <td>3</td>\n",
       "    </tr>\n",
       "    <tr>\n",
       "      <th>4</th>\n",
       "      <td>2020-09-10</td>\n",
       "      <td>2020-09-14</td>\n",
       "      <td>70</td>\n",
       "      <td>4</td>\n",
       "    </tr>\n",
       "    <tr>\n",
       "      <th>...</th>\n",
       "      <td>...</td>\n",
       "      <td>...</td>\n",
       "      <td>...</td>\n",
       "      <td>...</td>\n",
       "    </tr>\n",
       "    <tr>\n",
       "      <th>94</th>\n",
       "      <td>2020-09-19</td>\n",
       "      <td>2020-09-23</td>\n",
       "      <td>67</td>\n",
       "      <td>4</td>\n",
       "    </tr>\n",
       "    <tr>\n",
       "      <th>95</th>\n",
       "      <td>2020-09-20</td>\n",
       "      <td>2020-09-20</td>\n",
       "      <td>1636</td>\n",
       "      <td>0</td>\n",
       "    </tr>\n",
       "    <tr>\n",
       "      <th>96</th>\n",
       "      <td>2020-09-20</td>\n",
       "      <td>2020-09-21</td>\n",
       "      <td>38</td>\n",
       "      <td>1</td>\n",
       "    </tr>\n",
       "    <tr>\n",
       "      <th>97</th>\n",
       "      <td>2020-09-20</td>\n",
       "      <td>2020-09-22</td>\n",
       "      <td>71</td>\n",
       "      <td>2</td>\n",
       "    </tr>\n",
       "    <tr>\n",
       "      <th>98</th>\n",
       "      <td>2020-09-20</td>\n",
       "      <td>2020-09-23</td>\n",
       "      <td>57</td>\n",
       "      <td>3</td>\n",
       "    </tr>\n",
       "  </tbody>\n",
       "</table>\n",
       "<p>93 rows × 4 columns</p>\n",
       "</div>"
      ],
      "text/plain": [
       "        reg_ts     auth_ts   uid  cogort_period\n",
       "0   2020-09-10  2020-09-10  1609              0\n",
       "1   2020-09-10  2020-09-11    29              1\n",
       "2   2020-09-10  2020-09-12    71              2\n",
       "3   2020-09-10  2020-09-13    74              3\n",
       "4   2020-09-10  2020-09-14    70              4\n",
       "..         ...         ...   ...            ...\n",
       "94  2020-09-19  2020-09-23    67              4\n",
       "95  2020-09-20  2020-09-20  1636              0\n",
       "96  2020-09-20  2020-09-21    38              1\n",
       "97  2020-09-20  2020-09-22    71              2\n",
       "98  2020-09-20  2020-09-23    57              3\n",
       "\n",
       "[93 rows x 4 columns]"
      ]
     },
     "execution_count": 27,
     "metadata": {},
     "output_type": "execute_result"
    }
   ],
   "source": [
    "# также сделаем период когорты не больше, чем рассматриваемый период регистраций юзеров (пригодится в дальнейшем для ровной таблички)\n",
    "retention_table = retention_table[retention_table['cogort_period'] <= (end_period_dt - start_period_dt).days]\n",
    "retention_table\n"
   ]
  },
  {
   "cell_type": "code",
   "execution_count": 28,
   "metadata": {},
   "outputs": [
    {
     "data": {
      "text/html": [
       "<div>\n",
       "<style scoped>\n",
       "    .dataframe tbody tr th:only-of-type {\n",
       "        vertical-align: middle;\n",
       "    }\n",
       "\n",
       "    .dataframe tbody tr th {\n",
       "        vertical-align: top;\n",
       "    }\n",
       "\n",
       "    .dataframe thead th {\n",
       "        text-align: right;\n",
       "    }\n",
       "</style>\n",
       "<table border=\"1\" class=\"dataframe\">\n",
       "  <thead>\n",
       "    <tr style=\"text-align: right;\">\n",
       "      <th>cogort_period</th>\n",
       "      <th>0</th>\n",
       "      <th>1</th>\n",
       "      <th>2</th>\n",
       "      <th>3</th>\n",
       "      <th>4</th>\n",
       "      <th>5</th>\n",
       "      <th>6</th>\n",
       "      <th>7</th>\n",
       "      <th>8</th>\n",
       "      <th>9</th>\n",
       "      <th>10</th>\n",
       "    </tr>\n",
       "    <tr>\n",
       "      <th>reg_ts</th>\n",
       "      <th></th>\n",
       "      <th></th>\n",
       "      <th></th>\n",
       "      <th></th>\n",
       "      <th></th>\n",
       "      <th></th>\n",
       "      <th></th>\n",
       "      <th></th>\n",
       "      <th></th>\n",
       "      <th></th>\n",
       "      <th></th>\n",
       "    </tr>\n",
       "  </thead>\n",
       "  <tbody>\n",
       "    <tr>\n",
       "      <th>2020-09-10</th>\n",
       "      <td>1609.0</td>\n",
       "      <td>29.0</td>\n",
       "      <td>71.0</td>\n",
       "      <td>74.0</td>\n",
       "      <td>70.0</td>\n",
       "      <td>112.0</td>\n",
       "      <td>93.0</td>\n",
       "      <td>110.0</td>\n",
       "      <td>80.0</td>\n",
       "      <td>66.0</td>\n",
       "      <td>98.0</td>\n",
       "    </tr>\n",
       "    <tr>\n",
       "      <th>2020-09-11</th>\n",
       "      <td>1611.0</td>\n",
       "      <td>23.0</td>\n",
       "      <td>64.0</td>\n",
       "      <td>63.0</td>\n",
       "      <td>99.0</td>\n",
       "      <td>102.0</td>\n",
       "      <td>111.0</td>\n",
       "      <td>101.0</td>\n",
       "      <td>79.0</td>\n",
       "      <td>63.0</td>\n",
       "      <td>90.0</td>\n",
       "    </tr>\n",
       "    <tr>\n",
       "      <th>2020-09-12</th>\n",
       "      <td>1614.0</td>\n",
       "      <td>29.0</td>\n",
       "      <td>66.0</td>\n",
       "      <td>64.0</td>\n",
       "      <td>65.0</td>\n",
       "      <td>102.0</td>\n",
       "      <td>111.0</td>\n",
       "      <td>93.0</td>\n",
       "      <td>75.0</td>\n",
       "      <td>83.0</td>\n",
       "      <td>84.0</td>\n",
       "    </tr>\n",
       "    <tr>\n",
       "      <th>2020-09-13</th>\n",
       "      <td>1617.0</td>\n",
       "      <td>36.0</td>\n",
       "      <td>72.0</td>\n",
       "      <td>64.0</td>\n",
       "      <td>81.0</td>\n",
       "      <td>100.0</td>\n",
       "      <td>107.0</td>\n",
       "      <td>84.0</td>\n",
       "      <td>78.0</td>\n",
       "      <td>81.0</td>\n",
       "      <td>72.0</td>\n",
       "    </tr>\n",
       "    <tr>\n",
       "      <th>2020-09-14</th>\n",
       "      <td>1620.0</td>\n",
       "      <td>32.0</td>\n",
       "      <td>63.0</td>\n",
       "      <td>69.0</td>\n",
       "      <td>94.0</td>\n",
       "      <td>102.0</td>\n",
       "      <td>111.0</td>\n",
       "      <td>111.0</td>\n",
       "      <td>72.0</td>\n",
       "      <td>55.0</td>\n",
       "      <td>NaN</td>\n",
       "    </tr>\n",
       "    <tr>\n",
       "      <th>2020-09-15</th>\n",
       "      <td>1622.0</td>\n",
       "      <td>37.0</td>\n",
       "      <td>65.0</td>\n",
       "      <td>73.0</td>\n",
       "      <td>98.0</td>\n",
       "      <td>93.0</td>\n",
       "      <td>113.0</td>\n",
       "      <td>87.0</td>\n",
       "      <td>46.0</td>\n",
       "      <td>NaN</td>\n",
       "      <td>NaN</td>\n",
       "    </tr>\n",
       "    <tr>\n",
       "      <th>2020-09-16</th>\n",
       "      <td>1625.0</td>\n",
       "      <td>34.0</td>\n",
       "      <td>67.0</td>\n",
       "      <td>72.0</td>\n",
       "      <td>81.0</td>\n",
       "      <td>99.0</td>\n",
       "      <td>125.0</td>\n",
       "      <td>65.0</td>\n",
       "      <td>NaN</td>\n",
       "      <td>NaN</td>\n",
       "      <td>NaN</td>\n",
       "    </tr>\n",
       "    <tr>\n",
       "      <th>2020-09-17</th>\n",
       "      <td>1627.0</td>\n",
       "      <td>27.0</td>\n",
       "      <td>67.0</td>\n",
       "      <td>71.0</td>\n",
       "      <td>96.0</td>\n",
       "      <td>101.0</td>\n",
       "      <td>90.0</td>\n",
       "      <td>NaN</td>\n",
       "      <td>NaN</td>\n",
       "      <td>NaN</td>\n",
       "      <td>NaN</td>\n",
       "    </tr>\n",
       "    <tr>\n",
       "      <th>2020-09-18</th>\n",
       "      <td>1630.0</td>\n",
       "      <td>35.0</td>\n",
       "      <td>69.0</td>\n",
       "      <td>74.0</td>\n",
       "      <td>76.0</td>\n",
       "      <td>73.0</td>\n",
       "      <td>NaN</td>\n",
       "      <td>NaN</td>\n",
       "      <td>NaN</td>\n",
       "      <td>NaN</td>\n",
       "      <td>NaN</td>\n",
       "    </tr>\n",
       "    <tr>\n",
       "      <th>2020-09-19</th>\n",
       "      <td>1633.0</td>\n",
       "      <td>30.0</td>\n",
       "      <td>59.0</td>\n",
       "      <td>77.0</td>\n",
       "      <td>67.0</td>\n",
       "      <td>NaN</td>\n",
       "      <td>NaN</td>\n",
       "      <td>NaN</td>\n",
       "      <td>NaN</td>\n",
       "      <td>NaN</td>\n",
       "      <td>NaN</td>\n",
       "    </tr>\n",
       "    <tr>\n",
       "      <th>2020-09-20</th>\n",
       "      <td>1636.0</td>\n",
       "      <td>38.0</td>\n",
       "      <td>71.0</td>\n",
       "      <td>57.0</td>\n",
       "      <td>NaN</td>\n",
       "      <td>NaN</td>\n",
       "      <td>NaN</td>\n",
       "      <td>NaN</td>\n",
       "      <td>NaN</td>\n",
       "      <td>NaN</td>\n",
       "      <td>NaN</td>\n",
       "    </tr>\n",
       "  </tbody>\n",
       "</table>\n",
       "</div>"
      ],
      "text/plain": [
       "cogort_period      0     1     2     3     4      5      6      7     8   \\\n",
       "reg_ts                                                                     \n",
       "2020-09-10     1609.0  29.0  71.0  74.0  70.0  112.0   93.0  110.0  80.0   \n",
       "2020-09-11     1611.0  23.0  64.0  63.0  99.0  102.0  111.0  101.0  79.0   \n",
       "2020-09-12     1614.0  29.0  66.0  64.0  65.0  102.0  111.0   93.0  75.0   \n",
       "2020-09-13     1617.0  36.0  72.0  64.0  81.0  100.0  107.0   84.0  78.0   \n",
       "2020-09-14     1620.0  32.0  63.0  69.0  94.0  102.0  111.0  111.0  72.0   \n",
       "2020-09-15     1622.0  37.0  65.0  73.0  98.0   93.0  113.0   87.0  46.0   \n",
       "2020-09-16     1625.0  34.0  67.0  72.0  81.0   99.0  125.0   65.0   NaN   \n",
       "2020-09-17     1627.0  27.0  67.0  71.0  96.0  101.0   90.0    NaN   NaN   \n",
       "2020-09-18     1630.0  35.0  69.0  74.0  76.0   73.0    NaN    NaN   NaN   \n",
       "2020-09-19     1633.0  30.0  59.0  77.0  67.0    NaN    NaN    NaN   NaN   \n",
       "2020-09-20     1636.0  38.0  71.0  57.0   NaN    NaN    NaN    NaN   NaN   \n",
       "\n",
       "cogort_period    9     10  \n",
       "reg_ts                     \n",
       "2020-09-10     66.0  98.0  \n",
       "2020-09-11     63.0  90.0  \n",
       "2020-09-12     83.0  84.0  \n",
       "2020-09-13     81.0  72.0  \n",
       "2020-09-14     55.0   NaN  \n",
       "2020-09-15      NaN   NaN  \n",
       "2020-09-16      NaN   NaN  \n",
       "2020-09-17      NaN   NaN  \n",
       "2020-09-18      NaN   NaN  \n",
       "2020-09-19      NaN   NaN  \n",
       "2020-09-20      NaN   NaN  "
      ]
     },
     "execution_count": 28,
     "metadata": {},
     "output_type": "execute_result"
    }
   ],
   "source": [
    "# перевернем нашу таблицу\n",
    "pivot_retention_table = retention_table.pivot(index='reg_ts', columns='cogort_period', values='uid')\n",
    "pivot_retention_table"
   ]
  },
  {
   "cell_type": "code",
   "execution_count": 29,
   "metadata": {},
   "outputs": [
    {
     "data": {
      "text/html": [
       "<div>\n",
       "<style scoped>\n",
       "    .dataframe tbody tr th:only-of-type {\n",
       "        vertical-align: middle;\n",
       "    }\n",
       "\n",
       "    .dataframe tbody tr th {\n",
       "        vertical-align: top;\n",
       "    }\n",
       "\n",
       "    .dataframe thead th {\n",
       "        text-align: right;\n",
       "    }\n",
       "</style>\n",
       "<table border=\"1\" class=\"dataframe\">\n",
       "  <thead>\n",
       "    <tr style=\"text-align: right;\">\n",
       "      <th>cogort_period</th>\n",
       "      <th>0</th>\n",
       "      <th>1</th>\n",
       "      <th>2</th>\n",
       "      <th>3</th>\n",
       "      <th>4</th>\n",
       "      <th>5</th>\n",
       "      <th>6</th>\n",
       "      <th>7</th>\n",
       "      <th>8</th>\n",
       "      <th>9</th>\n",
       "      <th>10</th>\n",
       "    </tr>\n",
       "    <tr>\n",
       "      <th>reg_ts</th>\n",
       "      <th></th>\n",
       "      <th></th>\n",
       "      <th></th>\n",
       "      <th></th>\n",
       "      <th></th>\n",
       "      <th></th>\n",
       "      <th></th>\n",
       "      <th></th>\n",
       "      <th></th>\n",
       "      <th></th>\n",
       "      <th></th>\n",
       "    </tr>\n",
       "  </thead>\n",
       "  <tbody>\n",
       "    <tr>\n",
       "      <th>2020-09-10</th>\n",
       "      <td>1.0</td>\n",
       "      <td>0.018024</td>\n",
       "      <td>0.044127</td>\n",
       "      <td>0.045991</td>\n",
       "      <td>0.043505</td>\n",
       "      <td>0.069608</td>\n",
       "      <td>0.057800</td>\n",
       "      <td>0.068365</td>\n",
       "      <td>0.049720</td>\n",
       "      <td>0.041019</td>\n",
       "      <td>0.060907</td>\n",
       "    </tr>\n",
       "    <tr>\n",
       "      <th>2020-09-11</th>\n",
       "      <td>1.0</td>\n",
       "      <td>0.014277</td>\n",
       "      <td>0.039727</td>\n",
       "      <td>0.039106</td>\n",
       "      <td>0.061453</td>\n",
       "      <td>0.063315</td>\n",
       "      <td>0.068901</td>\n",
       "      <td>0.062694</td>\n",
       "      <td>0.049038</td>\n",
       "      <td>0.039106</td>\n",
       "      <td>0.055866</td>\n",
       "    </tr>\n",
       "    <tr>\n",
       "      <th>2020-09-12</th>\n",
       "      <td>1.0</td>\n",
       "      <td>0.017968</td>\n",
       "      <td>0.040892</td>\n",
       "      <td>0.039653</td>\n",
       "      <td>0.040273</td>\n",
       "      <td>0.063197</td>\n",
       "      <td>0.068773</td>\n",
       "      <td>0.057621</td>\n",
       "      <td>0.046468</td>\n",
       "      <td>0.051425</td>\n",
       "      <td>0.052045</td>\n",
       "    </tr>\n",
       "    <tr>\n",
       "      <th>2020-09-13</th>\n",
       "      <td>1.0</td>\n",
       "      <td>0.022263</td>\n",
       "      <td>0.044527</td>\n",
       "      <td>0.039579</td>\n",
       "      <td>0.050093</td>\n",
       "      <td>0.061843</td>\n",
       "      <td>0.066172</td>\n",
       "      <td>0.051948</td>\n",
       "      <td>0.048237</td>\n",
       "      <td>0.050093</td>\n",
       "      <td>0.044527</td>\n",
       "    </tr>\n",
       "    <tr>\n",
       "      <th>2020-09-14</th>\n",
       "      <td>1.0</td>\n",
       "      <td>0.019753</td>\n",
       "      <td>0.038889</td>\n",
       "      <td>0.042593</td>\n",
       "      <td>0.058025</td>\n",
       "      <td>0.062963</td>\n",
       "      <td>0.068519</td>\n",
       "      <td>0.068519</td>\n",
       "      <td>0.044444</td>\n",
       "      <td>0.033951</td>\n",
       "      <td>NaN</td>\n",
       "    </tr>\n",
       "    <tr>\n",
       "      <th>2020-09-15</th>\n",
       "      <td>1.0</td>\n",
       "      <td>0.022811</td>\n",
       "      <td>0.040074</td>\n",
       "      <td>0.045006</td>\n",
       "      <td>0.060419</td>\n",
       "      <td>0.057337</td>\n",
       "      <td>0.069667</td>\n",
       "      <td>0.053637</td>\n",
       "      <td>0.028360</td>\n",
       "      <td>NaN</td>\n",
       "      <td>NaN</td>\n",
       "    </tr>\n",
       "    <tr>\n",
       "      <th>2020-09-16</th>\n",
       "      <td>1.0</td>\n",
       "      <td>0.020923</td>\n",
       "      <td>0.041231</td>\n",
       "      <td>0.044308</td>\n",
       "      <td>0.049846</td>\n",
       "      <td>0.060923</td>\n",
       "      <td>0.076923</td>\n",
       "      <td>0.040000</td>\n",
       "      <td>NaN</td>\n",
       "      <td>NaN</td>\n",
       "      <td>NaN</td>\n",
       "    </tr>\n",
       "    <tr>\n",
       "      <th>2020-09-17</th>\n",
       "      <td>1.0</td>\n",
       "      <td>0.016595</td>\n",
       "      <td>0.041180</td>\n",
       "      <td>0.043639</td>\n",
       "      <td>0.059004</td>\n",
       "      <td>0.062077</td>\n",
       "      <td>0.055317</td>\n",
       "      <td>NaN</td>\n",
       "      <td>NaN</td>\n",
       "      <td>NaN</td>\n",
       "      <td>NaN</td>\n",
       "    </tr>\n",
       "    <tr>\n",
       "      <th>2020-09-18</th>\n",
       "      <td>1.0</td>\n",
       "      <td>0.021472</td>\n",
       "      <td>0.042331</td>\n",
       "      <td>0.045399</td>\n",
       "      <td>0.046626</td>\n",
       "      <td>0.044785</td>\n",
       "      <td>NaN</td>\n",
       "      <td>NaN</td>\n",
       "      <td>NaN</td>\n",
       "      <td>NaN</td>\n",
       "      <td>NaN</td>\n",
       "    </tr>\n",
       "    <tr>\n",
       "      <th>2020-09-19</th>\n",
       "      <td>1.0</td>\n",
       "      <td>0.018371</td>\n",
       "      <td>0.036130</td>\n",
       "      <td>0.047152</td>\n",
       "      <td>0.041029</td>\n",
       "      <td>NaN</td>\n",
       "      <td>NaN</td>\n",
       "      <td>NaN</td>\n",
       "      <td>NaN</td>\n",
       "      <td>NaN</td>\n",
       "      <td>NaN</td>\n",
       "    </tr>\n",
       "    <tr>\n",
       "      <th>2020-09-20</th>\n",
       "      <td>1.0</td>\n",
       "      <td>0.023227</td>\n",
       "      <td>0.043399</td>\n",
       "      <td>0.034841</td>\n",
       "      <td>NaN</td>\n",
       "      <td>NaN</td>\n",
       "      <td>NaN</td>\n",
       "      <td>NaN</td>\n",
       "      <td>NaN</td>\n",
       "      <td>NaN</td>\n",
       "      <td>NaN</td>\n",
       "    </tr>\n",
       "  </tbody>\n",
       "</table>\n",
       "</div>"
      ],
      "text/plain": [
       "cogort_period   0         1         2         3         4         5   \\\n",
       "reg_ts                                                                 \n",
       "2020-09-10     1.0  0.018024  0.044127  0.045991  0.043505  0.069608   \n",
       "2020-09-11     1.0  0.014277  0.039727  0.039106  0.061453  0.063315   \n",
       "2020-09-12     1.0  0.017968  0.040892  0.039653  0.040273  0.063197   \n",
       "2020-09-13     1.0  0.022263  0.044527  0.039579  0.050093  0.061843   \n",
       "2020-09-14     1.0  0.019753  0.038889  0.042593  0.058025  0.062963   \n",
       "2020-09-15     1.0  0.022811  0.040074  0.045006  0.060419  0.057337   \n",
       "2020-09-16     1.0  0.020923  0.041231  0.044308  0.049846  0.060923   \n",
       "2020-09-17     1.0  0.016595  0.041180  0.043639  0.059004  0.062077   \n",
       "2020-09-18     1.0  0.021472  0.042331  0.045399  0.046626  0.044785   \n",
       "2020-09-19     1.0  0.018371  0.036130  0.047152  0.041029       NaN   \n",
       "2020-09-20     1.0  0.023227  0.043399  0.034841       NaN       NaN   \n",
       "\n",
       "cogort_period        6         7         8         9         10  \n",
       "reg_ts                                                           \n",
       "2020-09-10     0.057800  0.068365  0.049720  0.041019  0.060907  \n",
       "2020-09-11     0.068901  0.062694  0.049038  0.039106  0.055866  \n",
       "2020-09-12     0.068773  0.057621  0.046468  0.051425  0.052045  \n",
       "2020-09-13     0.066172  0.051948  0.048237  0.050093  0.044527  \n",
       "2020-09-14     0.068519  0.068519  0.044444  0.033951       NaN  \n",
       "2020-09-15     0.069667  0.053637  0.028360       NaN       NaN  \n",
       "2020-09-16     0.076923  0.040000       NaN       NaN       NaN  \n",
       "2020-09-17     0.055317       NaN       NaN       NaN       NaN  \n",
       "2020-09-18          NaN       NaN       NaN       NaN       NaN  \n",
       "2020-09-19          NaN       NaN       NaN       NaN       NaN  \n",
       "2020-09-20          NaN       NaN       NaN       NaN       NaN  "
      ]
     },
     "execution_count": 29,
     "metadata": {},
     "output_type": "execute_result"
    }
   ],
   "source": [
    "# делим все столбцы на первый, чтобы почитать процент\n",
    "pivot_retention_table = pivot_retention_table.div(pivot_retention_table[pivot_retention_table.columns[0]], axis = 0) \n",
    "pivot_retention_table"
   ]
  },
  {
   "cell_type": "code",
   "execution_count": 30,
   "metadata": {},
   "outputs": [
    {
     "data": {
      "text/html": [
       "<style  type=\"text/css\" >\n",
       "#T_c9b87e82_0801_11ef_bdbb_96000040dfb6row0_col0,#T_c9b87e82_0801_11ef_bdbb_96000040dfb6row1_col0,#T_c9b87e82_0801_11ef_bdbb_96000040dfb6row1_col1,#T_c9b87e82_0801_11ef_bdbb_96000040dfb6row2_col0,#T_c9b87e82_0801_11ef_bdbb_96000040dfb6row2_col4,#T_c9b87e82_0801_11ef_bdbb_96000040dfb6row3_col0,#T_c9b87e82_0801_11ef_bdbb_96000040dfb6row3_col10,#T_c9b87e82_0801_11ef_bdbb_96000040dfb6row4_col0,#T_c9b87e82_0801_11ef_bdbb_96000040dfb6row4_col9,#T_c9b87e82_0801_11ef_bdbb_96000040dfb6row5_col0,#T_c9b87e82_0801_11ef_bdbb_96000040dfb6row5_col8,#T_c9b87e82_0801_11ef_bdbb_96000040dfb6row6_col0,#T_c9b87e82_0801_11ef_bdbb_96000040dfb6row6_col7,#T_c9b87e82_0801_11ef_bdbb_96000040dfb6row7_col0,#T_c9b87e82_0801_11ef_bdbb_96000040dfb6row7_col6,#T_c9b87e82_0801_11ef_bdbb_96000040dfb6row8_col0,#T_c9b87e82_0801_11ef_bdbb_96000040dfb6row8_col5,#T_c9b87e82_0801_11ef_bdbb_96000040dfb6row9_col0,#T_c9b87e82_0801_11ef_bdbb_96000040dfb6row9_col2,#T_c9b87e82_0801_11ef_bdbb_96000040dfb6row10_col0,#T_c9b87e82_0801_11ef_bdbb_96000040dfb6row10_col3{\n",
       "            background-color:  #ffffe5;\n",
       "            color:  #000000;\n",
       "        }#T_c9b87e82_0801_11ef_bdbb_96000040dfb6row0_col1,#T_c9b87e82_0801_11ef_bdbb_96000040dfb6row3_col7{\n",
       "            background-color:  #9ad587;\n",
       "            color:  #000000;\n",
       "        }#T_c9b87e82_0801_11ef_bdbb_96000040dfb6row0_col2,#T_c9b87e82_0801_11ef_bdbb_96000040dfb6row5_col4{\n",
       "            background-color:  #00522e;\n",
       "            color:  #f1f1f1;\n",
       "        }#T_c9b87e82_0801_11ef_bdbb_96000040dfb6row0_col3{\n",
       "            background-color:  #005f34;\n",
       "            color:  #f1f1f1;\n",
       "        }#T_c9b87e82_0801_11ef_bdbb_96000040dfb6row0_col4{\n",
       "            background-color:  #f0f9b4;\n",
       "            color:  #000000;\n",
       "        }#T_c9b87e82_0801_11ef_bdbb_96000040dfb6row0_col5,#T_c9b87e82_0801_11ef_bdbb_96000040dfb6row0_col8,#T_c9b87e82_0801_11ef_bdbb_96000040dfb6row0_col10,#T_c9b87e82_0801_11ef_bdbb_96000040dfb6row1_col4,#T_c9b87e82_0801_11ef_bdbb_96000040dfb6row2_col9,#T_c9b87e82_0801_11ef_bdbb_96000040dfb6row3_col2,#T_c9b87e82_0801_11ef_bdbb_96000040dfb6row4_col7,#T_c9b87e82_0801_11ef_bdbb_96000040dfb6row6_col6,#T_c9b87e82_0801_11ef_bdbb_96000040dfb6row9_col3,#T_c9b87e82_0801_11ef_bdbb_96000040dfb6row10_col1{\n",
       "            background-color:  #004529;\n",
       "            color:  #f1f1f1;\n",
       "        }#T_c9b87e82_0801_11ef_bdbb_96000040dfb6row0_col6{\n",
       "            background-color:  #f8fcbd;\n",
       "            color:  #000000;\n",
       "        }#T_c9b87e82_0801_11ef_bdbb_96000040dfb6row0_col7{\n",
       "            background-color:  #004629;\n",
       "            color:  #f1f1f1;\n",
       "        }#T_c9b87e82_0801_11ef_bdbb_96000040dfb6row0_col9{\n",
       "            background-color:  #a1d889;\n",
       "            color:  #000000;\n",
       "        }#T_c9b87e82_0801_11ef_bdbb_96000040dfb6row1_col2{\n",
       "            background-color:  #97d385;\n",
       "            color:  #000000;\n",
       "        }#T_c9b87e82_0801_11ef_bdbb_96000040dfb6row1_col3{\n",
       "            background-color:  #b8e293;\n",
       "            color:  #000000;\n",
       "        }#T_c9b87e82_0801_11ef_bdbb_96000040dfb6row1_col5{\n",
       "            background-color:  #238443;\n",
       "            color:  #000000;\n",
       "        }#T_c9b87e82_0801_11ef_bdbb_96000040dfb6row1_col6{\n",
       "            background-color:  #40aa5c;\n",
       "            color:  #000000;\n",
       "        }#T_c9b87e82_0801_11ef_bdbb_96000040dfb6row1_col7{\n",
       "            background-color:  #167a3f;\n",
       "            color:  #f1f1f1;\n",
       "        }#T_c9b87e82_0801_11ef_bdbb_96000040dfb6row1_col8{\n",
       "            background-color:  #004e2d;\n",
       "            color:  #f1f1f1;\n",
       "        }#T_c9b87e82_0801_11ef_bdbb_96000040dfb6row1_col9{\n",
       "            background-color:  #c9e99c;\n",
       "            color:  #000000;\n",
       "        }#T_c9b87e82_0801_11ef_bdbb_96000040dfb6row1_col10{\n",
       "            background-color:  #30954f;\n",
       "            color:  #000000;\n",
       "        }#T_c9b87e82_0801_11ef_bdbb_96000040dfb6row2_col1{\n",
       "            background-color:  #9dd688;\n",
       "            color:  #000000;\n",
       "        }#T_c9b87e82_0801_11ef_bdbb_96000040dfb6row2_col2{\n",
       "            background-color:  #5ab76a;\n",
       "            color:  #000000;\n",
       "        }#T_c9b87e82_0801_11ef_bdbb_96000040dfb6row2_col3{\n",
       "            background-color:  #a6da8b;\n",
       "            color:  #000000;\n",
       "        }#T_c9b87e82_0801_11ef_bdbb_96000040dfb6row2_col5,#T_c9b87e82_0801_11ef_bdbb_96000040dfb6row8_col2{\n",
       "            background-color:  #258745;\n",
       "            color:  #000000;\n",
       "        }#T_c9b87e82_0801_11ef_bdbb_96000040dfb6row2_col6{\n",
       "            background-color:  #42ab5d;\n",
       "            color:  #000000;\n",
       "        }#T_c9b87e82_0801_11ef_bdbb_96000040dfb6row2_col7{\n",
       "            background-color:  #43ac5e;\n",
       "            color:  #000000;\n",
       "        }#T_c9b87e82_0801_11ef_bdbb_96000040dfb6row2_col8{\n",
       "            background-color:  #076d39;\n",
       "            color:  #f1f1f1;\n",
       "        }#T_c9b87e82_0801_11ef_bdbb_96000040dfb6row2_col10,#T_c9b87e82_0801_11ef_bdbb_96000040dfb6row9_col1{\n",
       "            background-color:  #89ce80;\n",
       "            color:  #000000;\n",
       "        }#T_c9b87e82_0801_11ef_bdbb_96000040dfb6row3_col1{\n",
       "            background-color:  #006335;\n",
       "            color:  #f1f1f1;\n",
       "        }#T_c9b87e82_0801_11ef_bdbb_96000040dfb6row3_col3{\n",
       "            background-color:  #a9db8c;\n",
       "            color:  #000000;\n",
       "        }#T_c9b87e82_0801_11ef_bdbb_96000040dfb6row3_col4{\n",
       "            background-color:  #88cd7f;\n",
       "            color:  #000000;\n",
       "        }#T_c9b87e82_0801_11ef_bdbb_96000040dfb6row3_col5{\n",
       "            background-color:  #329850;\n",
       "            color:  #000000;\n",
       "        }#T_c9b87e82_0801_11ef_bdbb_96000040dfb6row3_col6{\n",
       "            background-color:  #77c679;\n",
       "            color:  #000000;\n",
       "        }#T_c9b87e82_0801_11ef_bdbb_96000040dfb6row3_col8{\n",
       "            background-color:  #005830;\n",
       "            color:  #f1f1f1;\n",
       "        }#T_c9b87e82_0801_11ef_bdbb_96000040dfb6row3_col9{\n",
       "            background-color:  #005a31;\n",
       "            color:  #f1f1f1;\n",
       "        }#T_c9b87e82_0801_11ef_bdbb_96000040dfb6row4_col1,#T_c9b87e82_0801_11ef_bdbb_96000040dfb6row4_col6{\n",
       "            background-color:  #47ae60;\n",
       "            color:  #000000;\n",
       "        }#T_c9b87e82_0801_11ef_bdbb_96000040dfb6row4_col2{\n",
       "            background-color:  #bde496;\n",
       "            color:  #000000;\n",
       "        }#T_c9b87e82_0801_11ef_bdbb_96000040dfb6row4_col3{\n",
       "            background-color:  #3fa95c;\n",
       "            color:  #000000;\n",
       "        }#T_c9b87e82_0801_11ef_bdbb_96000040dfb6row4_col4{\n",
       "            background-color:  #0a703a;\n",
       "            color:  #f1f1f1;\n",
       "        }#T_c9b87e82_0801_11ef_bdbb_96000040dfb6row4_col5{\n",
       "            background-color:  #278946;\n",
       "            color:  #000000;\n",
       "        }#T_c9b87e82_0801_11ef_bdbb_96000040dfb6row4_col8{\n",
       "            background-color:  #228343;\n",
       "            color:  #000000;\n",
       "        }#T_c9b87e82_0801_11ef_bdbb_96000040dfb6row4_col10,#T_c9b87e82_0801_11ef_bdbb_96000040dfb6row5_col9,#T_c9b87e82_0801_11ef_bdbb_96000040dfb6row5_col10,#T_c9b87e82_0801_11ef_bdbb_96000040dfb6row6_col8,#T_c9b87e82_0801_11ef_bdbb_96000040dfb6row6_col9,#T_c9b87e82_0801_11ef_bdbb_96000040dfb6row6_col10,#T_c9b87e82_0801_11ef_bdbb_96000040dfb6row7_col7,#T_c9b87e82_0801_11ef_bdbb_96000040dfb6row7_col8,#T_c9b87e82_0801_11ef_bdbb_96000040dfb6row7_col9,#T_c9b87e82_0801_11ef_bdbb_96000040dfb6row7_col10,#T_c9b87e82_0801_11ef_bdbb_96000040dfb6row8_col6,#T_c9b87e82_0801_11ef_bdbb_96000040dfb6row8_col7,#T_c9b87e82_0801_11ef_bdbb_96000040dfb6row8_col8,#T_c9b87e82_0801_11ef_bdbb_96000040dfb6row8_col9,#T_c9b87e82_0801_11ef_bdbb_96000040dfb6row8_col10,#T_c9b87e82_0801_11ef_bdbb_96000040dfb6row9_col5,#T_c9b87e82_0801_11ef_bdbb_96000040dfb6row9_col6,#T_c9b87e82_0801_11ef_bdbb_96000040dfb6row9_col7,#T_c9b87e82_0801_11ef_bdbb_96000040dfb6row9_col8,#T_c9b87e82_0801_11ef_bdbb_96000040dfb6row9_col9,#T_c9b87e82_0801_11ef_bdbb_96000040dfb6row9_col10,#T_c9b87e82_0801_11ef_bdbb_96000040dfb6row10_col4,#T_c9b87e82_0801_11ef_bdbb_96000040dfb6row10_col5,#T_c9b87e82_0801_11ef_bdbb_96000040dfb6row10_col6,#T_c9b87e82_0801_11ef_bdbb_96000040dfb6row10_col7,#T_c9b87e82_0801_11ef_bdbb_96000040dfb6row10_col8,#T_c9b87e82_0801_11ef_bdbb_96000040dfb6row10_col9,#T_c9b87e82_0801_11ef_bdbb_96000040dfb6row10_col10{\n",
       "            background-color:  #000000;\n",
       "            color:  #f1f1f1;\n",
       "            background-color:  white;\n",
       "        }#T_c9b87e82_0801_11ef_bdbb_96000040dfb6row5_col1{\n",
       "            background-color:  #00512e;\n",
       "            color:  #f1f1f1;\n",
       "        }#T_c9b87e82_0801_11ef_bdbb_96000040dfb6row5_col2{\n",
       "            background-color:  #84cb7e;\n",
       "            color:  #000000;\n",
       "        }#T_c9b87e82_0801_11ef_bdbb_96000040dfb6row5_col3{\n",
       "            background-color:  #0d733c;\n",
       "            color:  #f1f1f1;\n",
       "        }#T_c9b87e82_0801_11ef_bdbb_96000040dfb6row5_col5{\n",
       "            background-color:  #75c578;\n",
       "            color:  #000000;\n",
       "        }#T_c9b87e82_0801_11ef_bdbb_96000040dfb6row5_col6{\n",
       "            background-color:  #379e54;\n",
       "            color:  #000000;\n",
       "        }#T_c9b87e82_0801_11ef_bdbb_96000040dfb6row5_col7{\n",
       "            background-color:  #81ca7d;\n",
       "            color:  #000000;\n",
       "        }#T_c9b87e82_0801_11ef_bdbb_96000040dfb6row6_col1{\n",
       "            background-color:  #248644;\n",
       "            color:  #000000;\n",
       "        }#T_c9b87e82_0801_11ef_bdbb_96000040dfb6row6_col2{\n",
       "            background-color:  #49af61;\n",
       "            color:  #000000;\n",
       "        }#T_c9b87e82_0801_11ef_bdbb_96000040dfb6row6_col3{\n",
       "            background-color:  #1e8041;\n",
       "            color:  #f1f1f1;\n",
       "        }#T_c9b87e82_0801_11ef_bdbb_96000040dfb6row6_col4{\n",
       "            background-color:  #8dcf81;\n",
       "            color:  #000000;\n",
       "        }#T_c9b87e82_0801_11ef_bdbb_96000040dfb6row6_col5{\n",
       "            background-color:  #3ba358;\n",
       "            color:  #000000;\n",
       "        }#T_c9b87e82_0801_11ef_bdbb_96000040dfb6row7_col1{\n",
       "            background-color:  #d6efa2;\n",
       "            color:  #000000;\n",
       "        }#T_c9b87e82_0801_11ef_bdbb_96000040dfb6row7_col2{\n",
       "            background-color:  #4cb063;\n",
       "            color:  #000000;\n",
       "        }#T_c9b87e82_0801_11ef_bdbb_96000040dfb6row7_col3{\n",
       "            background-color:  #2c8f4b;\n",
       "            color:  #000000;\n",
       "        }#T_c9b87e82_0801_11ef_bdbb_96000040dfb6row7_col4{\n",
       "            background-color:  #006536;\n",
       "            color:  #f1f1f1;\n",
       "        }#T_c9b87e82_0801_11ef_bdbb_96000040dfb6row7_col5{\n",
       "            background-color:  #2f944e;\n",
       "            color:  #000000;\n",
       "        }#T_c9b87e82_0801_11ef_bdbb_96000040dfb6row8_col1{\n",
       "            background-color:  #14783e;\n",
       "            color:  #f1f1f1;\n",
       "        }#T_c9b87e82_0801_11ef_bdbb_96000040dfb6row8_col3{\n",
       "            background-color:  #056c39;\n",
       "            color:  #f1f1f1;\n",
       "        }#T_c9b87e82_0801_11ef_bdbb_96000040dfb6row8_col4{\n",
       "            background-color:  #c8e99b;\n",
       "            color:  #000000;\n",
       "        }#T_c9b87e82_0801_11ef_bdbb_96000040dfb6row9_col4{\n",
       "            background-color:  #fdfed9;\n",
       "            color:  #000000;\n",
       "        }#T_c9b87e82_0801_11ef_bdbb_96000040dfb6row10_col2{\n",
       "            background-color:  #026a38;\n",
       "            color:  #f1f1f1;\n",
       "        }</style><table id=\"T_c9b87e82_0801_11ef_bdbb_96000040dfb6\" ><caption>User retention by cohort</caption><thead>    <tr>        <th class=\"index_name level0\" >cogort_period</th>        <th class=\"col_heading level0 col0\" >0</th>        <th class=\"col_heading level0 col1\" >1</th>        <th class=\"col_heading level0 col2\" >2</th>        <th class=\"col_heading level0 col3\" >3</th>        <th class=\"col_heading level0 col4\" >4</th>        <th class=\"col_heading level0 col5\" >5</th>        <th class=\"col_heading level0 col6\" >6</th>        <th class=\"col_heading level0 col7\" >7</th>        <th class=\"col_heading level0 col8\" >8</th>        <th class=\"col_heading level0 col9\" >9</th>        <th class=\"col_heading level0 col10\" >10</th>    </tr>    <tr>        <th class=\"index_name level0\" >reg_ts</th>        <th class=\"blank\" ></th>        <th class=\"blank\" ></th>        <th class=\"blank\" ></th>        <th class=\"blank\" ></th>        <th class=\"blank\" ></th>        <th class=\"blank\" ></th>        <th class=\"blank\" ></th>        <th class=\"blank\" ></th>        <th class=\"blank\" ></th>        <th class=\"blank\" ></th>        <th class=\"blank\" ></th>    </tr></thead><tbody>\n",
       "                <tr>\n",
       "                        <th id=\"T_c9b87e82_0801_11ef_bdbb_96000040dfb6level0_row0\" class=\"row_heading level0 row0\" >2020-09-10</th>\n",
       "                        <td id=\"T_c9b87e82_0801_11ef_bdbb_96000040dfb6row0_col0\" class=\"data row0 col0\" >100.00%</td>\n",
       "                        <td id=\"T_c9b87e82_0801_11ef_bdbb_96000040dfb6row0_col1\" class=\"data row0 col1\" >1.80%</td>\n",
       "                        <td id=\"T_c9b87e82_0801_11ef_bdbb_96000040dfb6row0_col2\" class=\"data row0 col2\" >4.41%</td>\n",
       "                        <td id=\"T_c9b87e82_0801_11ef_bdbb_96000040dfb6row0_col3\" class=\"data row0 col3\" >4.60%</td>\n",
       "                        <td id=\"T_c9b87e82_0801_11ef_bdbb_96000040dfb6row0_col4\" class=\"data row0 col4\" >4.35%</td>\n",
       "                        <td id=\"T_c9b87e82_0801_11ef_bdbb_96000040dfb6row0_col5\" class=\"data row0 col5\" >6.96%</td>\n",
       "                        <td id=\"T_c9b87e82_0801_11ef_bdbb_96000040dfb6row0_col6\" class=\"data row0 col6\" >5.78%</td>\n",
       "                        <td id=\"T_c9b87e82_0801_11ef_bdbb_96000040dfb6row0_col7\" class=\"data row0 col7\" >6.84%</td>\n",
       "                        <td id=\"T_c9b87e82_0801_11ef_bdbb_96000040dfb6row0_col8\" class=\"data row0 col8\" >4.97%</td>\n",
       "                        <td id=\"T_c9b87e82_0801_11ef_bdbb_96000040dfb6row0_col9\" class=\"data row0 col9\" >4.10%</td>\n",
       "                        <td id=\"T_c9b87e82_0801_11ef_bdbb_96000040dfb6row0_col10\" class=\"data row0 col10\" >6.09%</td>\n",
       "            </tr>\n",
       "            <tr>\n",
       "                        <th id=\"T_c9b87e82_0801_11ef_bdbb_96000040dfb6level0_row1\" class=\"row_heading level0 row1\" >2020-09-11</th>\n",
       "                        <td id=\"T_c9b87e82_0801_11ef_bdbb_96000040dfb6row1_col0\" class=\"data row1 col0\" >100.00%</td>\n",
       "                        <td id=\"T_c9b87e82_0801_11ef_bdbb_96000040dfb6row1_col1\" class=\"data row1 col1\" >1.43%</td>\n",
       "                        <td id=\"T_c9b87e82_0801_11ef_bdbb_96000040dfb6row1_col2\" class=\"data row1 col2\" >3.97%</td>\n",
       "                        <td id=\"T_c9b87e82_0801_11ef_bdbb_96000040dfb6row1_col3\" class=\"data row1 col3\" >3.91%</td>\n",
       "                        <td id=\"T_c9b87e82_0801_11ef_bdbb_96000040dfb6row1_col4\" class=\"data row1 col4\" >6.15%</td>\n",
       "                        <td id=\"T_c9b87e82_0801_11ef_bdbb_96000040dfb6row1_col5\" class=\"data row1 col5\" >6.33%</td>\n",
       "                        <td id=\"T_c9b87e82_0801_11ef_bdbb_96000040dfb6row1_col6\" class=\"data row1 col6\" >6.89%</td>\n",
       "                        <td id=\"T_c9b87e82_0801_11ef_bdbb_96000040dfb6row1_col7\" class=\"data row1 col7\" >6.27%</td>\n",
       "                        <td id=\"T_c9b87e82_0801_11ef_bdbb_96000040dfb6row1_col8\" class=\"data row1 col8\" >4.90%</td>\n",
       "                        <td id=\"T_c9b87e82_0801_11ef_bdbb_96000040dfb6row1_col9\" class=\"data row1 col9\" >3.91%</td>\n",
       "                        <td id=\"T_c9b87e82_0801_11ef_bdbb_96000040dfb6row1_col10\" class=\"data row1 col10\" >5.59%</td>\n",
       "            </tr>\n",
       "            <tr>\n",
       "                        <th id=\"T_c9b87e82_0801_11ef_bdbb_96000040dfb6level0_row2\" class=\"row_heading level0 row2\" >2020-09-12</th>\n",
       "                        <td id=\"T_c9b87e82_0801_11ef_bdbb_96000040dfb6row2_col0\" class=\"data row2 col0\" >100.00%</td>\n",
       "                        <td id=\"T_c9b87e82_0801_11ef_bdbb_96000040dfb6row2_col1\" class=\"data row2 col1\" >1.80%</td>\n",
       "                        <td id=\"T_c9b87e82_0801_11ef_bdbb_96000040dfb6row2_col2\" class=\"data row2 col2\" >4.09%</td>\n",
       "                        <td id=\"T_c9b87e82_0801_11ef_bdbb_96000040dfb6row2_col3\" class=\"data row2 col3\" >3.97%</td>\n",
       "                        <td id=\"T_c9b87e82_0801_11ef_bdbb_96000040dfb6row2_col4\" class=\"data row2 col4\" >4.03%</td>\n",
       "                        <td id=\"T_c9b87e82_0801_11ef_bdbb_96000040dfb6row2_col5\" class=\"data row2 col5\" >6.32%</td>\n",
       "                        <td id=\"T_c9b87e82_0801_11ef_bdbb_96000040dfb6row2_col6\" class=\"data row2 col6\" >6.88%</td>\n",
       "                        <td id=\"T_c9b87e82_0801_11ef_bdbb_96000040dfb6row2_col7\" class=\"data row2 col7\" >5.76%</td>\n",
       "                        <td id=\"T_c9b87e82_0801_11ef_bdbb_96000040dfb6row2_col8\" class=\"data row2 col8\" >4.65%</td>\n",
       "                        <td id=\"T_c9b87e82_0801_11ef_bdbb_96000040dfb6row2_col9\" class=\"data row2 col9\" >5.14%</td>\n",
       "                        <td id=\"T_c9b87e82_0801_11ef_bdbb_96000040dfb6row2_col10\" class=\"data row2 col10\" >5.20%</td>\n",
       "            </tr>\n",
       "            <tr>\n",
       "                        <th id=\"T_c9b87e82_0801_11ef_bdbb_96000040dfb6level0_row3\" class=\"row_heading level0 row3\" >2020-09-13</th>\n",
       "                        <td id=\"T_c9b87e82_0801_11ef_bdbb_96000040dfb6row3_col0\" class=\"data row3 col0\" >100.00%</td>\n",
       "                        <td id=\"T_c9b87e82_0801_11ef_bdbb_96000040dfb6row3_col1\" class=\"data row3 col1\" >2.23%</td>\n",
       "                        <td id=\"T_c9b87e82_0801_11ef_bdbb_96000040dfb6row3_col2\" class=\"data row3 col2\" >4.45%</td>\n",
       "                        <td id=\"T_c9b87e82_0801_11ef_bdbb_96000040dfb6row3_col3\" class=\"data row3 col3\" >3.96%</td>\n",
       "                        <td id=\"T_c9b87e82_0801_11ef_bdbb_96000040dfb6row3_col4\" class=\"data row3 col4\" >5.01%</td>\n",
       "                        <td id=\"T_c9b87e82_0801_11ef_bdbb_96000040dfb6row3_col5\" class=\"data row3 col5\" >6.18%</td>\n",
       "                        <td id=\"T_c9b87e82_0801_11ef_bdbb_96000040dfb6row3_col6\" class=\"data row3 col6\" >6.62%</td>\n",
       "                        <td id=\"T_c9b87e82_0801_11ef_bdbb_96000040dfb6row3_col7\" class=\"data row3 col7\" >5.19%</td>\n",
       "                        <td id=\"T_c9b87e82_0801_11ef_bdbb_96000040dfb6row3_col8\" class=\"data row3 col8\" >4.82%</td>\n",
       "                        <td id=\"T_c9b87e82_0801_11ef_bdbb_96000040dfb6row3_col9\" class=\"data row3 col9\" >5.01%</td>\n",
       "                        <td id=\"T_c9b87e82_0801_11ef_bdbb_96000040dfb6row3_col10\" class=\"data row3 col10\" >4.45%</td>\n",
       "            </tr>\n",
       "            <tr>\n",
       "                        <th id=\"T_c9b87e82_0801_11ef_bdbb_96000040dfb6level0_row4\" class=\"row_heading level0 row4\" >2020-09-14</th>\n",
       "                        <td id=\"T_c9b87e82_0801_11ef_bdbb_96000040dfb6row4_col0\" class=\"data row4 col0\" >100.00%</td>\n",
       "                        <td id=\"T_c9b87e82_0801_11ef_bdbb_96000040dfb6row4_col1\" class=\"data row4 col1\" >1.98%</td>\n",
       "                        <td id=\"T_c9b87e82_0801_11ef_bdbb_96000040dfb6row4_col2\" class=\"data row4 col2\" >3.89%</td>\n",
       "                        <td id=\"T_c9b87e82_0801_11ef_bdbb_96000040dfb6row4_col3\" class=\"data row4 col3\" >4.26%</td>\n",
       "                        <td id=\"T_c9b87e82_0801_11ef_bdbb_96000040dfb6row4_col4\" class=\"data row4 col4\" >5.80%</td>\n",
       "                        <td id=\"T_c9b87e82_0801_11ef_bdbb_96000040dfb6row4_col5\" class=\"data row4 col5\" >6.30%</td>\n",
       "                        <td id=\"T_c9b87e82_0801_11ef_bdbb_96000040dfb6row4_col6\" class=\"data row4 col6\" >6.85%</td>\n",
       "                        <td id=\"T_c9b87e82_0801_11ef_bdbb_96000040dfb6row4_col7\" class=\"data row4 col7\" >6.85%</td>\n",
       "                        <td id=\"T_c9b87e82_0801_11ef_bdbb_96000040dfb6row4_col8\" class=\"data row4 col8\" >4.44%</td>\n",
       "                        <td id=\"T_c9b87e82_0801_11ef_bdbb_96000040dfb6row4_col9\" class=\"data row4 col9\" >3.40%</td>\n",
       "                        <td id=\"T_c9b87e82_0801_11ef_bdbb_96000040dfb6row4_col10\" class=\"data row4 col10\" ></td>\n",
       "            </tr>\n",
       "            <tr>\n",
       "                        <th id=\"T_c9b87e82_0801_11ef_bdbb_96000040dfb6level0_row5\" class=\"row_heading level0 row5\" >2020-09-15</th>\n",
       "                        <td id=\"T_c9b87e82_0801_11ef_bdbb_96000040dfb6row5_col0\" class=\"data row5 col0\" >100.00%</td>\n",
       "                        <td id=\"T_c9b87e82_0801_11ef_bdbb_96000040dfb6row5_col1\" class=\"data row5 col1\" >2.28%</td>\n",
       "                        <td id=\"T_c9b87e82_0801_11ef_bdbb_96000040dfb6row5_col2\" class=\"data row5 col2\" >4.01%</td>\n",
       "                        <td id=\"T_c9b87e82_0801_11ef_bdbb_96000040dfb6row5_col3\" class=\"data row5 col3\" >4.50%</td>\n",
       "                        <td id=\"T_c9b87e82_0801_11ef_bdbb_96000040dfb6row5_col4\" class=\"data row5 col4\" >6.04%</td>\n",
       "                        <td id=\"T_c9b87e82_0801_11ef_bdbb_96000040dfb6row5_col5\" class=\"data row5 col5\" >5.73%</td>\n",
       "                        <td id=\"T_c9b87e82_0801_11ef_bdbb_96000040dfb6row5_col6\" class=\"data row5 col6\" >6.97%</td>\n",
       "                        <td id=\"T_c9b87e82_0801_11ef_bdbb_96000040dfb6row5_col7\" class=\"data row5 col7\" >5.36%</td>\n",
       "                        <td id=\"T_c9b87e82_0801_11ef_bdbb_96000040dfb6row5_col8\" class=\"data row5 col8\" >2.84%</td>\n",
       "                        <td id=\"T_c9b87e82_0801_11ef_bdbb_96000040dfb6row5_col9\" class=\"data row5 col9\" ></td>\n",
       "                        <td id=\"T_c9b87e82_0801_11ef_bdbb_96000040dfb6row5_col10\" class=\"data row5 col10\" ></td>\n",
       "            </tr>\n",
       "            <tr>\n",
       "                        <th id=\"T_c9b87e82_0801_11ef_bdbb_96000040dfb6level0_row6\" class=\"row_heading level0 row6\" >2020-09-16</th>\n",
       "                        <td id=\"T_c9b87e82_0801_11ef_bdbb_96000040dfb6row6_col0\" class=\"data row6 col0\" >100.00%</td>\n",
       "                        <td id=\"T_c9b87e82_0801_11ef_bdbb_96000040dfb6row6_col1\" class=\"data row6 col1\" >2.09%</td>\n",
       "                        <td id=\"T_c9b87e82_0801_11ef_bdbb_96000040dfb6row6_col2\" class=\"data row6 col2\" >4.12%</td>\n",
       "                        <td id=\"T_c9b87e82_0801_11ef_bdbb_96000040dfb6row6_col3\" class=\"data row6 col3\" >4.43%</td>\n",
       "                        <td id=\"T_c9b87e82_0801_11ef_bdbb_96000040dfb6row6_col4\" class=\"data row6 col4\" >4.98%</td>\n",
       "                        <td id=\"T_c9b87e82_0801_11ef_bdbb_96000040dfb6row6_col5\" class=\"data row6 col5\" >6.09%</td>\n",
       "                        <td id=\"T_c9b87e82_0801_11ef_bdbb_96000040dfb6row6_col6\" class=\"data row6 col6\" >7.69%</td>\n",
       "                        <td id=\"T_c9b87e82_0801_11ef_bdbb_96000040dfb6row6_col7\" class=\"data row6 col7\" >4.00%</td>\n",
       "                        <td id=\"T_c9b87e82_0801_11ef_bdbb_96000040dfb6row6_col8\" class=\"data row6 col8\" ></td>\n",
       "                        <td id=\"T_c9b87e82_0801_11ef_bdbb_96000040dfb6row6_col9\" class=\"data row6 col9\" ></td>\n",
       "                        <td id=\"T_c9b87e82_0801_11ef_bdbb_96000040dfb6row6_col10\" class=\"data row6 col10\" ></td>\n",
       "            </tr>\n",
       "            <tr>\n",
       "                        <th id=\"T_c9b87e82_0801_11ef_bdbb_96000040dfb6level0_row7\" class=\"row_heading level0 row7\" >2020-09-17</th>\n",
       "                        <td id=\"T_c9b87e82_0801_11ef_bdbb_96000040dfb6row7_col0\" class=\"data row7 col0\" >100.00%</td>\n",
       "                        <td id=\"T_c9b87e82_0801_11ef_bdbb_96000040dfb6row7_col1\" class=\"data row7 col1\" >1.66%</td>\n",
       "                        <td id=\"T_c9b87e82_0801_11ef_bdbb_96000040dfb6row7_col2\" class=\"data row7 col2\" >4.12%</td>\n",
       "                        <td id=\"T_c9b87e82_0801_11ef_bdbb_96000040dfb6row7_col3\" class=\"data row7 col3\" >4.36%</td>\n",
       "                        <td id=\"T_c9b87e82_0801_11ef_bdbb_96000040dfb6row7_col4\" class=\"data row7 col4\" >5.90%</td>\n",
       "                        <td id=\"T_c9b87e82_0801_11ef_bdbb_96000040dfb6row7_col5\" class=\"data row7 col5\" >6.21%</td>\n",
       "                        <td id=\"T_c9b87e82_0801_11ef_bdbb_96000040dfb6row7_col6\" class=\"data row7 col6\" >5.53%</td>\n",
       "                        <td id=\"T_c9b87e82_0801_11ef_bdbb_96000040dfb6row7_col7\" class=\"data row7 col7\" ></td>\n",
       "                        <td id=\"T_c9b87e82_0801_11ef_bdbb_96000040dfb6row7_col8\" class=\"data row7 col8\" ></td>\n",
       "                        <td id=\"T_c9b87e82_0801_11ef_bdbb_96000040dfb6row7_col9\" class=\"data row7 col9\" ></td>\n",
       "                        <td id=\"T_c9b87e82_0801_11ef_bdbb_96000040dfb6row7_col10\" class=\"data row7 col10\" ></td>\n",
       "            </tr>\n",
       "            <tr>\n",
       "                        <th id=\"T_c9b87e82_0801_11ef_bdbb_96000040dfb6level0_row8\" class=\"row_heading level0 row8\" >2020-09-18</th>\n",
       "                        <td id=\"T_c9b87e82_0801_11ef_bdbb_96000040dfb6row8_col0\" class=\"data row8 col0\" >100.00%</td>\n",
       "                        <td id=\"T_c9b87e82_0801_11ef_bdbb_96000040dfb6row8_col1\" class=\"data row8 col1\" >2.15%</td>\n",
       "                        <td id=\"T_c9b87e82_0801_11ef_bdbb_96000040dfb6row8_col2\" class=\"data row8 col2\" >4.23%</td>\n",
       "                        <td id=\"T_c9b87e82_0801_11ef_bdbb_96000040dfb6row8_col3\" class=\"data row8 col3\" >4.54%</td>\n",
       "                        <td id=\"T_c9b87e82_0801_11ef_bdbb_96000040dfb6row8_col4\" class=\"data row8 col4\" >4.66%</td>\n",
       "                        <td id=\"T_c9b87e82_0801_11ef_bdbb_96000040dfb6row8_col5\" class=\"data row8 col5\" >4.48%</td>\n",
       "                        <td id=\"T_c9b87e82_0801_11ef_bdbb_96000040dfb6row8_col6\" class=\"data row8 col6\" ></td>\n",
       "                        <td id=\"T_c9b87e82_0801_11ef_bdbb_96000040dfb6row8_col7\" class=\"data row8 col7\" ></td>\n",
       "                        <td id=\"T_c9b87e82_0801_11ef_bdbb_96000040dfb6row8_col8\" class=\"data row8 col8\" ></td>\n",
       "                        <td id=\"T_c9b87e82_0801_11ef_bdbb_96000040dfb6row8_col9\" class=\"data row8 col9\" ></td>\n",
       "                        <td id=\"T_c9b87e82_0801_11ef_bdbb_96000040dfb6row8_col10\" class=\"data row8 col10\" ></td>\n",
       "            </tr>\n",
       "            <tr>\n",
       "                        <th id=\"T_c9b87e82_0801_11ef_bdbb_96000040dfb6level0_row9\" class=\"row_heading level0 row9\" >2020-09-19</th>\n",
       "                        <td id=\"T_c9b87e82_0801_11ef_bdbb_96000040dfb6row9_col0\" class=\"data row9 col0\" >100.00%</td>\n",
       "                        <td id=\"T_c9b87e82_0801_11ef_bdbb_96000040dfb6row9_col1\" class=\"data row9 col1\" >1.84%</td>\n",
       "                        <td id=\"T_c9b87e82_0801_11ef_bdbb_96000040dfb6row9_col2\" class=\"data row9 col2\" >3.61%</td>\n",
       "                        <td id=\"T_c9b87e82_0801_11ef_bdbb_96000040dfb6row9_col3\" class=\"data row9 col3\" >4.72%</td>\n",
       "                        <td id=\"T_c9b87e82_0801_11ef_bdbb_96000040dfb6row9_col4\" class=\"data row9 col4\" >4.10%</td>\n",
       "                        <td id=\"T_c9b87e82_0801_11ef_bdbb_96000040dfb6row9_col5\" class=\"data row9 col5\" ></td>\n",
       "                        <td id=\"T_c9b87e82_0801_11ef_bdbb_96000040dfb6row9_col6\" class=\"data row9 col6\" ></td>\n",
       "                        <td id=\"T_c9b87e82_0801_11ef_bdbb_96000040dfb6row9_col7\" class=\"data row9 col7\" ></td>\n",
       "                        <td id=\"T_c9b87e82_0801_11ef_bdbb_96000040dfb6row9_col8\" class=\"data row9 col8\" ></td>\n",
       "                        <td id=\"T_c9b87e82_0801_11ef_bdbb_96000040dfb6row9_col9\" class=\"data row9 col9\" ></td>\n",
       "                        <td id=\"T_c9b87e82_0801_11ef_bdbb_96000040dfb6row9_col10\" class=\"data row9 col10\" ></td>\n",
       "            </tr>\n",
       "            <tr>\n",
       "                        <th id=\"T_c9b87e82_0801_11ef_bdbb_96000040dfb6level0_row10\" class=\"row_heading level0 row10\" >2020-09-20</th>\n",
       "                        <td id=\"T_c9b87e82_0801_11ef_bdbb_96000040dfb6row10_col0\" class=\"data row10 col0\" >100.00%</td>\n",
       "                        <td id=\"T_c9b87e82_0801_11ef_bdbb_96000040dfb6row10_col1\" class=\"data row10 col1\" >2.32%</td>\n",
       "                        <td id=\"T_c9b87e82_0801_11ef_bdbb_96000040dfb6row10_col2\" class=\"data row10 col2\" >4.34%</td>\n",
       "                        <td id=\"T_c9b87e82_0801_11ef_bdbb_96000040dfb6row10_col3\" class=\"data row10 col3\" >3.48%</td>\n",
       "                        <td id=\"T_c9b87e82_0801_11ef_bdbb_96000040dfb6row10_col4\" class=\"data row10 col4\" ></td>\n",
       "                        <td id=\"T_c9b87e82_0801_11ef_bdbb_96000040dfb6row10_col5\" class=\"data row10 col5\" ></td>\n",
       "                        <td id=\"T_c9b87e82_0801_11ef_bdbb_96000040dfb6row10_col6\" class=\"data row10 col6\" ></td>\n",
       "                        <td id=\"T_c9b87e82_0801_11ef_bdbb_96000040dfb6row10_col7\" class=\"data row10 col7\" ></td>\n",
       "                        <td id=\"T_c9b87e82_0801_11ef_bdbb_96000040dfb6row10_col8\" class=\"data row10 col8\" ></td>\n",
       "                        <td id=\"T_c9b87e82_0801_11ef_bdbb_96000040dfb6row10_col9\" class=\"data row10 col9\" ></td>\n",
       "                        <td id=\"T_c9b87e82_0801_11ef_bdbb_96000040dfb6row10_col10\" class=\"data row10 col10\" ></td>\n",
       "            </tr>\n",
       "    </tbody></table>"
      ],
      "text/plain": [
       "<pandas.io.formats.style.Styler at 0x7f4a8a6e2b38>"
      ]
     },
     "execution_count": 30,
     "metadata": {},
     "output_type": "execute_result"
    }
   ],
   "source": [
    "# Красиво оформляем\n",
    "ur_style = (pivot_retention_table\n",
    "            .style\n",
    "            .set_caption('User retention by cohort')  # добавляем подпись\n",
    "            .background_gradient(cmap='YlGn')  # раскрашиваем ячейки по столбцам\n",
    "            .highlight_null('white')  # делаем белый фон для значений NaN\n",
    "            .format(\"{:.2%}\", na_rep=\"\"))  # числа форматируем как проценты, NaN заменяем на пустоту     \n",
    "ur_style"
   ]
  },
  {
   "cell_type": "markdown",
   "metadata": {},
   "source": [
    "### теперь просто сгруппируем весь наш код в функцию"
   ]
  },
  {
   "cell_type": "code",
   "execution_count": 31,
   "metadata": {},
   "outputs": [],
   "source": [
    "def retention(start_period, end_period):\n",
    "    df_reg = pd.read_csv('../shared/problem1-reg_data.csv', encoding='windows=1251', sep=';')\n",
    "    df_auth = pd.read_csv('../shared/problem1-auth_data.csv', encoding='windows=1251', sep=';')\n",
    "    df_reg['reg_ts'] = df_reg['reg_ts'].apply(lambda x: datetime.datetime.fromtimestamp(x))\n",
    "    df_auth['auth_ts'] = df_auth['auth_ts'].apply(lambda x: datetime.datetime.fromtimestamp(x))\n",
    "    df_reg['reg_ts'] = df_reg['reg_ts'].dt.strftime('%Y-%m-%d')\n",
    "    df_auth['auth_ts'] = df_auth['auth_ts'].dt.strftime('%Y-%m-%d')\n",
    "    retention_table = pd.merge(df_reg, df_auth, on='uid')\n",
    "    retention_table.sort_values(['reg_ts', 'uid'])\n",
    "    start_period_dt = datetime.datetime.strptime(start_period, '%Y-%m-%d')\n",
    "    start_period_formatted = start_period_dt.strftime('%Y-%m-%d')\n",
    "    end_period_dt = datetime.datetime.strptime(end_period, '%Y-%m-%d')\n",
    "    end_period_formatted = end_period_dt.strftime('%Y-%m-%d')\n",
    "    retention_table = retention_table[(retention_table['reg_ts'] >= start_period_formatted) & \\\n",
    "                                       (retention_table['reg_ts'] <= end_period_formatted)]\n",
    "    retention_table = retention_table.groupby(['reg_ts','auth_ts'],  as_index=False)\\\n",
    "                                       .agg({'uid':'nunique'})\n",
    "    retention_table['день возврата'] = (pd.to_datetime(retention_table['auth_ts']) - \\\n",
    "                                         pd.to_datetime(retention_table['reg_ts'])).dt.days\n",
    "    retention_table = retention_table[retention_table['день возврата'] <= (end_period_dt - start_period_dt).days]\n",
    "    pivot_retention_table = retention_table.pivot(index='reg_ts', columns='день возврата', values='uid')     \n",
    "    pivot_retention_table = pivot_retention_table.div(pivot_retention_table[pivot_retention_table.columns[0]], axis = 0)\n",
    "    pivot_retention_table.index.name = 'дата регистрации'\n",
    "    ur_style = (pivot_retention_table\n",
    "                .style\n",
    "                .set_caption('<h1>Retention игроков по датам</h2>')\n",
    "                .background_gradient(cmap='YlGn')\n",
    "                .highlight_null('white')\n",
    "                .format(\"{:.2%}\", na_rep=\"\"))\n",
    "    return ur_style"
   ]
  },
  {
   "cell_type": "markdown",
   "metadata": {},
   "source": [
    "<div class =\"alert alert-success\">тестируем</div> "
   ]
  },
  {
   "cell_type": "code",
   "execution_count": 32,
   "metadata": {},
   "outputs": [
    {
     "data": {
      "text/html": [
       "<style  type=\"text/css\" >\n",
       "#T_ffd6d482_0801_11ef_bdbb_96000040dfb6row0_col0,#T_ffd6d482_0801_11ef_bdbb_96000040dfb6row0_col5,#T_ffd6d482_0801_11ef_bdbb_96000040dfb6row0_col10,#T_ffd6d482_0801_11ef_bdbb_96000040dfb6row1_col0,#T_ffd6d482_0801_11ef_bdbb_96000040dfb6row1_col11,#T_ffd6d482_0801_11ef_bdbb_96000040dfb6row2_col0,#T_ffd6d482_0801_11ef_bdbb_96000040dfb6row3_col0,#T_ffd6d482_0801_11ef_bdbb_96000040dfb6row4_col0,#T_ffd6d482_0801_11ef_bdbb_96000040dfb6row5_col0,#T_ffd6d482_0801_11ef_bdbb_96000040dfb6row5_col1,#T_ffd6d482_0801_11ef_bdbb_96000040dfb6row5_col6,#T_ffd6d482_0801_11ef_bdbb_96000040dfb6row5_col8,#T_ffd6d482_0801_11ef_bdbb_96000040dfb6row6_col0,#T_ffd6d482_0801_11ef_bdbb_96000040dfb6row7_col0,#T_ffd6d482_0801_11ef_bdbb_96000040dfb6row7_col2,#T_ffd6d482_0801_11ef_bdbb_96000040dfb6row8_col0,#T_ffd6d482_0801_11ef_bdbb_96000040dfb6row8_col7,#T_ffd6d482_0801_11ef_bdbb_96000040dfb6row9_col0,#T_ffd6d482_0801_11ef_bdbb_96000040dfb6row9_col4,#T_ffd6d482_0801_11ef_bdbb_96000040dfb6row9_col9,#T_ffd6d482_0801_11ef_bdbb_96000040dfb6row9_col12,#T_ffd6d482_0801_11ef_bdbb_96000040dfb6row10_col0,#T_ffd6d482_0801_11ef_bdbb_96000040dfb6row11_col0,#T_ffd6d482_0801_11ef_bdbb_96000040dfb6row11_col3,#T_ffd6d482_0801_11ef_bdbb_96000040dfb6row12_col0{\n",
       "            background-color:  #ffffe5;\n",
       "            color:  #000000;\n",
       "        }#T_ffd6d482_0801_11ef_bdbb_96000040dfb6row0_col1,#T_ffd6d482_0801_11ef_bdbb_96000040dfb6row3_col1{\n",
       "            background-color:  #f8fcbd;\n",
       "            color:  #000000;\n",
       "        }#T_ffd6d482_0801_11ef_bdbb_96000040dfb6row0_col2,#T_ffd6d482_0801_11ef_bdbb_96000040dfb6row12_col11{\n",
       "            background-color:  #31974f;\n",
       "            color:  #000000;\n",
       "        }#T_ffd6d482_0801_11ef_bdbb_96000040dfb6row0_col3{\n",
       "            background-color:  #eff9b3;\n",
       "            color:  #000000;\n",
       "        }#T_ffd6d482_0801_11ef_bdbb_96000040dfb6row0_col4,#T_ffd6d482_0801_11ef_bdbb_96000040dfb6row2_col4{\n",
       "            background-color:  #f9fdc4;\n",
       "            color:  #000000;\n",
       "        }#T_ffd6d482_0801_11ef_bdbb_96000040dfb6row0_col6{\n",
       "            background-color:  #006636;\n",
       "            color:  #f1f1f1;\n",
       "        }#T_ffd6d482_0801_11ef_bdbb_96000040dfb6row0_col7{\n",
       "            background-color:  #d3eda0;\n",
       "            color:  #000000;\n",
       "        }#T_ffd6d482_0801_11ef_bdbb_96000040dfb6row0_col8,#T_ffd6d482_0801_11ef_bdbb_96000040dfb6row8_col9{\n",
       "            background-color:  #7cc87b;\n",
       "            color:  #000000;\n",
       "        }#T_ffd6d482_0801_11ef_bdbb_96000040dfb6row0_col9{\n",
       "            background-color:  #8ed082;\n",
       "            color:  #000000;\n",
       "        }#T_ffd6d482_0801_11ef_bdbb_96000040dfb6row0_col11{\n",
       "            background-color:  #9cd687;\n",
       "            color:  #000000;\n",
       "        }#T_ffd6d482_0801_11ef_bdbb_96000040dfb6row0_col12{\n",
       "            background-color:  #b5e092;\n",
       "            color:  #000000;\n",
       "        }#T_ffd6d482_0801_11ef_bdbb_96000040dfb6row1_col1{\n",
       "            background-color:  #def2a7;\n",
       "            color:  #000000;\n",
       "        }#T_ffd6d482_0801_11ef_bdbb_96000040dfb6row1_col2{\n",
       "            background-color:  #d5eea1;\n",
       "            color:  #000000;\n",
       "        }#T_ffd6d482_0801_11ef_bdbb_96000040dfb6row1_col3{\n",
       "            background-color:  #dff3a8;\n",
       "            color:  #000000;\n",
       "        }#T_ffd6d482_0801_11ef_bdbb_96000040dfb6row1_col4{\n",
       "            background-color:  #ecf7b1;\n",
       "            color:  #000000;\n",
       "        }#T_ffd6d482_0801_11ef_bdbb_96000040dfb6row1_col5,#T_ffd6d482_0801_11ef_bdbb_96000040dfb6row11_col1{\n",
       "            background-color:  #92d183;\n",
       "            color:  #000000;\n",
       "        }#T_ffd6d482_0801_11ef_bdbb_96000040dfb6row1_col6{\n",
       "            background-color:  #39a056;\n",
       "            color:  #000000;\n",
       "        }#T_ffd6d482_0801_11ef_bdbb_96000040dfb6row1_col7,#T_ffd6d482_0801_11ef_bdbb_96000040dfb6row4_col3{\n",
       "            background-color:  #076d39;\n",
       "            color:  #f1f1f1;\n",
       "        }#T_ffd6d482_0801_11ef_bdbb_96000040dfb6row1_col8,#T_ffd6d482_0801_11ef_bdbb_96000040dfb6row9_col7{\n",
       "            background-color:  #dbf1a4;\n",
       "            color:  #000000;\n",
       "        }#T_ffd6d482_0801_11ef_bdbb_96000040dfb6row1_col9{\n",
       "            background-color:  #90d083;\n",
       "            color:  #000000;\n",
       "        }#T_ffd6d482_0801_11ef_bdbb_96000040dfb6row1_col10{\n",
       "            background-color:  #c5e89a;\n",
       "            color:  #000000;\n",
       "        }#T_ffd6d482_0801_11ef_bdbb_96000040dfb6row1_col12{\n",
       "            background-color:  #004f2d;\n",
       "            color:  #f1f1f1;\n",
       "        }#T_ffd6d482_0801_11ef_bdbb_96000040dfb6row2_col1,#T_ffd6d482_0801_11ef_bdbb_96000040dfb6row12_col4{\n",
       "            background-color:  #8bce81;\n",
       "            color:  #000000;\n",
       "        }#T_ffd6d482_0801_11ef_bdbb_96000040dfb6row2_col2{\n",
       "            background-color:  #4cb063;\n",
       "            color:  #000000;\n",
       "        }#T_ffd6d482_0801_11ef_bdbb_96000040dfb6row2_col3,#T_ffd6d482_0801_11ef_bdbb_96000040dfb6row2_col9,#T_ffd6d482_0801_11ef_bdbb_96000040dfb6row2_col10,#T_ffd6d482_0801_11ef_bdbb_96000040dfb6row4_col5,#T_ffd6d482_0801_11ef_bdbb_96000040dfb6row4_col11,#T_ffd6d482_0801_11ef_bdbb_96000040dfb6row6_col6,#T_ffd6d482_0801_11ef_bdbb_96000040dfb6row6_col7,#T_ffd6d482_0801_11ef_bdbb_96000040dfb6row9_col1,#T_ffd6d482_0801_11ef_bdbb_96000040dfb6row10_col2,#T_ffd6d482_0801_11ef_bdbb_96000040dfb6row11_col4,#T_ffd6d482_0801_11ef_bdbb_96000040dfb6row11_col12,#T_ffd6d482_0801_11ef_bdbb_96000040dfb6row12_col8{\n",
       "            background-color:  #004529;\n",
       "            color:  #f1f1f1;\n",
       "        }#T_ffd6d482_0801_11ef_bdbb_96000040dfb6row2_col5,#T_ffd6d482_0801_11ef_bdbb_96000040dfb6row12_col3{\n",
       "            background-color:  #7fc97c;\n",
       "            color:  #000000;\n",
       "        }#T_ffd6d482_0801_11ef_bdbb_96000040dfb6row2_col6{\n",
       "            background-color:  #72c376;\n",
       "            color:  #000000;\n",
       "        }#T_ffd6d482_0801_11ef_bdbb_96000040dfb6row2_col7{\n",
       "            background-color:  #005730;\n",
       "            color:  #f1f1f1;\n",
       "        }#T_ffd6d482_0801_11ef_bdbb_96000040dfb6row2_col8{\n",
       "            background-color:  #e9f6af;\n",
       "            color:  #000000;\n",
       "        }#T_ffd6d482_0801_11ef_bdbb_96000040dfb6row2_col11{\n",
       "            background-color:  #ebf7b0;\n",
       "            color:  #000000;\n",
       "        }#T_ffd6d482_0801_11ef_bdbb_96000040dfb6row2_col12{\n",
       "            background-color:  #42ab5d;\n",
       "            color:  #000000;\n",
       "        }#T_ffd6d482_0801_11ef_bdbb_96000040dfb6row3_col2{\n",
       "            background-color:  #1e8041;\n",
       "            color:  #f1f1f1;\n",
       "        }#T_ffd6d482_0801_11ef_bdbb_96000040dfb6row3_col3,#T_ffd6d482_0801_11ef_bdbb_96000040dfb6row11_col2{\n",
       "            background-color:  #004629;\n",
       "            color:  #f1f1f1;\n",
       "        }#T_ffd6d482_0801_11ef_bdbb_96000040dfb6row3_col4{\n",
       "            background-color:  #f9fdc5;\n",
       "            color:  #000000;\n",
       "        }#T_ffd6d482_0801_11ef_bdbb_96000040dfb6row3_col5,#T_ffd6d482_0801_11ef_bdbb_96000040dfb6row7_col11{\n",
       "            background-color:  #b8e293;\n",
       "            color:  #000000;\n",
       "        }#T_ffd6d482_0801_11ef_bdbb_96000040dfb6row3_col6{\n",
       "            background-color:  #cbea9c;\n",
       "            color:  #000000;\n",
       "        }#T_ffd6d482_0801_11ef_bdbb_96000040dfb6row3_col7{\n",
       "            background-color:  #1f8142;\n",
       "            color:  #f1f1f1;\n",
       "        }#T_ffd6d482_0801_11ef_bdbb_96000040dfb6row3_col8{\n",
       "            background-color:  #64bc6f;\n",
       "            color:  #000000;\n",
       "        }#T_ffd6d482_0801_11ef_bdbb_96000040dfb6row3_col9,#T_ffd6d482_0801_11ef_bdbb_96000040dfb6row9_col5{\n",
       "            background-color:  #329850;\n",
       "            color:  #000000;\n",
       "        }#T_ffd6d482_0801_11ef_bdbb_96000040dfb6row3_col10{\n",
       "            background-color:  #c7e89a;\n",
       "            color:  #000000;\n",
       "        }#T_ffd6d482_0801_11ef_bdbb_96000040dfb6row3_col11{\n",
       "            background-color:  #ddf1a6;\n",
       "            color:  #000000;\n",
       "        }#T_ffd6d482_0801_11ef_bdbb_96000040dfb6row3_col12,#T_ffd6d482_0801_11ef_bdbb_96000040dfb6row11_col8{\n",
       "            background-color:  #b6e192;\n",
       "            color:  #000000;\n",
       "        }#T_ffd6d482_0801_11ef_bdbb_96000040dfb6row4_col1{\n",
       "            background-color:  #f8fcbe;\n",
       "            color:  #000000;\n",
       "        }#T_ffd6d482_0801_11ef_bdbb_96000040dfb6row4_col2{\n",
       "            background-color:  #349a52;\n",
       "            color:  #000000;\n",
       "        }#T_ffd6d482_0801_11ef_bdbb_96000040dfb6row4_col4{\n",
       "            background-color:  #5fba6c;\n",
       "            color:  #000000;\n",
       "        }#T_ffd6d482_0801_11ef_bdbb_96000040dfb6row4_col6,#T_ffd6d482_0801_11ef_bdbb_96000040dfb6row5_col12{\n",
       "            background-color:  #f3fab6;\n",
       "            color:  #000000;\n",
       "        }#T_ffd6d482_0801_11ef_bdbb_96000040dfb6row4_col7{\n",
       "            background-color:  #0a703a;\n",
       "            color:  #f1f1f1;\n",
       "        }#T_ffd6d482_0801_11ef_bdbb_96000040dfb6row4_col8{\n",
       "            background-color:  #006034;\n",
       "            color:  #f1f1f1;\n",
       "        }#T_ffd6d482_0801_11ef_bdbb_96000040dfb6row4_col9{\n",
       "            background-color:  #79c679;\n",
       "            color:  #000000;\n",
       "        }#T_ffd6d482_0801_11ef_bdbb_96000040dfb6row4_col10{\n",
       "            background-color:  #8dcf81;\n",
       "            color:  #000000;\n",
       "        }#T_ffd6d482_0801_11ef_bdbb_96000040dfb6row4_col12,#T_ffd6d482_0801_11ef_bdbb_96000040dfb6row6_col4{\n",
       "            background-color:  #62bb6e;\n",
       "            color:  #000000;\n",
       "        }#T_ffd6d482_0801_11ef_bdbb_96000040dfb6row5_col2,#T_ffd6d482_0801_11ef_bdbb_96000040dfb6row8_col3{\n",
       "            background-color:  #98d486;\n",
       "            color:  #000000;\n",
       "        }#T_ffd6d482_0801_11ef_bdbb_96000040dfb6row5_col3,#T_ffd6d482_0801_11ef_bdbb_96000040dfb6row8_col4{\n",
       "            background-color:  #fafdc9;\n",
       "            color:  #000000;\n",
       "        }#T_ffd6d482_0801_11ef_bdbb_96000040dfb6row5_col4{\n",
       "            background-color:  #c0e597;\n",
       "            color:  #000000;\n",
       "        }#T_ffd6d482_0801_11ef_bdbb_96000040dfb6row5_col5{\n",
       "            background-color:  #fdfed9;\n",
       "            color:  #000000;\n",
       "        }#T_ffd6d482_0801_11ef_bdbb_96000040dfb6row5_col7{\n",
       "            background-color:  #359c53;\n",
       "            color:  #000000;\n",
       "        }#T_ffd6d482_0801_11ef_bdbb_96000040dfb6row5_col9,#T_ffd6d482_0801_11ef_bdbb_96000040dfb6row9_col6{\n",
       "            background-color:  #f6fcb8;\n",
       "            color:  #000000;\n",
       "        }#T_ffd6d482_0801_11ef_bdbb_96000040dfb6row5_col10{\n",
       "            background-color:  #acdd8e;\n",
       "            color:  #000000;\n",
       "        }#T_ffd6d482_0801_11ef_bdbb_96000040dfb6row5_col11{\n",
       "            background-color:  #3ca458;\n",
       "            color:  #000000;\n",
       "        }#T_ffd6d482_0801_11ef_bdbb_96000040dfb6row6_col1{\n",
       "            background-color:  #bce395;\n",
       "            color:  #000000;\n",
       "        }#T_ffd6d482_0801_11ef_bdbb_96000040dfb6row6_col2,#T_ffd6d482_0801_11ef_bdbb_96000040dfb6row6_col11{\n",
       "            background-color:  #208242;\n",
       "            color:  #f1f1f1;\n",
       "        }#T_ffd6d482_0801_11ef_bdbb_96000040dfb6row6_col3{\n",
       "            background-color:  #5cb86b;\n",
       "            color:  #000000;\n",
       "        }#T_ffd6d482_0801_11ef_bdbb_96000040dfb6row6_col5{\n",
       "            background-color:  #d7efa2;\n",
       "            color:  #000000;\n",
       "        }#T_ffd6d482_0801_11ef_bdbb_96000040dfb6row6_col8{\n",
       "            background-color:  #1c7e40;\n",
       "            color:  #f1f1f1;\n",
       "        }#T_ffd6d482_0801_11ef_bdbb_96000040dfb6row6_col9{\n",
       "            background-color:  #7ac77a;\n",
       "            color:  #000000;\n",
       "        }#T_ffd6d482_0801_11ef_bdbb_96000040dfb6row6_col10{\n",
       "            background-color:  #aedd8e;\n",
       "            color:  #000000;\n",
       "        }#T_ffd6d482_0801_11ef_bdbb_96000040dfb6row6_col12{\n",
       "            background-color:  #e4f4ab;\n",
       "            color:  #000000;\n",
       "        }#T_ffd6d482_0801_11ef_bdbb_96000040dfb6row7_col1{\n",
       "            background-color:  #e0f3a8;\n",
       "            color:  #000000;\n",
       "        }#T_ffd6d482_0801_11ef_bdbb_96000040dfb6row7_col3{\n",
       "            background-color:  #096f3a;\n",
       "            color:  #f1f1f1;\n",
       "        }#T_ffd6d482_0801_11ef_bdbb_96000040dfb6row7_col4{\n",
       "            background-color:  #a6da8b;\n",
       "            color:  #000000;\n",
       "        }#T_ffd6d482_0801_11ef_bdbb_96000040dfb6row7_col5,#T_ffd6d482_0801_11ef_bdbb_96000040dfb6row8_col5,#T_ffd6d482_0801_11ef_bdbb_96000040dfb6row8_col12,#T_ffd6d482_0801_11ef_bdbb_96000040dfb6row10_col12{\n",
       "            background-color:  #84cb7e;\n",
       "            color:  #000000;\n",
       "        }#T_ffd6d482_0801_11ef_bdbb_96000040dfb6row7_col6,#T_ffd6d482_0801_11ef_bdbb_96000040dfb6row9_col10{\n",
       "            background-color:  #f5fbb8;\n",
       "            color:  #000000;\n",
       "        }#T_ffd6d482_0801_11ef_bdbb_96000040dfb6row7_col7{\n",
       "            background-color:  #0c723b;\n",
       "            color:  #f1f1f1;\n",
       "        }#T_ffd6d482_0801_11ef_bdbb_96000040dfb6row7_col8{\n",
       "            background-color:  #2c8f4b;\n",
       "            color:  #000000;\n",
       "        }#T_ffd6d482_0801_11ef_bdbb_96000040dfb6row7_col9{\n",
       "            background-color:  #f7fcba;\n",
       "            color:  #000000;\n",
       "        }#T_ffd6d482_0801_11ef_bdbb_96000040dfb6row7_col10{\n",
       "            background-color:  #4eb163;\n",
       "            color:  #000000;\n",
       "        }#T_ffd6d482_0801_11ef_bdbb_96000040dfb6row7_col12{\n",
       "            background-color:  #bae394;\n",
       "            color:  #000000;\n",
       "        }#T_ffd6d482_0801_11ef_bdbb_96000040dfb6row8_col1{\n",
       "            background-color:  #1a7d40;\n",
       "            color:  #f1f1f1;\n",
       "        }#T_ffd6d482_0801_11ef_bdbb_96000040dfb6row8_col2{\n",
       "            background-color:  #51b365;\n",
       "            color:  #000000;\n",
       "        }#T_ffd6d482_0801_11ef_bdbb_96000040dfb6row8_col6{\n",
       "            background-color:  #cfec9e;\n",
       "            color:  #000000;\n",
       "        }#T_ffd6d482_0801_11ef_bdbb_96000040dfb6row8_col8{\n",
       "            background-color:  #83cb7d;\n",
       "            color:  #000000;\n",
       "        }#T_ffd6d482_0801_11ef_bdbb_96000040dfb6row8_col10{\n",
       "            background-color:  #fbfed0;\n",
       "            color:  #000000;\n",
       "        }#T_ffd6d482_0801_11ef_bdbb_96000040dfb6row8_col11{\n",
       "            background-color:  #218242;\n",
       "            color:  #000000;\n",
       "        }#T_ffd6d482_0801_11ef_bdbb_96000040dfb6row9_col2{\n",
       "            background-color:  #edf8b2;\n",
       "            color:  #000000;\n",
       "        }#T_ffd6d482_0801_11ef_bdbb_96000040dfb6row9_col3,#T_ffd6d482_0801_11ef_bdbb_96000040dfb6row10_col3{\n",
       "            background-color:  #9ad587;\n",
       "            color:  #000000;\n",
       "        }#T_ffd6d482_0801_11ef_bdbb_96000040dfb6row9_col8{\n",
       "            background-color:  #ddf2a6;\n",
       "            color:  #000000;\n",
       "        }#T_ffd6d482_0801_11ef_bdbb_96000040dfb6row9_col11{\n",
       "            background-color:  #70c275;\n",
       "            color:  #000000;\n",
       "        }#T_ffd6d482_0801_11ef_bdbb_96000040dfb6row10_col1{\n",
       "            background-color:  #006435;\n",
       "            color:  #f1f1f1;\n",
       "        }#T_ffd6d482_0801_11ef_bdbb_96000040dfb6row10_col4{\n",
       "            background-color:  #f0f9b4;\n",
       "            color:  #000000;\n",
       "        }#T_ffd6d482_0801_11ef_bdbb_96000040dfb6row10_col5{\n",
       "            background-color:  #61bb6d;\n",
       "            color:  #000000;\n",
       "        }#T_ffd6d482_0801_11ef_bdbb_96000040dfb6row10_col6{\n",
       "            background-color:  #005c32;\n",
       "            color:  #f1f1f1;\n",
       "        }#T_ffd6d482_0801_11ef_bdbb_96000040dfb6row10_col7,#T_ffd6d482_0801_11ef_bdbb_96000040dfb6row12_col1,#T_ffd6d482_0801_11ef_bdbb_96000040dfb6row12_col2{\n",
       "            background-color:  #bee596;\n",
       "            color:  #000000;\n",
       "        }#T_ffd6d482_0801_11ef_bdbb_96000040dfb6row10_col8{\n",
       "            background-color:  #1d7f41;\n",
       "            color:  #f1f1f1;\n",
       "        }#T_ffd6d482_0801_11ef_bdbb_96000040dfb6row10_col9,#T_ffd6d482_0801_11ef_bdbb_96000040dfb6row12_col12{\n",
       "            background-color:  #167a3f;\n",
       "            color:  #f1f1f1;\n",
       "        }#T_ffd6d482_0801_11ef_bdbb_96000040dfb6row10_col10{\n",
       "            background-color:  #248644;\n",
       "            color:  #000000;\n",
       "        }#T_ffd6d482_0801_11ef_bdbb_96000040dfb6row10_col11{\n",
       "            background-color:  #30954f;\n",
       "            color:  #000000;\n",
       "        }#T_ffd6d482_0801_11ef_bdbb_96000040dfb6row11_col5{\n",
       "            background-color:  #daf0a4;\n",
       "            color:  #000000;\n",
       "        }#T_ffd6d482_0801_11ef_bdbb_96000040dfb6row11_col6{\n",
       "            background-color:  #00492b;\n",
       "            color:  #f1f1f1;\n",
       "        }#T_ffd6d482_0801_11ef_bdbb_96000040dfb6row11_col7{\n",
       "            background-color:  #10743c;\n",
       "            color:  #f1f1f1;\n",
       "        }#T_ffd6d482_0801_11ef_bdbb_96000040dfb6row11_col9{\n",
       "            background-color:  #369d54;\n",
       "            color:  #000000;\n",
       "        }#T_ffd6d482_0801_11ef_bdbb_96000040dfb6row11_col10{\n",
       "            background-color:  #11753d;\n",
       "            color:  #f1f1f1;\n",
       "        }#T_ffd6d482_0801_11ef_bdbb_96000040dfb6row11_col11{\n",
       "            background-color:  #fcfed4;\n",
       "            color:  #000000;\n",
       "        }#T_ffd6d482_0801_11ef_bdbb_96000040dfb6row12_col5{\n",
       "            background-color:  #3fa85b;\n",
       "            color:  #000000;\n",
       "        }#T_ffd6d482_0801_11ef_bdbb_96000040dfb6row12_col6{\n",
       "            background-color:  #43ac5e;\n",
       "            color:  #000000;\n",
       "        }#T_ffd6d482_0801_11ef_bdbb_96000040dfb6row12_col7{\n",
       "            background-color:  #fafdcc;\n",
       "            color:  #000000;\n",
       "        }#T_ffd6d482_0801_11ef_bdbb_96000040dfb6row12_col9{\n",
       "            background-color:  #66bd70;\n",
       "            color:  #000000;\n",
       "        }#T_ffd6d482_0801_11ef_bdbb_96000040dfb6row12_col10{\n",
       "            background-color:  #95d385;\n",
       "            color:  #000000;\n",
       "        }</style><table id=\"T_ffd6d482_0801_11ef_bdbb_96000040dfb6\" ><caption><h1>Retention игроков по датам</h2></caption><thead>    <tr>        <th class=\"index_name level0\" >день возврата</th>        <th class=\"col_heading level0 col0\" >0</th>        <th class=\"col_heading level0 col1\" >1</th>        <th class=\"col_heading level0 col2\" >2</th>        <th class=\"col_heading level0 col3\" >3</th>        <th class=\"col_heading level0 col4\" >4</th>        <th class=\"col_heading level0 col5\" >5</th>        <th class=\"col_heading level0 col6\" >6</th>        <th class=\"col_heading level0 col7\" >7</th>        <th class=\"col_heading level0 col8\" >8</th>        <th class=\"col_heading level0 col9\" >9</th>        <th class=\"col_heading level0 col10\" >10</th>        <th class=\"col_heading level0 col11\" >11</th>        <th class=\"col_heading level0 col12\" >12</th>    </tr>    <tr>        <th class=\"index_name level0\" >дата регистрации</th>        <th class=\"blank\" ></th>        <th class=\"blank\" ></th>        <th class=\"blank\" ></th>        <th class=\"blank\" ></th>        <th class=\"blank\" ></th>        <th class=\"blank\" ></th>        <th class=\"blank\" ></th>        <th class=\"blank\" ></th>        <th class=\"blank\" ></th>        <th class=\"blank\" ></th>        <th class=\"blank\" ></th>        <th class=\"blank\" ></th>        <th class=\"blank\" ></th>    </tr></thead><tbody>\n",
       "                <tr>\n",
       "                        <th id=\"T_ffd6d482_0801_11ef_bdbb_96000040dfb6level0_row0\" class=\"row_heading level0 row0\" >2018-04-07</th>\n",
       "                        <td id=\"T_ffd6d482_0801_11ef_bdbb_96000040dfb6row0_col0\" class=\"data row0 col0\" >100.00%</td>\n",
       "                        <td id=\"T_ffd6d482_0801_11ef_bdbb_96000040dfb6row0_col1\" class=\"data row0 col1\" >1.34%</td>\n",
       "                        <td id=\"T_ffd6d482_0801_11ef_bdbb_96000040dfb6row0_col2\" class=\"data row0 col2\" >4.81%</td>\n",
       "                        <td id=\"T_ffd6d482_0801_11ef_bdbb_96000040dfb6row0_col3\" class=\"data row0 col3\" >3.74%</td>\n",
       "                        <td id=\"T_ffd6d482_0801_11ef_bdbb_96000040dfb6row0_col4\" class=\"data row0 col4\" >4.28%</td>\n",
       "                        <td id=\"T_ffd6d482_0801_11ef_bdbb_96000040dfb6row0_col5\" class=\"data row0 col5\" >3.74%</td>\n",
       "                        <td id=\"T_ffd6d482_0801_11ef_bdbb_96000040dfb6row0_col6\" class=\"data row0 col6\" >8.29%</td>\n",
       "                        <td id=\"T_ffd6d482_0801_11ef_bdbb_96000040dfb6row0_col7\" class=\"data row0 col7\" >5.08%</td>\n",
       "                        <td id=\"T_ffd6d482_0801_11ef_bdbb_96000040dfb6row0_col8\" class=\"data row0 col8\" >4.55%</td>\n",
       "                        <td id=\"T_ffd6d482_0801_11ef_bdbb_96000040dfb6row0_col9\" class=\"data row0 col9\" >5.08%</td>\n",
       "                        <td id=\"T_ffd6d482_0801_11ef_bdbb_96000040dfb6row0_col10\" class=\"data row0 col10\" >3.74%</td>\n",
       "                        <td id=\"T_ffd6d482_0801_11ef_bdbb_96000040dfb6row0_col11\" class=\"data row0 col11\" >4.55%</td>\n",
       "                        <td id=\"T_ffd6d482_0801_11ef_bdbb_96000040dfb6row0_col12\" class=\"data row0 col12\" >4.81%</td>\n",
       "            </tr>\n",
       "            <tr>\n",
       "                        <th id=\"T_ffd6d482_0801_11ef_bdbb_96000040dfb6level0_row1\" class=\"row_heading level0 row1\" >2018-04-08</th>\n",
       "                        <td id=\"T_ffd6d482_0801_11ef_bdbb_96000040dfb6row1_col0\" class=\"data row1 col0\" >100.00%</td>\n",
       "                        <td id=\"T_ffd6d482_0801_11ef_bdbb_96000040dfb6row1_col1\" class=\"data row1 col1\" >1.60%</td>\n",
       "                        <td id=\"T_ffd6d482_0801_11ef_bdbb_96000040dfb6row1_col2\" class=\"data row1 col2\" >3.47%</td>\n",
       "                        <td id=\"T_ffd6d482_0801_11ef_bdbb_96000040dfb6row1_col3\" class=\"data row1 col3\" >4.00%</td>\n",
       "                        <td id=\"T_ffd6d482_0801_11ef_bdbb_96000040dfb6row1_col4\" class=\"data row1 col4\" >4.53%</td>\n",
       "                        <td id=\"T_ffd6d482_0801_11ef_bdbb_96000040dfb6row1_col5\" class=\"data row1 col5\" >6.40%</td>\n",
       "                        <td id=\"T_ffd6d482_0801_11ef_bdbb_96000040dfb6row1_col6\" class=\"data row1 col6\" >7.47%</td>\n",
       "                        <td id=\"T_ffd6d482_0801_11ef_bdbb_96000040dfb6row1_col7\" class=\"data row1 col7\" >6.93%</td>\n",
       "                        <td id=\"T_ffd6d482_0801_11ef_bdbb_96000040dfb6row1_col8\" class=\"data row1 col8\" >3.47%</td>\n",
       "                        <td id=\"T_ffd6d482_0801_11ef_bdbb_96000040dfb6row1_col9\" class=\"data row1 col9\" >5.07%</td>\n",
       "                        <td id=\"T_ffd6d482_0801_11ef_bdbb_96000040dfb6row1_col10\" class=\"data row1 col10\" >4.80%</td>\n",
       "                        <td id=\"T_ffd6d482_0801_11ef_bdbb_96000040dfb6row1_col11\" class=\"data row1 col11\" >2.67%</td>\n",
       "                        <td id=\"T_ffd6d482_0801_11ef_bdbb_96000040dfb6row1_col12\" class=\"data row1 col12\" >7.20%</td>\n",
       "            </tr>\n",
       "            <tr>\n",
       "                        <th id=\"T_ffd6d482_0801_11ef_bdbb_96000040dfb6level0_row2\" class=\"row_heading level0 row2\" >2018-04-09</th>\n",
       "                        <td id=\"T_ffd6d482_0801_11ef_bdbb_96000040dfb6row2_col0\" class=\"data row2 col0\" >100.00%</td>\n",
       "                        <td id=\"T_ffd6d482_0801_11ef_bdbb_96000040dfb6row2_col1\" class=\"data row2 col1\" >2.13%</td>\n",
       "                        <td id=\"T_ffd6d482_0801_11ef_bdbb_96000040dfb6row2_col2\" class=\"data row2 col2\" >4.53%</td>\n",
       "                        <td id=\"T_ffd6d482_0801_11ef_bdbb_96000040dfb6row2_col3\" class=\"data row2 col3\" >6.93%</td>\n",
       "                        <td id=\"T_ffd6d482_0801_11ef_bdbb_96000040dfb6row2_col4\" class=\"data row2 col4\" >4.27%</td>\n",
       "                        <td id=\"T_ffd6d482_0801_11ef_bdbb_96000040dfb6row2_col5\" class=\"data row2 col5\" >6.67%</td>\n",
       "                        <td id=\"T_ffd6d482_0801_11ef_bdbb_96000040dfb6row2_col6\" class=\"data row2 col6\" >6.93%</td>\n",
       "                        <td id=\"T_ffd6d482_0801_11ef_bdbb_96000040dfb6row2_col7\" class=\"data row2 col7\" >7.20%</td>\n",
       "                        <td id=\"T_ffd6d482_0801_11ef_bdbb_96000040dfb6row2_col8\" class=\"data row2 col8\" >3.20%</td>\n",
       "                        <td id=\"T_ffd6d482_0801_11ef_bdbb_96000040dfb6row2_col9\" class=\"data row2 col9\" >7.47%</td>\n",
       "                        <td id=\"T_ffd6d482_0801_11ef_bdbb_96000040dfb6row2_col10\" class=\"data row2 col10\" >7.20%</td>\n",
       "                        <td id=\"T_ffd6d482_0801_11ef_bdbb_96000040dfb6row2_col11\" class=\"data row2 col11\" >3.47%</td>\n",
       "                        <td id=\"T_ffd6d482_0801_11ef_bdbb_96000040dfb6row2_col12\" class=\"data row2 col12\" >5.87%</td>\n",
       "            </tr>\n",
       "            <tr>\n",
       "                        <th id=\"T_ffd6d482_0801_11ef_bdbb_96000040dfb6level0_row3\" class=\"row_heading level0 row3\" >2018-04-10</th>\n",
       "                        <td id=\"T_ffd6d482_0801_11ef_bdbb_96000040dfb6row3_col0\" class=\"data row3 col0\" >100.00%</td>\n",
       "                        <td id=\"T_ffd6d482_0801_11ef_bdbb_96000040dfb6row3_col1\" class=\"data row3 col1\" >1.33%</td>\n",
       "                        <td id=\"T_ffd6d482_0801_11ef_bdbb_96000040dfb6row3_col2\" class=\"data row3 col2\" >5.05%</td>\n",
       "                        <td id=\"T_ffd6d482_0801_11ef_bdbb_96000040dfb6row3_col3\" class=\"data row3 col3\" >6.91%</td>\n",
       "                        <td id=\"T_ffd6d482_0801_11ef_bdbb_96000040dfb6row3_col4\" class=\"data row3 col4\" >4.26%</td>\n",
       "                        <td id=\"T_ffd6d482_0801_11ef_bdbb_96000040dfb6row3_col5\" class=\"data row3 col5\" >5.85%</td>\n",
       "                        <td id=\"T_ffd6d482_0801_11ef_bdbb_96000040dfb6row3_col6\" class=\"data row3 col6\" >6.12%</td>\n",
       "                        <td id=\"T_ffd6d482_0801_11ef_bdbb_96000040dfb6row3_col7\" class=\"data row3 col7\" >6.65%</td>\n",
       "                        <td id=\"T_ffd6d482_0801_11ef_bdbb_96000040dfb6row3_col8\" class=\"data row3 col8\" >4.79%</td>\n",
       "                        <td id=\"T_ffd6d482_0801_11ef_bdbb_96000040dfb6row3_col9\" class=\"data row3 col9\" >6.12%</td>\n",
       "                        <td id=\"T_ffd6d482_0801_11ef_bdbb_96000040dfb6row3_col10\" class=\"data row3 col10\" >4.79%</td>\n",
       "                        <td id=\"T_ffd6d482_0801_11ef_bdbb_96000040dfb6row3_col11\" class=\"data row3 col11\" >3.72%</td>\n",
       "                        <td id=\"T_ffd6d482_0801_11ef_bdbb_96000040dfb6row3_col12\" class=\"data row3 col12\" >4.79%</td>\n",
       "            </tr>\n",
       "            <tr>\n",
       "                        <th id=\"T_ffd6d482_0801_11ef_bdbb_96000040dfb6level0_row4\" class=\"row_heading level0 row4\" >2018-04-11</th>\n",
       "                        <td id=\"T_ffd6d482_0801_11ef_bdbb_96000040dfb6row4_col0\" class=\"data row4 col0\" >100.00%</td>\n",
       "                        <td id=\"T_ffd6d482_0801_11ef_bdbb_96000040dfb6row4_col1\" class=\"data row4 col1\" >1.33%</td>\n",
       "                        <td id=\"T_ffd6d482_0801_11ef_bdbb_96000040dfb6row4_col2\" class=\"data row4 col2\" >4.77%</td>\n",
       "                        <td id=\"T_ffd6d482_0801_11ef_bdbb_96000040dfb6row4_col3\" class=\"data row4 col3\" >6.37%</td>\n",
       "                        <td id=\"T_ffd6d482_0801_11ef_bdbb_96000040dfb6row4_col4\" class=\"data row4 col4\" >5.84%</td>\n",
       "                        <td id=\"T_ffd6d482_0801_11ef_bdbb_96000040dfb6row4_col5\" class=\"data row4 col5\" >9.81%</td>\n",
       "                        <td id=\"T_ffd6d482_0801_11ef_bdbb_96000040dfb6row4_col6\" class=\"data row4 col6\" >5.57%</td>\n",
       "                        <td id=\"T_ffd6d482_0801_11ef_bdbb_96000040dfb6row4_col7\" class=\"data row4 col7\" >6.90%</td>\n",
       "                        <td id=\"T_ffd6d482_0801_11ef_bdbb_96000040dfb6row4_col8\" class=\"data row4 col8\" >6.37%</td>\n",
       "                        <td id=\"T_ffd6d482_0801_11ef_bdbb_96000040dfb6row4_col9\" class=\"data row4 col9\" >5.31%</td>\n",
       "                        <td id=\"T_ffd6d482_0801_11ef_bdbb_96000040dfb6row4_col10\" class=\"data row4 col10\" >5.31%</td>\n",
       "                        <td id=\"T_ffd6d482_0801_11ef_bdbb_96000040dfb6row4_col11\" class=\"data row4 col11\" >7.16%</td>\n",
       "                        <td id=\"T_ffd6d482_0801_11ef_bdbb_96000040dfb6row4_col12\" class=\"data row4 col12\" >5.57%</td>\n",
       "            </tr>\n",
       "            <tr>\n",
       "                        <th id=\"T_ffd6d482_0801_11ef_bdbb_96000040dfb6level0_row5\" class=\"row_heading level0 row5\" >2018-04-12</th>\n",
       "                        <td id=\"T_ffd6d482_0801_11ef_bdbb_96000040dfb6row5_col0\" class=\"data row5 col0\" >100.00%</td>\n",
       "                        <td id=\"T_ffd6d482_0801_11ef_bdbb_96000040dfb6row5_col1\" class=\"data row5 col1\" >1.06%</td>\n",
       "                        <td id=\"T_ffd6d482_0801_11ef_bdbb_96000040dfb6row5_col2\" class=\"data row5 col2\" >3.98%</td>\n",
       "                        <td id=\"T_ffd6d482_0801_11ef_bdbb_96000040dfb6row5_col3\" class=\"data row5 col3\" >3.45%</td>\n",
       "                        <td id=\"T_ffd6d482_0801_11ef_bdbb_96000040dfb6row5_col4\" class=\"data row5 col4\" >5.04%</td>\n",
       "                        <td id=\"T_ffd6d482_0801_11ef_bdbb_96000040dfb6row5_col5\" class=\"data row5 col5\" >3.98%</td>\n",
       "                        <td id=\"T_ffd6d482_0801_11ef_bdbb_96000040dfb6row5_col6\" class=\"data row5 col6\" >5.04%</td>\n",
       "                        <td id=\"T_ffd6d482_0801_11ef_bdbb_96000040dfb6row5_col7\" class=\"data row5 col7\" >6.37%</td>\n",
       "                        <td id=\"T_ffd6d482_0801_11ef_bdbb_96000040dfb6row5_col8\" class=\"data row5 col8\" >2.39%</td>\n",
       "                        <td id=\"T_ffd6d482_0801_11ef_bdbb_96000040dfb6row5_col9\" class=\"data row5 col9\" >3.71%</td>\n",
       "                        <td id=\"T_ffd6d482_0801_11ef_bdbb_96000040dfb6row5_col10\" class=\"data row5 col10\" >5.04%</td>\n",
       "                        <td id=\"T_ffd6d482_0801_11ef_bdbb_96000040dfb6row5_col11\" class=\"data row5 col11\" >5.57%</td>\n",
       "                        <td id=\"T_ffd6d482_0801_11ef_bdbb_96000040dfb6row5_col12\" class=\"data row5 col12\" >3.98%</td>\n",
       "            </tr>\n",
       "            <tr>\n",
       "                        <th id=\"T_ffd6d482_0801_11ef_bdbb_96000040dfb6level0_row6\" class=\"row_heading level0 row6\" >2018-04-13</th>\n",
       "                        <td id=\"T_ffd6d482_0801_11ef_bdbb_96000040dfb6row6_col0\" class=\"data row6 col0\" >100.00%</td>\n",
       "                        <td id=\"T_ffd6d482_0801_11ef_bdbb_96000040dfb6row6_col1\" class=\"data row6 col1\" >1.85%</td>\n",
       "                        <td id=\"T_ffd6d482_0801_11ef_bdbb_96000040dfb6row6_col2\" class=\"data row6 col2\" >5.03%</td>\n",
       "                        <td id=\"T_ffd6d482_0801_11ef_bdbb_96000040dfb6row6_col3\" class=\"data row6 col3\" >5.29%</td>\n",
       "                        <td id=\"T_ffd6d482_0801_11ef_bdbb_96000040dfb6row6_col4\" class=\"data row6 col4\" >5.82%</td>\n",
       "                        <td id=\"T_ffd6d482_0801_11ef_bdbb_96000040dfb6row6_col5\" class=\"data row6 col5\" >5.29%</td>\n",
       "                        <td id=\"T_ffd6d482_0801_11ef_bdbb_96000040dfb6row6_col6\" class=\"data row6 col6\" >8.73%</td>\n",
       "                        <td id=\"T_ffd6d482_0801_11ef_bdbb_96000040dfb6row6_col7\" class=\"data row6 col7\" >7.41%</td>\n",
       "                        <td id=\"T_ffd6d482_0801_11ef_bdbb_96000040dfb6row6_col8\" class=\"data row6 col8\" >5.82%</td>\n",
       "                        <td id=\"T_ffd6d482_0801_11ef_bdbb_96000040dfb6row6_col9\" class=\"data row6 col9\" >5.29%</td>\n",
       "                        <td id=\"T_ffd6d482_0801_11ef_bdbb_96000040dfb6row6_col10\" class=\"data row6 col10\" >5.03%</td>\n",
       "                        <td id=\"T_ffd6d482_0801_11ef_bdbb_96000040dfb6row6_col11\" class=\"data row6 col11\" >6.08%</td>\n",
       "                        <td id=\"T_ffd6d482_0801_11ef_bdbb_96000040dfb6row6_col12\" class=\"data row6 col12\" >4.23%</td>\n",
       "            </tr>\n",
       "            <tr>\n",
       "                        <th id=\"T_ffd6d482_0801_11ef_bdbb_96000040dfb6level0_row7\" class=\"row_heading level0 row7\" >2018-04-14</th>\n",
       "                        <td id=\"T_ffd6d482_0801_11ef_bdbb_96000040dfb6row7_col0\" class=\"data row7 col0\" >100.00%</td>\n",
       "                        <td id=\"T_ffd6d482_0801_11ef_bdbb_96000040dfb6row7_col1\" class=\"data row7 col1\" >1.58%</td>\n",
       "                        <td id=\"T_ffd6d482_0801_11ef_bdbb_96000040dfb6row7_col2\" class=\"data row7 col2\" >2.64%</td>\n",
       "                        <td id=\"T_ffd6d482_0801_11ef_bdbb_96000040dfb6row7_col3\" class=\"data row7 col3\" >6.33%</td>\n",
       "                        <td id=\"T_ffd6d482_0801_11ef_bdbb_96000040dfb6row7_col4\" class=\"data row7 col4\" >5.28%</td>\n",
       "                        <td id=\"T_ffd6d482_0801_11ef_bdbb_96000040dfb6row7_col5\" class=\"data row7 col5\" >6.60%</td>\n",
       "                        <td id=\"T_ffd6d482_0801_11ef_bdbb_96000040dfb6row7_col6\" class=\"data row7 col6\" >5.54%</td>\n",
       "                        <td id=\"T_ffd6d482_0801_11ef_bdbb_96000040dfb6row7_col7\" class=\"data row7 col7\" >6.86%</td>\n",
       "                        <td id=\"T_ffd6d482_0801_11ef_bdbb_96000040dfb6row7_col8\" class=\"data row7 col8\" >5.54%</td>\n",
       "                        <td id=\"T_ffd6d482_0801_11ef_bdbb_96000040dfb6row7_col9\" class=\"data row7 col9\" >3.69%</td>\n",
       "                        <td id=\"T_ffd6d482_0801_11ef_bdbb_96000040dfb6row7_col10\" class=\"data row7 col10\" >5.80%</td>\n",
       "                        <td id=\"T_ffd6d482_0801_11ef_bdbb_96000040dfb6row7_col11\" class=\"data row7 col11\" >4.22%</td>\n",
       "                        <td id=\"T_ffd6d482_0801_11ef_bdbb_96000040dfb6row7_col12\" class=\"data row7 col12\" >4.75%</td>\n",
       "            </tr>\n",
       "            <tr>\n",
       "                        <th id=\"T_ffd6d482_0801_11ef_bdbb_96000040dfb6level0_row8\" class=\"row_heading level0 row8\" >2018-04-15</th>\n",
       "                        <td id=\"T_ffd6d482_0801_11ef_bdbb_96000040dfb6row8_col0\" class=\"data row8 col0\" >100.00%</td>\n",
       "                        <td id=\"T_ffd6d482_0801_11ef_bdbb_96000040dfb6row8_col1\" class=\"data row8 col1\" >2.90%</td>\n",
       "                        <td id=\"T_ffd6d482_0801_11ef_bdbb_96000040dfb6row8_col2\" class=\"data row8 col2\" >4.49%</td>\n",
       "                        <td id=\"T_ffd6d482_0801_11ef_bdbb_96000040dfb6row8_col3\" class=\"data row8 col3\" >4.75%</td>\n",
       "                        <td id=\"T_ffd6d482_0801_11ef_bdbb_96000040dfb6row8_col4\" class=\"data row8 col4\" >4.22%</td>\n",
       "                        <td id=\"T_ffd6d482_0801_11ef_bdbb_96000040dfb6row8_col5\" class=\"data row8 col5\" >6.60%</td>\n",
       "                        <td id=\"T_ffd6d482_0801_11ef_bdbb_96000040dfb6row8_col6\" class=\"data row8 col6\" >6.07%</td>\n",
       "                        <td id=\"T_ffd6d482_0801_11ef_bdbb_96000040dfb6row8_col7\" class=\"data row8 col7\" >4.22%</td>\n",
       "                        <td id=\"T_ffd6d482_0801_11ef_bdbb_96000040dfb6row8_col8\" class=\"data row8 col8\" >4.49%</td>\n",
       "                        <td id=\"T_ffd6d482_0801_11ef_bdbb_96000040dfb6row8_col9\" class=\"data row8 col9\" >5.28%</td>\n",
       "                        <td id=\"T_ffd6d482_0801_11ef_bdbb_96000040dfb6row8_col10\" class=\"data row8 col10\" >3.96%</td>\n",
       "                        <td id=\"T_ffd6d482_0801_11ef_bdbb_96000040dfb6row8_col11\" class=\"data row8 col11\" >6.07%</td>\n",
       "                        <td id=\"T_ffd6d482_0801_11ef_bdbb_96000040dfb6row8_col12\" class=\"data row8 col12\" >5.28%</td>\n",
       "            </tr>\n",
       "            <tr>\n",
       "                        <th id=\"T_ffd6d482_0801_11ef_bdbb_96000040dfb6level0_row9\" class=\"row_heading level0 row9\" >2018-04-16</th>\n",
       "                        <td id=\"T_ffd6d482_0801_11ef_bdbb_96000040dfb6row9_col0\" class=\"data row9 col0\" >100.00%</td>\n",
       "                        <td id=\"T_ffd6d482_0801_11ef_bdbb_96000040dfb6row9_col1\" class=\"data row9 col1\" >3.42%</td>\n",
       "                        <td id=\"T_ffd6d482_0801_11ef_bdbb_96000040dfb6row9_col2\" class=\"data row9 col2\" >3.16%</td>\n",
       "                        <td id=\"T_ffd6d482_0801_11ef_bdbb_96000040dfb6row9_col3\" class=\"data row9 col3\" >4.74%</td>\n",
       "                        <td id=\"T_ffd6d482_0801_11ef_bdbb_96000040dfb6row9_col4\" class=\"data row9 col4\" >3.95%</td>\n",
       "                        <td id=\"T_ffd6d482_0801_11ef_bdbb_96000040dfb6row9_col5\" class=\"data row9 col5\" >7.89%</td>\n",
       "                        <td id=\"T_ffd6d482_0801_11ef_bdbb_96000040dfb6row9_col6\" class=\"data row9 col6\" >5.53%</td>\n",
       "                        <td id=\"T_ffd6d482_0801_11ef_bdbb_96000040dfb6row9_col7\" class=\"data row9 col7\" >5.00%</td>\n",
       "                        <td id=\"T_ffd6d482_0801_11ef_bdbb_96000040dfb6row9_col8\" class=\"data row9 col8\" >3.42%</td>\n",
       "                        <td id=\"T_ffd6d482_0801_11ef_bdbb_96000040dfb6row9_col9\" class=\"data row9 col9\" >3.16%</td>\n",
       "                        <td id=\"T_ffd6d482_0801_11ef_bdbb_96000040dfb6row9_col10\" class=\"data row9 col10\" >4.21%</td>\n",
       "                        <td id=\"T_ffd6d482_0801_11ef_bdbb_96000040dfb6row9_col11\" class=\"data row9 col11\" >5.00%</td>\n",
       "                        <td id=\"T_ffd6d482_0801_11ef_bdbb_96000040dfb6row9_col12\" class=\"data row9 col12\" >3.42%</td>\n",
       "            </tr>\n",
       "            <tr>\n",
       "                        <th id=\"T_ffd6d482_0801_11ef_bdbb_96000040dfb6level0_row10\" class=\"row_heading level0 row10\" >2018-04-17</th>\n",
       "                        <td id=\"T_ffd6d482_0801_11ef_bdbb_96000040dfb6row10_col0\" class=\"data row10 col0\" >100.00%</td>\n",
       "                        <td id=\"T_ffd6d482_0801_11ef_bdbb_96000040dfb6row10_col1\" class=\"data row10 col1\" >3.16%</td>\n",
       "                        <td id=\"T_ffd6d482_0801_11ef_bdbb_96000040dfb6row10_col2\" class=\"data row10 col2\" >5.79%</td>\n",
       "                        <td id=\"T_ffd6d482_0801_11ef_bdbb_96000040dfb6row10_col3\" class=\"data row10 col3\" >4.74%</td>\n",
       "                        <td id=\"T_ffd6d482_0801_11ef_bdbb_96000040dfb6row10_col4\" class=\"data row10 col4\" >4.47%</td>\n",
       "                        <td id=\"T_ffd6d482_0801_11ef_bdbb_96000040dfb6row10_col5\" class=\"data row10 col5\" >7.11%</td>\n",
       "                        <td id=\"T_ffd6d482_0801_11ef_bdbb_96000040dfb6row10_col6\" class=\"data row10 col6\" >8.42%</td>\n",
       "                        <td id=\"T_ffd6d482_0801_11ef_bdbb_96000040dfb6row10_col7\" class=\"data row10 col7\" >5.26%</td>\n",
       "                        <td id=\"T_ffd6d482_0801_11ef_bdbb_96000040dfb6row10_col8\" class=\"data row10 col8\" >5.79%</td>\n",
       "                        <td id=\"T_ffd6d482_0801_11ef_bdbb_96000040dfb6row10_col9\" class=\"data row10 col9\" >6.58%</td>\n",
       "                        <td id=\"T_ffd6d482_0801_11ef_bdbb_96000040dfb6row10_col10\" class=\"data row10 col10\" >6.32%</td>\n",
       "                        <td id=\"T_ffd6d482_0801_11ef_bdbb_96000040dfb6row10_col11\" class=\"data row10 col11\" >5.79%</td>\n",
       "                        <td id=\"T_ffd6d482_0801_11ef_bdbb_96000040dfb6row10_col12\" class=\"data row10 col12\" >5.26%</td>\n",
       "            </tr>\n",
       "            <tr>\n",
       "                        <th id=\"T_ffd6d482_0801_11ef_bdbb_96000040dfb6level0_row11\" class=\"row_heading level0 row11\" >2018-04-18</th>\n",
       "                        <td id=\"T_ffd6d482_0801_11ef_bdbb_96000040dfb6row11_col0\" class=\"data row11 col0\" >100.00%</td>\n",
       "                        <td id=\"T_ffd6d482_0801_11ef_bdbb_96000040dfb6row11_col1\" class=\"data row11 col1\" >2.10%</td>\n",
       "                        <td id=\"T_ffd6d482_0801_11ef_bdbb_96000040dfb6row11_col2\" class=\"data row11 col2\" >5.77%</td>\n",
       "                        <td id=\"T_ffd6d482_0801_11ef_bdbb_96000040dfb6row11_col3\" class=\"data row11 col3\" >3.15%</td>\n",
       "                        <td id=\"T_ffd6d482_0801_11ef_bdbb_96000040dfb6row11_col4\" class=\"data row11 col4\" >7.35%</td>\n",
       "                        <td id=\"T_ffd6d482_0801_11ef_bdbb_96000040dfb6row11_col5\" class=\"data row11 col5\" >5.25%</td>\n",
       "                        <td id=\"T_ffd6d482_0801_11ef_bdbb_96000040dfb6row11_col6\" class=\"data row11 col6\" >8.66%</td>\n",
       "                        <td id=\"T_ffd6d482_0801_11ef_bdbb_96000040dfb6row11_col7\" class=\"data row11 col7\" >6.82%</td>\n",
       "                        <td id=\"T_ffd6d482_0801_11ef_bdbb_96000040dfb6row11_col8\" class=\"data row11 col8\" >3.94%</td>\n",
       "                        <td id=\"T_ffd6d482_0801_11ef_bdbb_96000040dfb6row11_col9\" class=\"data row11 col9\" >6.04%</td>\n",
       "                        <td id=\"T_ffd6d482_0801_11ef_bdbb_96000040dfb6row11_col10\" class=\"data row11 col10\" >6.56%</td>\n",
       "                        <td id=\"T_ffd6d482_0801_11ef_bdbb_96000040dfb6row11_col11\" class=\"data row11 col11\" >2.89%</td>\n",
       "                        <td id=\"T_ffd6d482_0801_11ef_bdbb_96000040dfb6row11_col12\" class=\"data row11 col12\" >7.35%</td>\n",
       "            </tr>\n",
       "            <tr>\n",
       "                        <th id=\"T_ffd6d482_0801_11ef_bdbb_96000040dfb6level0_row12\" class=\"row_heading level0 row12\" >2018-04-19</th>\n",
       "                        <td id=\"T_ffd6d482_0801_11ef_bdbb_96000040dfb6row12_col0\" class=\"data row12 col0\" >100.00%</td>\n",
       "                        <td id=\"T_ffd6d482_0801_11ef_bdbb_96000040dfb6row12_col1\" class=\"data row12 col1\" >1.83%</td>\n",
       "                        <td id=\"T_ffd6d482_0801_11ef_bdbb_96000040dfb6row12_col2\" class=\"data row12 col2\" >3.66%</td>\n",
       "                        <td id=\"T_ffd6d482_0801_11ef_bdbb_96000040dfb6row12_col3\" class=\"data row12 col3\" >4.97%</td>\n",
       "                        <td id=\"T_ffd6d482_0801_11ef_bdbb_96000040dfb6row12_col4\" class=\"data row12 col4\" >5.50%</td>\n",
       "                        <td id=\"T_ffd6d482_0801_11ef_bdbb_96000040dfb6row12_col5\" class=\"data row12 col5\" >7.59%</td>\n",
       "                        <td id=\"T_ffd6d482_0801_11ef_bdbb_96000040dfb6row12_col6\" class=\"data row12 col6\" >7.33%</td>\n",
       "                        <td id=\"T_ffd6d482_0801_11ef_bdbb_96000040dfb6row12_col7\" class=\"data row12 col7\" >4.45%</td>\n",
       "                        <td id=\"T_ffd6d482_0801_11ef_bdbb_96000040dfb6row12_col8\" class=\"data row12 col8\" >6.81%</td>\n",
       "                        <td id=\"T_ffd6d482_0801_11ef_bdbb_96000040dfb6row12_col9\" class=\"data row12 col9\" >5.50%</td>\n",
       "                        <td id=\"T_ffd6d482_0801_11ef_bdbb_96000040dfb6row12_col10\" class=\"data row12 col10\" >5.24%</td>\n",
       "                        <td id=\"T_ffd6d482_0801_11ef_bdbb_96000040dfb6row12_col11\" class=\"data row12 col11\" >5.76%</td>\n",
       "                        <td id=\"T_ffd6d482_0801_11ef_bdbb_96000040dfb6row12_col12\" class=\"data row12 col12\" >6.54%</td>\n",
       "            </tr>\n",
       "    </tbody></table>"
      ],
      "text/plain": [
       "<pandas.io.formats.style.Styler at 0x7f4a8a40d518>"
      ]
     },
     "execution_count": 32,
     "metadata": {},
     "output_type": "execute_result"
    }
   ],
   "source": [
    "# retention('дата регистрации', 'дата окончания периода')\n",
    "retention('2018-04-07', '2018-04-19')"
   ]
  },
  {
   "cell_type": "code",
   "execution_count": null,
   "metadata": {},
   "outputs": [],
   "source": []
  },
  {
   "cell_type": "markdown",
   "metadata": {},
   "source": [
    "# ЗАДАНИЕ 2"
   ]
  },
  {
   "cell_type": "markdown",
   "metadata": {},
   "source": [
    "<div class=\"alert alert-block alert-info\">\n",
    "Имеются результаты A/B теста, в котором двум группам пользователей предлагались различные наборы акционных предложений. <br> Известно, что ARPU в тестовой группе выше на 5%, чем в контрольной. <br> При этом в контрольной группе 1928 игроков из 202103 оказались платящими, а в тестовой – 1805 из 202667.<br>\n",
    "Какой набор предложений можно считать лучшим? <br> \n",
    "Какие метрики стоит проанализировать для принятия правильного решения и как?\n",
    "    <div>"
   ]
  },
  {
   "cell_type": "code",
   "execution_count": 4,
   "metadata": {},
   "outputs": [],
   "source": [
    "# ссылка на яндекс диск\n",
    "public_path_1 = 'https://disk.yandex.ru/d/SOkIsD5A8xlI7Q'  "
   ]
  },
  {
   "cell_type": "code",
   "execution_count": 5,
   "metadata": {},
   "outputs": [
    {
     "data": {
      "text/html": [
       "<div>\n",
       "<style scoped>\n",
       "    .dataframe tbody tr th:only-of-type {\n",
       "        vertical-align: middle;\n",
       "    }\n",
       "\n",
       "    .dataframe tbody tr th {\n",
       "        vertical-align: top;\n",
       "    }\n",
       "\n",
       "    .dataframe thead th {\n",
       "        text-align: right;\n",
       "    }\n",
       "</style>\n",
       "<table border=\"1\" class=\"dataframe\">\n",
       "  <thead>\n",
       "    <tr style=\"text-align: right;\">\n",
       "      <th></th>\n",
       "      <th>user_id</th>\n",
       "      <th>revenue</th>\n",
       "      <th>testgroup</th>\n",
       "    </tr>\n",
       "  </thead>\n",
       "  <tbody>\n",
       "    <tr>\n",
       "      <th>0</th>\n",
       "      <td>1</td>\n",
       "      <td>0</td>\n",
       "      <td>b</td>\n",
       "    </tr>\n",
       "    <tr>\n",
       "      <th>1</th>\n",
       "      <td>2</td>\n",
       "      <td>0</td>\n",
       "      <td>a</td>\n",
       "    </tr>\n",
       "    <tr>\n",
       "      <th>2</th>\n",
       "      <td>3</td>\n",
       "      <td>0</td>\n",
       "      <td>a</td>\n",
       "    </tr>\n",
       "    <tr>\n",
       "      <th>3</th>\n",
       "      <td>4</td>\n",
       "      <td>0</td>\n",
       "      <td>b</td>\n",
       "    </tr>\n",
       "    <tr>\n",
       "      <th>4</th>\n",
       "      <td>5</td>\n",
       "      <td>0</td>\n",
       "      <td>b</td>\n",
       "    </tr>\n",
       "  </tbody>\n",
       "</table>\n",
       "</div>"
      ],
      "text/plain": [
       "   user_id  revenue testgroup\n",
       "0        1        0         b\n",
       "1        2        0         a\n",
       "2        3        0         a\n",
       "3        4        0         b\n",
       "4        5        0         b"
      ]
     },
     "execution_count": 5,
     "metadata": {},
     "output_type": "execute_result"
    }
   ],
   "source": [
    "# Получаем загрузочную ссылку\n",
    "def get_yandex(public_path):\n",
    "    base_url = 'https://cloud-api.yandex.net/v1/disk/public/resources/download?'\n",
    "    final_url = base_url + urlencode(dict(public_key=public_path))\n",
    "    response = requests.get(final_url)\n",
    "    download_url = response.json()['href']\n",
    "    return download_url\n",
    "\n",
    "df_AB = pd.read_csv(get_yandex(public_path_1), encoding='windows=1251', sep=';')\n",
    "df_AB.head()"
   ]
  },
  {
   "cell_type": "markdown",
   "metadata": {},
   "source": [
    "#### Проведем для начала предобработку и общий анализ наших данных"
   ]
  },
  {
   "cell_type": "code",
   "execution_count": 6,
   "metadata": {},
   "outputs": [
    {
     "data": {
      "text/plain": [
       "(404770, 3)"
      ]
     },
     "execution_count": 6,
     "metadata": {},
     "output_type": "execute_result"
    }
   ],
   "source": [
    "df_AB.shape\n",
    "# 404770 строчек, что соответсвует 202103+202667 кол-ву пользователей из задания"
   ]
  },
  {
   "cell_type": "code",
   "execution_count": 7,
   "metadata": {},
   "outputs": [
    {
     "data": {
      "text/plain": [
       "user_id       int64\n",
       "revenue       int64\n",
       "testgroup    object\n",
       "dtype: object"
      ]
     },
     "execution_count": 7,
     "metadata": {},
     "output_type": "execute_result"
    }
   ],
   "source": [
    "df_AB.dtypes \n",
    "# посмотрим на типы данных"
   ]
  },
  {
   "cell_type": "code",
   "execution_count": 8,
   "metadata": {},
   "outputs": [
    {
     "data": {
      "text/plain": [
       "user_id      0\n",
       "revenue      0\n",
       "testgroup    0\n",
       "dtype: int64"
      ]
     },
     "execution_count": 8,
     "metadata": {},
     "output_type": "execute_result"
    }
   ],
   "source": [
    "df_AB.isnull().sum()\n",
    "# пропущенных значений нет"
   ]
  },
  {
   "cell_type": "code",
   "execution_count": 9,
   "metadata": {},
   "outputs": [
    {
     "data": {
      "text/plain": [
       "0"
      ]
     },
     "execution_count": 9,
     "metadata": {},
     "output_type": "execute_result"
    }
   ],
   "source": [
    "df_AB.duplicated().sum()\n",
    "# проверим на дубликаты"
   ]
  },
  {
   "cell_type": "code",
   "execution_count": 10,
   "metadata": {},
   "outputs": [
    {
     "data": {
      "text/plain": [
       "202103"
      ]
     },
     "execution_count": 10,
     "metadata": {},
     "output_type": "execute_result"
    }
   ],
   "source": [
    "df_AB.query('testgroup == \"a\"').user_id.nunique()\n",
    "# кол-во уникальных пользователей в группе \"а\""
   ]
  },
  {
   "cell_type": "code",
   "execution_count": 11,
   "metadata": {},
   "outputs": [
    {
     "data": {
      "text/plain": [
       "202667"
      ]
     },
     "execution_count": 11,
     "metadata": {},
     "output_type": "execute_result"
    }
   ],
   "source": [
    "df_AB.query('testgroup == \"b\"').user_id.nunique()\n",
    "# кол-во уникальных пользователей в группе \"b\""
   ]
  },
  {
   "cell_type": "markdown",
   "metadata": {},
   "source": [
    "<div class = \"alert-success\">делаем вывод, что группа а - контрольная, а группа b - тестовая <br>\n",
    "сделаем для каждой свой датафрейм</div>"
   ]
  },
  {
   "cell_type": "code",
   "execution_count": 12,
   "metadata": {},
   "outputs": [
    {
     "data": {
      "text/html": [
       "<div>\n",
       "<style scoped>\n",
       "    .dataframe tbody tr th:only-of-type {\n",
       "        vertical-align: middle;\n",
       "    }\n",
       "\n",
       "    .dataframe tbody tr th {\n",
       "        vertical-align: top;\n",
       "    }\n",
       "\n",
       "    .dataframe thead th {\n",
       "        text-align: right;\n",
       "    }\n",
       "</style>\n",
       "<table border=\"1\" class=\"dataframe\">\n",
       "  <thead>\n",
       "    <tr style=\"text-align: right;\">\n",
       "      <th></th>\n",
       "      <th>user_id</th>\n",
       "      <th>revenue</th>\n",
       "      <th>testgroup</th>\n",
       "    </tr>\n",
       "  </thead>\n",
       "  <tbody>\n",
       "    <tr>\n",
       "      <th>1</th>\n",
       "      <td>2</td>\n",
       "      <td>0</td>\n",
       "      <td>a</td>\n",
       "    </tr>\n",
       "    <tr>\n",
       "      <th>2</th>\n",
       "      <td>3</td>\n",
       "      <td>0</td>\n",
       "      <td>a</td>\n",
       "    </tr>\n",
       "    <tr>\n",
       "      <th>9</th>\n",
       "      <td>10</td>\n",
       "      <td>0</td>\n",
       "      <td>a</td>\n",
       "    </tr>\n",
       "    <tr>\n",
       "      <th>10</th>\n",
       "      <td>11</td>\n",
       "      <td>0</td>\n",
       "      <td>a</td>\n",
       "    </tr>\n",
       "    <tr>\n",
       "      <th>11</th>\n",
       "      <td>12</td>\n",
       "      <td>0</td>\n",
       "      <td>a</td>\n",
       "    </tr>\n",
       "  </tbody>\n",
       "</table>\n",
       "</div>"
      ],
      "text/plain": [
       "    user_id  revenue testgroup\n",
       "1         2        0         a\n",
       "2         3        0         a\n",
       "9        10        0         a\n",
       "10       11        0         a\n",
       "11       12        0         a"
      ]
     },
     "execution_count": 12,
     "metadata": {},
     "output_type": "execute_result"
    }
   ],
   "source": [
    "df_control = df_AB.query('testgroup == \"a\"')\n",
    "df_control.head()"
   ]
  },
  {
   "cell_type": "code",
   "execution_count": 13,
   "metadata": {},
   "outputs": [
    {
     "data": {
      "text/html": [
       "<div>\n",
       "<style scoped>\n",
       "    .dataframe tbody tr th:only-of-type {\n",
       "        vertical-align: middle;\n",
       "    }\n",
       "\n",
       "    .dataframe tbody tr th {\n",
       "        vertical-align: top;\n",
       "    }\n",
       "\n",
       "    .dataframe thead th {\n",
       "        text-align: right;\n",
       "    }\n",
       "</style>\n",
       "<table border=\"1\" class=\"dataframe\">\n",
       "  <thead>\n",
       "    <tr style=\"text-align: right;\">\n",
       "      <th></th>\n",
       "      <th>user_id</th>\n",
       "      <th>revenue</th>\n",
       "      <th>testgroup</th>\n",
       "    </tr>\n",
       "  </thead>\n",
       "  <tbody>\n",
       "    <tr>\n",
       "      <th>0</th>\n",
       "      <td>1</td>\n",
       "      <td>0</td>\n",
       "      <td>b</td>\n",
       "    </tr>\n",
       "    <tr>\n",
       "      <th>3</th>\n",
       "      <td>4</td>\n",
       "      <td>0</td>\n",
       "      <td>b</td>\n",
       "    </tr>\n",
       "    <tr>\n",
       "      <th>4</th>\n",
       "      <td>5</td>\n",
       "      <td>0</td>\n",
       "      <td>b</td>\n",
       "    </tr>\n",
       "    <tr>\n",
       "      <th>5</th>\n",
       "      <td>6</td>\n",
       "      <td>0</td>\n",
       "      <td>b</td>\n",
       "    </tr>\n",
       "    <tr>\n",
       "      <th>6</th>\n",
       "      <td>7</td>\n",
       "      <td>0</td>\n",
       "      <td>b</td>\n",
       "    </tr>\n",
       "  </tbody>\n",
       "</table>\n",
       "</div>"
      ],
      "text/plain": [
       "   user_id  revenue testgroup\n",
       "0        1        0         b\n",
       "3        4        0         b\n",
       "4        5        0         b\n",
       "5        6        0         b\n",
       "6        7        0         b"
      ]
     },
     "execution_count": 13,
     "metadata": {},
     "output_type": "execute_result"
    }
   ],
   "source": [
    "df_test = df_AB.query('testgroup == \"b\"')\n",
    "df_test.head()"
   ]
  },
  {
   "cell_type": "markdown",
   "metadata": {},
   "source": [
    "### Для оценки результатов теста будем использовать следующие метрики: <br>\n",
    "**Конверсия (conversion rate, CR)** — отношение числа пользователей,  которые выполнили какое-либо целевое действие к общему числу пользователей. <br>\n",
    "**ARPPU (Average revenue per paying user)** - Средний доход на платящего пользователя <br>\n",
    "**ARPU (Average revenue per user)** - Cредний доход с привлечённого пользователя <br>\n"
   ]
  },
  {
   "cell_type": "code",
   "execution_count": 14,
   "metadata": {},
   "outputs": [
    {
     "data": {
      "text/plain": [
       "0.9539690157988748"
      ]
     },
     "execution_count": 14,
     "metadata": {},
     "output_type": "execute_result"
    }
   ],
   "source": [
    "df_control_CR = df_control.query('revenue != 0').user_id.nunique() / df_control.user_id.nunique()*100\n",
    "df_control_CR"
   ]
  },
  {
   "cell_type": "code",
   "execution_count": 15,
   "metadata": {},
   "outputs": [
    {
     "data": {
      "text/plain": [
       "0.8906235351586593"
      ]
     },
     "execution_count": 15,
     "metadata": {},
     "output_type": "execute_result"
    }
   ],
   "source": [
    "df_test_CR = df_test.query('revenue != 0').user_id.nunique() / df_test.user_id.nunique()*100\n",
    "df_test_CR"
   ]
  },
  {
   "cell_type": "code",
   "execution_count": 16,
   "metadata": {},
   "outputs": [
    {
     "data": {
      "text/plain": [
       "107.11248671740196"
      ]
     },
     "execution_count": 16,
     "metadata": {},
     "output_type": "execute_result"
    }
   ],
   "source": [
    "df_control_CR*100/df_test_CR"
   ]
  },
  {
   "cell_type": "markdown",
   "metadata": {},
   "source": [
    "<div class = \"alert-success\"> В контрольной группе конверсия в покупателя больше на 7,11% </div>"
   ]
  },
  {
   "cell_type": "code",
   "execution_count": 17,
   "metadata": {},
   "outputs": [
    {
     "data": {
      "text/plain": [
       "25.413719736965806"
      ]
     },
     "execution_count": 17,
     "metadata": {},
     "output_type": "execute_result"
    }
   ],
   "source": [
    "df_control_ARPU = df_control.revenue.sum() / df_control.user_id.nunique()\n",
    "df_control_ARPU"
   ]
  },
  {
   "cell_type": "code",
   "execution_count": 18,
   "metadata": {},
   "outputs": [
    {
     "data": {
      "text/plain": [
       "26.75128659327863"
      ]
     },
     "execution_count": 18,
     "metadata": {},
     "output_type": "execute_result"
    }
   ],
   "source": [
    "df_test_ARPU = df_test.revenue.sum() / df_test.user_id.nunique()\n",
    "df_test_ARPU"
   ]
  },
  {
   "cell_type": "code",
   "execution_count": 19,
   "metadata": {},
   "outputs": [
    {
     "data": {
      "text/plain": [
       "105.2631683600699"
      ]
     },
     "execution_count": 19,
     "metadata": {},
     "output_type": "execute_result"
    }
   ],
   "source": [
    "df_test_ARPU*100/df_control_ARPU"
   ]
  },
  {
   "cell_type": "markdown",
   "metadata": {},
   "source": [
    "<div class = \"alert-success\">ARPU в тестовой группе больше на 5,26% <br> \n",
    "*как и было указано в задании</div>"
   ]
  },
  {
   "cell_type": "code",
   "execution_count": 20,
   "metadata": {},
   "outputs": [
    {
     "data": {
      "text/plain": [
       "2663.9984439834025"
      ]
     },
     "execution_count": 20,
     "metadata": {},
     "output_type": "execute_result"
    }
   ],
   "source": [
    "df_control_ARPPU = df_control.revenue.sum() / df_control.query('revenue != 0').user_id.nunique()\n",
    "df_control_ARPPU"
   ]
  },
  {
   "cell_type": "code",
   "execution_count": 21,
   "metadata": {},
   "outputs": [
    {
     "data": {
      "text/plain": [
       "3003.6581717451522"
      ]
     },
     "execution_count": 21,
     "metadata": {},
     "output_type": "execute_result"
    }
   ],
   "source": [
    "df_test_ARPPU = df_test.revenue.sum() / df_test.query('revenue != 0').user_id.nunique()\n",
    "df_test_ARPPU"
   ]
  },
  {
   "cell_type": "code",
   "execution_count": 22,
   "metadata": {},
   "outputs": [
    {
     "data": {
      "text/plain": [
       "112.74999722799635"
      ]
     },
     "execution_count": 22,
     "metadata": {},
     "output_type": "execute_result"
    }
   ],
   "source": [
    "df_test_ARPPU*100/df_control_ARPPU"
   ]
  },
  {
   "cell_type": "markdown",
   "metadata": {},
   "source": [
    "<div class = \"alert-success\">ARPPU в тестовой группе больше на 12.75%</div>"
   ]
  },
  {
   "cell_type": "markdown",
   "metadata": {},
   "source": [
    "В условиях не сказано о каких суммах идет речь <br>\n",
    "Если это миллионы, т.к. разница будет значительная <br>\n",
    "Но если это просто допустим рубли, то разница ничтожна <br>\n",
    "Поэтому ***оценим эти изменения на стат значимость*** <br>\n"
   ]
  },
  {
   "cell_type": "markdown",
   "metadata": {},
   "source": [
    "### Начнем с конверсии"
   ]
  },
  {
   "cell_type": "code",
   "execution_count": 23,
   "metadata": {},
   "outputs": [
    {
     "data": {
      "text/html": [
       "<div>\n",
       "<style scoped>\n",
       "    .dataframe tbody tr th:only-of-type {\n",
       "        vertical-align: middle;\n",
       "    }\n",
       "\n",
       "    .dataframe tbody tr th {\n",
       "        vertical-align: top;\n",
       "    }\n",
       "\n",
       "    .dataframe thead th {\n",
       "        text-align: right;\n",
       "    }\n",
       "</style>\n",
       "<table border=\"1\" class=\"dataframe\">\n",
       "  <thead>\n",
       "    <tr style=\"text-align: right;\">\n",
       "      <th></th>\n",
       "      <th>user_id</th>\n",
       "      <th>revenue</th>\n",
       "      <th>testgroup</th>\n",
       "      <th>oplata</th>\n",
       "    </tr>\n",
       "  </thead>\n",
       "  <tbody>\n",
       "    <tr>\n",
       "      <th>0</th>\n",
       "      <td>1</td>\n",
       "      <td>0</td>\n",
       "      <td>b</td>\n",
       "      <td>0</td>\n",
       "    </tr>\n",
       "    <tr>\n",
       "      <th>1</th>\n",
       "      <td>2</td>\n",
       "      <td>0</td>\n",
       "      <td>a</td>\n",
       "      <td>0</td>\n",
       "    </tr>\n",
       "    <tr>\n",
       "      <th>2</th>\n",
       "      <td>3</td>\n",
       "      <td>0</td>\n",
       "      <td>a</td>\n",
       "      <td>0</td>\n",
       "    </tr>\n",
       "    <tr>\n",
       "      <th>3</th>\n",
       "      <td>4</td>\n",
       "      <td>0</td>\n",
       "      <td>b</td>\n",
       "      <td>0</td>\n",
       "    </tr>\n",
       "    <tr>\n",
       "      <th>4</th>\n",
       "      <td>5</td>\n",
       "      <td>0</td>\n",
       "      <td>b</td>\n",
       "      <td>0</td>\n",
       "    </tr>\n",
       "  </tbody>\n",
       "</table>\n",
       "</div>"
      ],
      "text/plain": [
       "   user_id  revenue testgroup  oplata\n",
       "0        1        0         b       0\n",
       "1        2        0         a       0\n",
       "2        3        0         a       0\n",
       "3        4        0         b       0\n",
       "4        5        0         b       0"
      ]
     },
     "execution_count": 23,
     "metadata": {},
     "output_type": "execute_result"
    }
   ],
   "source": [
    "# делаем столбец с оплатой 1-да, 0-нет\n",
    "df_AB['oplata'] = df_AB.revenue.apply(lambda x: 1 if x > 0 else 0)\n",
    "df_AB.head()"
   ]
  },
  {
   "cell_type": "code",
   "execution_count": 24,
   "metadata": {},
   "outputs": [
    {
     "data": {
      "text/html": [
       "<div>\n",
       "<style scoped>\n",
       "    .dataframe tbody tr th:only-of-type {\n",
       "        vertical-align: middle;\n",
       "    }\n",
       "\n",
       "    .dataframe tbody tr th {\n",
       "        vertical-align: top;\n",
       "    }\n",
       "\n",
       "    .dataframe thead th {\n",
       "        text-align: right;\n",
       "    }\n",
       "</style>\n",
       "<table border=\"1\" class=\"dataframe\">\n",
       "  <thead>\n",
       "    <tr style=\"text-align: right;\">\n",
       "      <th>oplata</th>\n",
       "      <th>0</th>\n",
       "      <th>1</th>\n",
       "    </tr>\n",
       "    <tr>\n",
       "      <th>testgroup</th>\n",
       "      <th></th>\n",
       "      <th></th>\n",
       "    </tr>\n",
       "  </thead>\n",
       "  <tbody>\n",
       "    <tr>\n",
       "      <th>a</th>\n",
       "      <td>200175</td>\n",
       "      <td>1928</td>\n",
       "    </tr>\n",
       "    <tr>\n",
       "      <th>b</th>\n",
       "      <td>200862</td>\n",
       "      <td>1805</td>\n",
       "    </tr>\n",
       "  </tbody>\n",
       "</table>\n",
       "</div>"
      ],
      "text/plain": [
       "oplata          0     1\n",
       "testgroup              \n",
       "a          200175  1928\n",
       "b          200862  1805"
      ]
     },
     "execution_count": 24,
     "metadata": {},
     "output_type": "execute_result"
    }
   ],
   "source": [
    "# построим перекрестную таблицу с нужными для нас данными\n",
    "pd.crosstab(df_AB.testgroup, df_AB.oplata)"
   ]
  },
  {
   "cell_type": "markdown",
   "metadata": {},
   "source": [
    "Проверим взаимосвязь платящих пользователей и группы с помощью статистического теста. <br>\n",
    "Есть две категориальные переменные → нужен хи-квадрат <br>\n",
    "нулевая гипотеза 𝐻0: взаимосвязи между переменными нет <br>\n",
    "альтернативная гипотеза 𝐻1: взаимосвязь есть <br>"
   ]
  },
  {
   "cell_type": "code",
   "execution_count": 25,
   "metadata": {},
   "outputs": [
    {
     "data": {
      "text/plain": [
       "(4.374729521260405, 0.03647561892312613)"
      ]
     },
     "execution_count": 25,
     "metadata": {},
     "output_type": "execute_result"
    }
   ],
   "source": [
    "from scipy.stats import chi2_contingency, chi2 \n",
    "stat, p, dof, expected = chi2_contingency(pd.crosstab(df_AB.testgroup, df_AB.oplata))\n",
    "stat, p"
   ]
  },
  {
   "cell_type": "markdown",
   "metadata": {},
   "source": [
    "<div class = \"alert-success\">p-value меньше 0,05 сл-но мы отклоняем нулевую гипотезу <br> \n",
    "т.е. изменение конверсии весьма вероятно взаимосвязано с введением нового алгоритма <br> \n",
    "а вероятность того, что это вызвано случайностью 3,6% <br> </div>"
   ]
  },
  {
   "cell_type": "markdown",
   "metadata": {},
   "source": [
    "### Оплаты "
   ]
  },
  {
   "cell_type": "markdown",
   "metadata": {},
   "source": [
    "разбираемся теперь с платящими пользователями <br>\n",
    "будем сравнивать средний доход в контрольной и тестовой группах"
   ]
  },
  {
   "cell_type": "code",
   "execution_count": 26,
   "metadata": {},
   "outputs": [
    {
     "data": {
      "text/html": [
       "<div>\n",
       "<style scoped>\n",
       "    .dataframe tbody tr th:only-of-type {\n",
       "        vertical-align: middle;\n",
       "    }\n",
       "\n",
       "    .dataframe tbody tr th {\n",
       "        vertical-align: top;\n",
       "    }\n",
       "\n",
       "    .dataframe thead th {\n",
       "        text-align: right;\n",
       "    }\n",
       "</style>\n",
       "<table border=\"1\" class=\"dataframe\">\n",
       "  <thead>\n",
       "    <tr style=\"text-align: right;\">\n",
       "      <th></th>\n",
       "      <th>user_id</th>\n",
       "      <th>revenue</th>\n",
       "      <th>testgroup</th>\n",
       "      <th>oplata</th>\n",
       "    </tr>\n",
       "  </thead>\n",
       "  <tbody>\n",
       "    <tr>\n",
       "      <th>72</th>\n",
       "      <td>73</td>\n",
       "      <td>351</td>\n",
       "      <td>a</td>\n",
       "      <td>1</td>\n",
       "    </tr>\n",
       "    <tr>\n",
       "      <th>160</th>\n",
       "      <td>161</td>\n",
       "      <td>3797</td>\n",
       "      <td>b</td>\n",
       "      <td>1</td>\n",
       "    </tr>\n",
       "    <tr>\n",
       "      <th>341</th>\n",
       "      <td>342</td>\n",
       "      <td>290</td>\n",
       "      <td>a</td>\n",
       "      <td>1</td>\n",
       "    </tr>\n",
       "    <tr>\n",
       "      <th>377</th>\n",
       "      <td>378</td>\n",
       "      <td>3768</td>\n",
       "      <td>b</td>\n",
       "      <td>1</td>\n",
       "    </tr>\n",
       "    <tr>\n",
       "      <th>385</th>\n",
       "      <td>386</td>\n",
       "      <td>250</td>\n",
       "      <td>a</td>\n",
       "      <td>1</td>\n",
       "    </tr>\n",
       "    <tr>\n",
       "      <th>...</th>\n",
       "      <td>...</td>\n",
       "      <td>...</td>\n",
       "      <td>...</td>\n",
       "      <td>...</td>\n",
       "    </tr>\n",
       "    <tr>\n",
       "      <th>404315</th>\n",
       "      <td>404316</td>\n",
       "      <td>262</td>\n",
       "      <td>a</td>\n",
       "      <td>1</td>\n",
       "    </tr>\n",
       "    <tr>\n",
       "      <th>404525</th>\n",
       "      <td>404526</td>\n",
       "      <td>3120</td>\n",
       "      <td>b</td>\n",
       "      <td>1</td>\n",
       "    </tr>\n",
       "    <tr>\n",
       "      <th>404543</th>\n",
       "      <td>404544</td>\n",
       "      <td>369</td>\n",
       "      <td>a</td>\n",
       "      <td>1</td>\n",
       "    </tr>\n",
       "    <tr>\n",
       "      <th>404602</th>\n",
       "      <td>404603</td>\n",
       "      <td>251</td>\n",
       "      <td>a</td>\n",
       "      <td>1</td>\n",
       "    </tr>\n",
       "    <tr>\n",
       "      <th>404767</th>\n",
       "      <td>404768</td>\n",
       "      <td>231</td>\n",
       "      <td>a</td>\n",
       "      <td>1</td>\n",
       "    </tr>\n",
       "  </tbody>\n",
       "</table>\n",
       "<p>3733 rows × 4 columns</p>\n",
       "</div>"
      ],
      "text/plain": [
       "        user_id  revenue testgroup  oplata\n",
       "72           73      351         a       1\n",
       "160         161     3797         b       1\n",
       "341         342      290         a       1\n",
       "377         378     3768         b       1\n",
       "385         386      250         a       1\n",
       "...         ...      ...       ...     ...\n",
       "404315   404316      262         a       1\n",
       "404525   404526     3120         b       1\n",
       "404543   404544      369         a       1\n",
       "404602   404603      251         a       1\n",
       "404767   404768      231         a       1\n",
       "\n",
       "[3733 rows x 4 columns]"
      ]
     },
     "execution_count": 26,
     "metadata": {},
     "output_type": "execute_result"
    }
   ],
   "source": [
    "df_AB_oplata = df_AB.query('revenue > 0')\n",
    "df_AB_oplata"
   ]
  },
  {
   "cell_type": "markdown",
   "metadata": {},
   "source": [
    "#### посмотрим на наши распределения платежей в группах"
   ]
  },
  {
   "cell_type": "code",
   "execution_count": 27,
   "metadata": {},
   "outputs": [
    {
     "name": "stderr",
     "output_type": "stream",
     "text": [
      "/opt/tljh/user/lib/python3.7/site-packages/seaborn/distributions.py:2557: FutureWarning: `distplot` is a deprecated function and will be removed in a future version. Please adapt your code to use either `displot` (a figure-level function with similar flexibility) or `histplot` (an axes-level function for histograms).\n",
      "  warnings.warn(msg, FutureWarning)\n",
      "/opt/tljh/user/lib/python3.7/site-packages/seaborn/distributions.py:2557: FutureWarning: `distplot` is a deprecated function and will be removed in a future version. Please adapt your code to use either `displot` (a figure-level function with similar flexibility) or `histplot` (an axes-level function for histograms).\n",
      "  warnings.warn(msg, FutureWarning)\n"
     ]
    },
    {
     "data": {
      "text/plain": [
       "<matplotlib.axes._subplots.AxesSubplot at 0x7f5d03d44d68>"
      ]
     },
     "execution_count": 27,
     "metadata": {},
     "output_type": "execute_result"
    },
    {
     "data": {
      "image/png": "[encoded data removed]",
      "text/plain": [
       "<Figure size 1728x432 with 1 Axes>"
      ]
     },
     "metadata": {
      "needs_background": "light"
     },
     "output_type": "display_data"
    }
   ],
   "source": [
    "plt.figure(figsize=(24,6))\n",
    "df_control_oplata = df_AB_oplata[df_AB_oplata.testgroup == 'a']\n",
    "df_test_oplata = df_AB_oplata[df_AB_oplata.testgroup == 'b']\n",
    "sns.distplot(df_control_oplata.revenue)\n",
    "sns.distplot(df_test_oplata.revenue)"
   ]
  },
  {
   "cell_type": "code",
   "execution_count": 28,
   "metadata": {},
   "outputs": [
    {
     "data": {
      "text/plain": [
       "<matplotlib.axes._subplots.AxesSubplot at 0x7f5d03bb2828>"
      ]
     },
     "execution_count": 28,
     "metadata": {},
     "output_type": "execute_result"
    },
    {
     "data": {
      "image/png": "[encoded data removed]",
      "text/plain": [
       "<Figure size 1728x432 with 1 Axes>"
      ]
     },
     "metadata": {
      "needs_background": "light"
     },
     "output_type": "display_data"
    }
   ],
   "source": [
    "plt.figure(figsize=(24,6))\n",
    "sns.boxplot(x='revenue', y='testgroup', data=df_AB_oplata)"
   ]
  },
  {
   "cell_type": "code",
   "execution_count": 29,
   "metadata": {},
   "outputs": [
    {
     "data": {
      "text/plain": [
       "2663.9984439834025"
      ]
     },
     "execution_count": 29,
     "metadata": {},
     "output_type": "execute_result"
    }
   ],
   "source": [
    "df_control_oplata.revenue.mean()\n",
    "#среднее в контрольной группе"
   ]
  },
  {
   "cell_type": "code",
   "execution_count": 30,
   "metadata": {},
   "outputs": [
    {
     "data": {
      "text/plain": [
       "3003.6581717451522"
      ]
     },
     "execution_count": 30,
     "metadata": {},
     "output_type": "execute_result"
    }
   ],
   "source": [
    "df_test_oplata.revenue.mean()\n",
    "#среднее в тестовой группе"
   ]
  },
  {
   "cell_type": "code",
   "execution_count": 31,
   "metadata": {},
   "outputs": [
    {
     "data": {
      "text/html": [
       "<div>\n",
       "<style scoped>\n",
       "    .dataframe tbody tr th:only-of-type {\n",
       "        vertical-align: middle;\n",
       "    }\n",
       "\n",
       "    .dataframe tbody tr th {\n",
       "        vertical-align: top;\n",
       "    }\n",
       "\n",
       "    .dataframe thead th {\n",
       "        text-align: right;\n",
       "    }\n",
       "</style>\n",
       "<table border=\"1\" class=\"dataframe\">\n",
       "  <thead>\n",
       "    <tr style=\"text-align: right;\">\n",
       "      <th></th>\n",
       "      <th>user_id</th>\n",
       "      <th>revenue</th>\n",
       "      <th>testgroup</th>\n",
       "      <th>oplata</th>\n",
       "    </tr>\n",
       "  </thead>\n",
       "  <tbody>\n",
       "    <tr>\n",
       "      <th>416</th>\n",
       "      <td>417</td>\n",
       "      <td>37324</td>\n",
       "      <td>a</td>\n",
       "      <td>1</td>\n",
       "    </tr>\n",
       "    <tr>\n",
       "      <th>4428</th>\n",
       "      <td>4429</td>\n",
       "      <td>37304</td>\n",
       "      <td>a</td>\n",
       "      <td>1</td>\n",
       "    </tr>\n",
       "    <tr>\n",
       "      <th>5777</th>\n",
       "      <td>5778</td>\n",
       "      <td>37315</td>\n",
       "      <td>a</td>\n",
       "      <td>1</td>\n",
       "    </tr>\n",
       "    <tr>\n",
       "      <th>8065</th>\n",
       "      <td>8066</td>\n",
       "      <td>37307</td>\n",
       "      <td>a</td>\n",
       "      <td>1</td>\n",
       "    </tr>\n",
       "    <tr>\n",
       "      <th>8743</th>\n",
       "      <td>8744</td>\n",
       "      <td>37334</td>\n",
       "      <td>a</td>\n",
       "      <td>1</td>\n",
       "    </tr>\n",
       "    <tr>\n",
       "      <th>...</th>\n",
       "      <td>...</td>\n",
       "      <td>...</td>\n",
       "      <td>...</td>\n",
       "      <td>...</td>\n",
       "    </tr>\n",
       "    <tr>\n",
       "      <th>360696</th>\n",
       "      <td>360697</td>\n",
       "      <td>37347</td>\n",
       "      <td>a</td>\n",
       "      <td>1</td>\n",
       "    </tr>\n",
       "    <tr>\n",
       "      <th>378668</th>\n",
       "      <td>378669</td>\n",
       "      <td>37297</td>\n",
       "      <td>a</td>\n",
       "      <td>1</td>\n",
       "    </tr>\n",
       "    <tr>\n",
       "      <th>389341</th>\n",
       "      <td>389342</td>\n",
       "      <td>37298</td>\n",
       "      <td>a</td>\n",
       "      <td>1</td>\n",
       "    </tr>\n",
       "    <tr>\n",
       "      <th>394580</th>\n",
       "      <td>394581</td>\n",
       "      <td>37302</td>\n",
       "      <td>a</td>\n",
       "      <td>1</td>\n",
       "    </tr>\n",
       "    <tr>\n",
       "      <th>399294</th>\n",
       "      <td>399295</td>\n",
       "      <td>37321</td>\n",
       "      <td>a</td>\n",
       "      <td>1</td>\n",
       "    </tr>\n",
       "  </tbody>\n",
       "</table>\n",
       "<p>123 rows × 4 columns</p>\n",
       "</div>"
      ],
      "text/plain": [
       "        user_id  revenue testgroup  oplata\n",
       "416         417    37324         a       1\n",
       "4428       4429    37304         a       1\n",
       "5777       5778    37315         a       1\n",
       "8065       8066    37307         a       1\n",
       "8743       8744    37334         a       1\n",
       "...         ...      ...       ...     ...\n",
       "360696   360697    37347         a       1\n",
       "378668   378669    37297         a       1\n",
       "389341   389342    37298         a       1\n",
       "394580   394581    37302         a       1\n",
       "399294   399295    37321         a       1\n",
       "\n",
       "[123 rows x 4 columns]"
      ]
     },
     "execution_count": 31,
     "metadata": {},
     "output_type": "execute_result"
    }
   ],
   "source": [
    "# По графикам видно, что у нас есть выбросы в контрольной группе. \n",
    "df_control_oplata.query('revenue > 35000')"
   ]
  },
  {
   "cell_type": "markdown",
   "metadata": {},
   "source": [
    "123 пользователя с громадными платежами из 1928 платящих пользователей, а это больше 6%  <br>\n",
    "их явно не стоит исключать <br>"
   ]
  },
  {
   "cell_type": "markdown",
   "metadata": {},
   "source": [
    "Проверим выполнение условий на нормальность <br>\n",
    "Вообще для выборок таких огромных размеров мы не обязаны это делать <br>\n",
    "Обычно нормальность тестируют с помощью теста Шапиро-Уилка (scipy.stats.shapiro()), \n",
    "однако на больших выборках этот тест слишком рьяно находит отклонения от нормальности! <br>\n",
    "Поэтому также используем функцию scipy.stats.normaltest() - она больше адаптирована к большим выборкам:<br>\n",
    "нулевая гипотеза 𝐻0: распределения нормальные<br>\n",
    "альтернативная гипотеза 𝐻1: данные распределены не нормально "
   ]
  },
  {
   "cell_type": "code",
   "execution_count": 32,
   "metadata": {},
   "outputs": [
    {
     "data": {
      "text/plain": [
       "ShapiroResult(statistic=0.2667924761772156, pvalue=0.0)"
      ]
     },
     "execution_count": 32,
     "metadata": {},
     "output_type": "execute_result"
    }
   ],
   "source": [
    "stats.shapiro(df_control_oplata.revenue)"
   ]
  },
  {
   "cell_type": "code",
   "execution_count": 33,
   "metadata": {},
   "outputs": [
    {
     "data": {
      "text/plain": [
       "ShapiroResult(statistic=0.9583123922348022, pvalue=2.491345674771425e-22)"
      ]
     },
     "execution_count": 33,
     "metadata": {},
     "output_type": "execute_result"
    }
   ],
   "source": [
    "stats.shapiro(df_test_oplata.revenue)"
   ]
  },
  {
   "cell_type": "code",
   "execution_count": 34,
   "metadata": {},
   "outputs": [
    {
     "data": {
      "text/plain": [
       "NormaltestResult(statistic=1394.9457843086925, pvalue=1.2341605505935488e-303)"
      ]
     },
     "execution_count": 34,
     "metadata": {},
     "output_type": "execute_result"
    }
   ],
   "source": [
    "stats.normaltest(df_control_oplata.revenue)"
   ]
  },
  {
   "cell_type": "code",
   "execution_count": 35,
   "metadata": {},
   "outputs": [
    {
     "data": {
      "text/plain": [
       "NormaltestResult(statistic=1068.8600084412267, pvalue=7.943249488371762e-233)"
      ]
     },
     "execution_count": 35,
     "metadata": {},
     "output_type": "execute_result"
    }
   ],
   "source": [
    "stats.normaltest(df_test_oplata.revenue)"
   ]
  },
  {
   "cell_type": "code",
   "execution_count": 36,
   "metadata": {},
   "outputs": [
    {
     "data": {
      "text/html": [
       "<div>\n",
       "<style scoped>\n",
       "    .dataframe tbody tr th:only-of-type {\n",
       "        vertical-align: middle;\n",
       "    }\n",
       "\n",
       "    .dataframe tbody tr th {\n",
       "        vertical-align: top;\n",
       "    }\n",
       "\n",
       "    .dataframe thead th {\n",
       "        text-align: right;\n",
       "    }\n",
       "</style>\n",
       "<table border=\"1\" class=\"dataframe\">\n",
       "  <thead>\n",
       "    <tr style=\"text-align: right;\">\n",
       "      <th></th>\n",
       "      <th>W</th>\n",
       "      <th>pval</th>\n",
       "      <th>normal</th>\n",
       "    </tr>\n",
       "  </thead>\n",
       "  <tbody>\n",
       "    <tr>\n",
       "      <th>a</th>\n",
       "      <td>1394.945784</td>\n",
       "      <td>1.234161e-303</td>\n",
       "      <td>False</td>\n",
       "    </tr>\n",
       "    <tr>\n",
       "      <th>b</th>\n",
       "      <td>1068.860008</td>\n",
       "      <td>7.943249e-233</td>\n",
       "      <td>False</td>\n",
       "    </tr>\n",
       "  </tbody>\n",
       "</table>\n",
       "</div>"
      ],
      "text/plain": [
       "             W           pval  normal\n",
       "a  1394.945784  1.234161e-303   False\n",
       "b  1068.860008  7.943249e-233   False"
      ]
     },
     "execution_count": 36,
     "metadata": {},
     "output_type": "execute_result"
    }
   ],
   "source": [
    "# Также можете сделать это через пакет pingouin.\n",
    "pg.normality(data=df_AB_oplata, dv=\"revenue\", \n",
    "                   group=\"testgroup\", method=\"normaltest\")"
   ]
  },
  {
   "cell_type": "markdown",
   "metadata": {},
   "source": [
    "<div class=\"alert-success\"> Eсли p-value меньше уровня значимости (обычно 0.05), \n",
    "то мы отвергаем нулевую гипотезу о том, что данные распределены нормально. <br>\n",
    "А в наших тестах оно намного меньше, значит <strong>распределения не нормальные.</strong></div>"
   ]
  },
  {
   "cell_type": "markdown",
   "metadata": {},
   "source": [
    "### Какой тест будем применять для сравнения средних в группах"
   ]
  },
  {
   "cell_type": "markdown",
   "metadata": {},
   "source": [
    "\n",
    "Для сравнения средних обычно используют T-тест<br>\n",
    "Но для него важный вопрос — это требование к нормальности данных обеих групп при применении t-теста. <br>\n",
    "Во многих учебниках можно встретить довольно жесткое требование к нормальности данных по причине возможного завышения вероятности ошибки I рода. <br>\n",
    "NB! На практике t-тест может быть использован для сравнения средних и при ненормальном распределении, особенно на больших выборках и если в данных нет заметных выбросов. Однако при этом вы выходите на очень тонкий лёд — перед использованием t-теста на ненормальных данных дважды подумайте, насколько адекватно среднее отражает эти данные. Возможно, непараметрический тест или бутстрап окажутся лучше и адекватнее\n",
    "<br><br>\n",
    "Если распределение признака отличается от нормального, можно использовать непараметрический аналог – U-критерий Манна-Уитни.<br>\n",
    "Этот критерий менее чувствителен к экстремальным отклонениям от нормальности и наличию выбросов.<br>\n",
    "НО ВАЖНО! Этот критерий не сравнивает средние. <br>\n",
    "Манн-Уитни не может проверить ничего, кроме равенства распределений. <br>\n",
    "Этот критерий не подходит для сравнения средних или медиан.\n",
    "<br><br>\n",
    "Также  в случае, когда у нас слабо увеличилась метрика у мелких пользователей, но сильно уменьшилась у крупных пользователей (что очень похоже на наши распределения), этот критерий (манна-уитни) легко может привести нас к ложному результату.<br>\n",
    "Еще руководствовался при выборе критерия статьей https://habr.com/ru/companies/avito/articles/571094/#t-test<br><br>\n",
    "<div class=\"alert-success\">Будем использовать Т-тест <br>\n",
    "            и дополнительно также будем еще использовать бутстрап</div>\n",
    "\n",
    "Гипотезы:<br>\n",
    "H0 –  никакого различия между средними значениями нет<br>\n",
    "H1 – средние не равны (альтернативная гипотеза)"
   ]
  },
  {
   "cell_type": "markdown",
   "metadata": {},
   "source": [
    "#### ARPU"
   ]
  },
  {
   "cell_type": "markdown",
   "metadata": {},
   "source": [
    "##### проверим с помощью Т-теста"
   ]
  },
  {
   "cell_type": "code",
   "execution_count": 37,
   "metadata": {},
   "outputs": [
    {
     "data": {
      "text/plain": [
       "Ttest_indResult(statistic=-0.6242026493616787, pvalue=0.532494858971837)"
      ]
     },
     "execution_count": 37,
     "metadata": {},
     "output_type": "execute_result"
    }
   ],
   "source": [
    "ttest_ind(df_control.revenue, \\\n",
    "          df_test.revenue)"
   ]
  },
  {
   "cell_type": "markdown",
   "metadata": {},
   "source": [
    "pvalue больше 0.05 значит нулевую гипотезу мы отвергнуть не можем <br>\n",
    "т.е. стат значимого различия между средними нет"
   ]
  },
  {
   "cell_type": "markdown",
   "metadata": {},
   "source": [
    "##### бутстрап"
   ]
  },
  {
   "cell_type": "code",
   "execution_count": 52,
   "metadata": {},
   "outputs": [
    {
     "ename": "MemoryError",
     "evalue": "Unable to allocate 38.0 GiB for an array with shape (202103, 202103) and data type bool",
     "output_type": "error",
     "traceback": [
      "\u001b[0;31m---------------------------------------------------------------------------\u001b[0m",
      "\u001b[0;31mMemoryError\u001b[0m                               Traceback (most recent call last)",
      "\u001b[0;32m<ipython-input-52-63deca91d950>\u001b[0m in \u001b[0;36m<module>\u001b[0;34m\u001b[0m\n\u001b[0;32m----> 1\u001b[0;31m \u001b[0mbootstrap\u001b[0m\u001b[0;34m(\u001b[0m\u001b[0;34m(\u001b[0m\u001b[0mdf_control\u001b[0m\u001b[0;34m.\u001b[0m\u001b[0mrevenue\u001b[0m\u001b[0;34m,\u001b[0m \u001b[0;34m)\u001b[0m\u001b[0;34m,\u001b[0m \u001b[0mnp\u001b[0m\u001b[0;34m.\u001b[0m\u001b[0mmean\u001b[0m\u001b[0;34m,\u001b[0m \u001b[0mn_resamples\u001b[0m\u001b[0;34m=\u001b[0m\u001b[0;36m1000\u001b[0m\u001b[0;34m)\u001b[0m\u001b[0;34m\u001b[0m\u001b[0;34m\u001b[0m\u001b[0m\n\u001b[0m\u001b[1;32m      2\u001b[0m \u001b[0;31m# получаем доверительный интервал через bootstrap для средних из контрольной группы\u001b[0m\u001b[0;34m\u001b[0m\u001b[0;34m\u001b[0m\u001b[0;34m\u001b[0m\u001b[0m\n",
      "\u001b[0;32m/opt/tljh/user/lib/python3.7/site-packages/scipy/stats/_bootstrap.py\u001b[0m in \u001b[0;36mbootstrap\u001b[0;34m(data, statistic, vectorized, paired, axis, confidence_level, n_resamples, batch, method, random_state)\u001b[0m\n\u001b[1;32m    443\u001b[0m     \u001b[0;32mif\u001b[0m \u001b[0mmethod\u001b[0m \u001b[0;34m==\u001b[0m \u001b[0;34m'bca'\u001b[0m\u001b[0;34m:\u001b[0m\u001b[0;34m\u001b[0m\u001b[0;34m\u001b[0m\u001b[0m\n\u001b[1;32m    444\u001b[0m         interval = _bca_interval(data, statistic, axis=-1, alpha=alpha,\n\u001b[0;32m--> 445\u001b[0;31m                                  theta_hat_b=theta_hat_b, batch=batch)\n\u001b[0m\u001b[1;32m    446\u001b[0m         \u001b[0mpercentile_fun\u001b[0m \u001b[0;34m=\u001b[0m \u001b[0m_percentile_along_axis\u001b[0m\u001b[0;34m\u001b[0m\u001b[0;34m\u001b[0m\u001b[0m\n\u001b[1;32m    447\u001b[0m     \u001b[0;32melse\u001b[0m\u001b[0;34m:\u001b[0m\u001b[0;34m\u001b[0m\u001b[0;34m\u001b[0m\u001b[0m\n",
      "\u001b[0;32m/opt/tljh/user/lib/python3.7/site-packages/scipy/stats/_bootstrap.py\u001b[0m in \u001b[0;36m_bca_interval\u001b[0;34m(data, statistic, axis, alpha, theta_hat_b, batch)\u001b[0m\n\u001b[1;32m     92\u001b[0m     \u001b[0;31m# calculate a_hat\u001b[0m\u001b[0;34m\u001b[0m\u001b[0;34m\u001b[0m\u001b[0;34m\u001b[0m\u001b[0m\n\u001b[1;32m     93\u001b[0m     \u001b[0mtheta_hat_i\u001b[0m \u001b[0;34m=\u001b[0m \u001b[0;34m[\u001b[0m\u001b[0;34m]\u001b[0m  \u001b[0;31m# would be better to fill pre-allocated array\u001b[0m\u001b[0;34m\u001b[0m\u001b[0;34m\u001b[0m\u001b[0m\n\u001b[0;32m---> 94\u001b[0;31m     \u001b[0;32mfor\u001b[0m \u001b[0mjackknife_sample\u001b[0m \u001b[0;32min\u001b[0m \u001b[0m_jackknife_resample\u001b[0m\u001b[0;34m(\u001b[0m\u001b[0msample\u001b[0m\u001b[0;34m,\u001b[0m \u001b[0mbatch\u001b[0m\u001b[0;34m)\u001b[0m\u001b[0;34m:\u001b[0m\u001b[0;34m\u001b[0m\u001b[0;34m\u001b[0m\u001b[0m\n\u001b[0m\u001b[1;32m     95\u001b[0m         \u001b[0mtheta_hat_i\u001b[0m\u001b[0;34m.\u001b[0m\u001b[0mappend\u001b[0m\u001b[0;34m(\u001b[0m\u001b[0mstatistic\u001b[0m\u001b[0;34m(\u001b[0m\u001b[0mjackknife_sample\u001b[0m\u001b[0;34m,\u001b[0m \u001b[0maxis\u001b[0m\u001b[0;34m=\u001b[0m\u001b[0;34m-\u001b[0m\u001b[0;36m1\u001b[0m\u001b[0;34m)\u001b[0m\u001b[0;34m)\u001b[0m\u001b[0;34m\u001b[0m\u001b[0;34m\u001b[0m\u001b[0m\n\u001b[1;32m     96\u001b[0m     \u001b[0mtheta_hat_i\u001b[0m \u001b[0;34m=\u001b[0m \u001b[0mnp\u001b[0m\u001b[0;34m.\u001b[0m\u001b[0mconcatenate\u001b[0m\u001b[0;34m(\u001b[0m\u001b[0mtheta_hat_i\u001b[0m\u001b[0;34m,\u001b[0m \u001b[0maxis\u001b[0m\u001b[0;34m=\u001b[0m\u001b[0;34m-\u001b[0m\u001b[0;36m1\u001b[0m\u001b[0;34m)\u001b[0m\u001b[0;34m\u001b[0m\u001b[0;34m\u001b[0m\u001b[0m\n",
      "\u001b[0;32m/opt/tljh/user/lib/python3.7/site-packages/scipy/stats/_bootstrap.py\u001b[0m in \u001b[0;36m_jackknife_resample\u001b[0;34m(sample, batch)\u001b[0m\n\u001b[1;32m     35\u001b[0m \u001b[0;34m\u001b[0m\u001b[0m\n\u001b[1;32m     36\u001b[0m         \u001b[0;31m# jackknife - each row leaves out one observation\u001b[0m\u001b[0;34m\u001b[0m\u001b[0;34m\u001b[0m\u001b[0;34m\u001b[0m\u001b[0m\n\u001b[0;32m---> 37\u001b[0;31m         \u001b[0mj\u001b[0m \u001b[0;34m=\u001b[0m \u001b[0mnp\u001b[0m\u001b[0;34m.\u001b[0m\u001b[0mones\u001b[0m\u001b[0;34m(\u001b[0m\u001b[0;34m(\u001b[0m\u001b[0mbatch_actual\u001b[0m\u001b[0;34m,\u001b[0m \u001b[0mn\u001b[0m\u001b[0;34m)\u001b[0m\u001b[0;34m,\u001b[0m \u001b[0mdtype\u001b[0m\u001b[0;34m=\u001b[0m\u001b[0mbool\u001b[0m\u001b[0;34m)\u001b[0m\u001b[0;34m\u001b[0m\u001b[0;34m\u001b[0m\u001b[0m\n\u001b[0m\u001b[1;32m     38\u001b[0m         \u001b[0mnp\u001b[0m\u001b[0;34m.\u001b[0m\u001b[0mfill_diagonal\u001b[0m\u001b[0;34m(\u001b[0m\u001b[0mj\u001b[0m\u001b[0;34m[\u001b[0m\u001b[0;34m:\u001b[0m\u001b[0;34m,\u001b[0m \u001b[0mk\u001b[0m\u001b[0;34m:\u001b[0m\u001b[0mk\u001b[0m\u001b[0;34m+\u001b[0m\u001b[0mbatch_actual\u001b[0m\u001b[0;34m]\u001b[0m\u001b[0;34m,\u001b[0m \u001b[0;32mFalse\u001b[0m\u001b[0;34m)\u001b[0m\u001b[0;34m\u001b[0m\u001b[0;34m\u001b[0m\u001b[0m\n\u001b[1;32m     39\u001b[0m         \u001b[0mi\u001b[0m \u001b[0;34m=\u001b[0m \u001b[0mnp\u001b[0m\u001b[0;34m.\u001b[0m\u001b[0marange\u001b[0m\u001b[0;34m(\u001b[0m\u001b[0mn\u001b[0m\u001b[0;34m)\u001b[0m\u001b[0;34m\u001b[0m\u001b[0;34m\u001b[0m\u001b[0m\n",
      "\u001b[0;32m/opt/tljh/user/lib/python3.7/site-packages/numpy/core/numeric.py\u001b[0m in \u001b[0;36mones\u001b[0;34m(shape, dtype, order, like)\u001b[0m\n\u001b[1;32m    202\u001b[0m         \u001b[0;32mreturn\u001b[0m \u001b[0m_ones_with_like\u001b[0m\u001b[0;34m(\u001b[0m\u001b[0mshape\u001b[0m\u001b[0;34m,\u001b[0m \u001b[0mdtype\u001b[0m\u001b[0;34m=\u001b[0m\u001b[0mdtype\u001b[0m\u001b[0;34m,\u001b[0m \u001b[0morder\u001b[0m\u001b[0;34m=\u001b[0m\u001b[0morder\u001b[0m\u001b[0;34m,\u001b[0m \u001b[0mlike\u001b[0m\u001b[0;34m=\u001b[0m\u001b[0mlike\u001b[0m\u001b[0;34m)\u001b[0m\u001b[0;34m\u001b[0m\u001b[0;34m\u001b[0m\u001b[0m\n\u001b[1;32m    203\u001b[0m \u001b[0;34m\u001b[0m\u001b[0m\n\u001b[0;32m--> 204\u001b[0;31m     \u001b[0ma\u001b[0m \u001b[0;34m=\u001b[0m \u001b[0mempty\u001b[0m\u001b[0;34m(\u001b[0m\u001b[0mshape\u001b[0m\u001b[0;34m,\u001b[0m \u001b[0mdtype\u001b[0m\u001b[0;34m,\u001b[0m \u001b[0morder\u001b[0m\u001b[0;34m)\u001b[0m\u001b[0;34m\u001b[0m\u001b[0;34m\u001b[0m\u001b[0m\n\u001b[0m\u001b[1;32m    205\u001b[0m     \u001b[0mmultiarray\u001b[0m\u001b[0;34m.\u001b[0m\u001b[0mcopyto\u001b[0m\u001b[0;34m(\u001b[0m\u001b[0ma\u001b[0m\u001b[0;34m,\u001b[0m \u001b[0;36m1\u001b[0m\u001b[0;34m,\u001b[0m \u001b[0mcasting\u001b[0m\u001b[0;34m=\u001b[0m\u001b[0;34m'unsafe'\u001b[0m\u001b[0;34m)\u001b[0m\u001b[0;34m\u001b[0m\u001b[0;34m\u001b[0m\u001b[0m\n\u001b[1;32m    206\u001b[0m     \u001b[0;32mreturn\u001b[0m \u001b[0ma\u001b[0m\u001b[0;34m\u001b[0m\u001b[0;34m\u001b[0m\u001b[0m\n",
      "\u001b[0;31mMemoryError\u001b[0m: Unable to allocate 38.0 GiB for an array with shape (202103, 202103) and data type bool"
     ]
    }
   ],
   "source": [
    "bootstrap((df_control.revenue, ), np.mean, n_resamples=1000) \n",
    "# получаем доверительный интервал через bootstrap для средних из контрольной группы"
   ]
  },
  {
   "cell_type": "code",
   "execution_count": null,
   "metadata": {},
   "outputs": [],
   "source": [
    "bootstrap((df_test.revenue, ), np.mean, n_resamples=1000) \n",
    "# получаем доверительный интервал через bootstrap для средних тестовой группы"
   ]
  },
  {
   "cell_type": "code",
   "execution_count": 38,
   "metadata": {},
   "outputs": [
    {
     "data": {
      "text/plain": [
       "array([21.3, 29.5])"
      ]
     },
     "execution_count": 38,
     "metadata": {},
     "output_type": "execute_result"
    }
   ],
   "source": [
    "# и также еще можно сделать через пингвин\n",
    "pg.compute_bootci(df_control.revenue, func='mean', method=\"percentile\", n_boot=1000)"
   ]
  },
  {
   "cell_type": "code",
   "execution_count": 39,
   "metadata": {},
   "outputs": [
    {
     "data": {
      "text/plain": [
       "array([25.42, 27.99])"
      ]
     },
     "execution_count": 39,
     "metadata": {},
     "output_type": "execute_result"
    }
   ],
   "source": [
    "pg.compute_bootci(df_test.revenue, func='mean', method=\"percentile\", n_boot=1000)"
   ]
  },
  {
   "cell_type": "markdown",
   "metadata": {},
   "source": [
    "в обоих случаях по результатам видно, что доверительные интервалы пересекаются, <br>\n",
    "значит мы не можем отклонить нулевую гипотезу о равенстве средних"
   ]
  },
  {
   "cell_type": "code",
   "execution_count": 40,
   "metadata": {},
   "outputs": [],
   "source": [
    "# Т.к. бутстрапу похоже не хватает памяти для проведения теста \n",
    "# (я уже и кол-во симуляций уменьшал, но у меня все равно раз через раз работает)\n",
    "# то еще можно смоделировать вручную\n",
    "# Чтобы проверить гипотезу о равенстве средних на уровне значимости 5% \n",
    "# достаточно построить 95% доверительный интервал для разности средних между группами. <br> \n",
    "# Если ноль находится вне доверительного интервала, то отличия статистически значимы, иначе нет.\n",
    "\n",
    "# тут мы считаем разницу средних\n",
    "mean_diff_arpu = []\n",
    "for i in range(10000):\n",
    "    sample_data_control = df_control.sample(frac=1, replace=True)\n",
    "    sample_mean_control = sample_data_control.revenue.mean()\n",
    "    \n",
    "    sample_data_test = df_test.sample(frac=1, replace=True)\n",
    "    sample_mean_test = sample_data_test.revenue.mean()\n",
    "    \n",
    "    sample_mean_diff = sample_mean_test - sample_mean_control\n",
    "    mean_diff_arpu.append(sample_mean_diff)"
   ]
  },
  {
   "cell_type": "code",
   "execution_count": 41,
   "metadata": {},
   "outputs": [
    {
     "data": {
      "text/plain": [
       "5.459220304492088"
      ]
     },
     "execution_count": 41,
     "metadata": {},
     "output_type": "execute_result"
    }
   ],
   "source": [
    "pd.Series(mean_diff_arpu).quantile(0.975)"
   ]
  },
  {
   "cell_type": "code",
   "execution_count": 42,
   "metadata": {},
   "outputs": [
    {
     "data": {
      "text/plain": [
       "-2.9625712971188007"
      ]
     },
     "execution_count": 42,
     "metadata": {},
     "output_type": "execute_result"
    }
   ],
   "source": [
    "pd.Series(mean_diff_arpu).quantile(0.025)"
   ]
  },
  {
   "cell_type": "markdown",
   "metadata": {},
   "source": [
    "т.к. доверительный интервал для разности средних у нас содержит 0 <br>\n",
    "то мы можем сделать вывод, что стат значимых отличий нет"
   ]
  },
  {
   "cell_type": "markdown",
   "metadata": {},
   "source": [
    "#### ARPPU"
   ]
  },
  {
   "cell_type": "markdown",
   "metadata": {},
   "source": [
    "##### проверим с помощью Т-теста"
   ]
  },
  {
   "cell_type": "code",
   "execution_count": 43,
   "metadata": {},
   "outputs": [
    {
     "data": {
      "text/plain": [
       "Ttest_indResult(statistic=-1.5917100176862002, pvalue=0.11153459157259504)"
      ]
     },
     "execution_count": 43,
     "metadata": {},
     "output_type": "execute_result"
    }
   ],
   "source": [
    "ttest_ind(df_control_oplata.revenue, \\\n",
    "          df_test_oplata.revenue)"
   ]
  },
  {
   "cell_type": "markdown",
   "metadata": {},
   "source": [
    "pvalue больше 0.05 значит нулевую гипотезу мы отвергнуть не можем <br>\n",
    "т.е. стат значимого различия между средними нет "
   ]
  },
  {
   "cell_type": "markdown",
   "metadata": {},
   "source": [
    "##### бутстрап"
   ]
  },
  {
   "cell_type": "code",
   "execution_count": null,
   "metadata": {},
   "outputs": [],
   "source": [
    "bootstrap((df_control_oplata.revenue, ), np.mean,  n_resamples=1000) \n",
    "# получаем доверительный интервал через bootstrap для контрольной группы"
   ]
  },
  {
   "cell_type": "code",
   "execution_count": null,
   "metadata": {},
   "outputs": [],
   "source": [
    "bootstrap((df_test_oplata.revenue, ), np.mean,  n_resamples=1000) \n",
    "# получаем доверительный интервал через bootstrap для тестовой группы"
   ]
  },
  {
   "cell_type": "code",
   "execution_count": 44,
   "metadata": {},
   "outputs": [
    {
     "data": {
      "text/plain": [
       "array([2262.29, 3069.41])"
      ]
     },
     "execution_count": 44,
     "metadata": {},
     "output_type": "execute_result"
    }
   ],
   "source": [
    "# и также еще через пингвин\n",
    "pg.compute_bootci(df_control_oplata.revenue, func='mean', method=\"percentile\", n_boot=1000)"
   ]
  },
  {
   "cell_type": "code",
   "execution_count": 45,
   "metadata": {},
   "outputs": [
    {
     "data": {
      "text/plain": [
       "array([2976.37, 3029.43])"
      ]
     },
     "execution_count": 45,
     "metadata": {},
     "output_type": "execute_result"
    }
   ],
   "source": [
    "pg.compute_bootci(df_test_oplata.revenue, func='mean', method=\"percentile\", n_boot=1000)"
   ]
  },
  {
   "cell_type": "markdown",
   "metadata": {},
   "source": [
    "в обоих случаях по результатам видно, что доверительные интервалы пересекаются, <br>\n",
    "значит мы не можем отклонить нулевую гипотезу о равенстве средних"
   ]
  },
  {
   "cell_type": "code",
   "execution_count": 46,
   "metadata": {},
   "outputs": [],
   "source": [
    "# Опять смоделируем вручную (если бутсрап не будет отрабатывать)\n",
    "# считаем разницу средних\n",
    "mean_diff_arppu = []\n",
    "for i in range(10000):\n",
    "    sample_data_control = df_control_oplata.sample(frac=1, replace=True)\n",
    "    sample_mean_control = sample_data_control.revenue.mean()\n",
    "    \n",
    "    sample_data_test = df_test_oplata.sample(frac=1, replace=True)\n",
    "    sample_mean_test = sample_data_test.revenue.mean()\n",
    "    \n",
    "    sample_mean_diff = sample_mean_test - sample_mean_control\n",
    "    mean_diff_arppu.append(sample_mean_diff)"
   ]
  },
  {
   "cell_type": "code",
   "execution_count": 47,
   "metadata": {},
   "outputs": [
    {
     "data": {
      "text/plain": [
       "731.9370693009278"
      ]
     },
     "execution_count": 47,
     "metadata": {},
     "output_type": "execute_result"
    }
   ],
   "source": [
    "pd.Series(mean_diff_arppu).quantile(0.975)"
   ]
  },
  {
   "cell_type": "code",
   "execution_count": 48,
   "metadata": {},
   "outputs": [
    {
     "data": {
      "text/plain": [
       "-79.93243786709354"
      ]
     },
     "execution_count": 48,
     "metadata": {},
     "output_type": "execute_result"
    }
   ],
   "source": [
    "pd.Series(mean_diff_arppu).quantile(0.025)"
   ]
  },
  {
   "cell_type": "markdown",
   "metadata": {},
   "source": [
    "т.к. доверительный интервал для разности средних у нас содержит 0\n",
    "то мы можем сделать вывод, что стат значимых отличий нет"
   ]
  },
  {
   "cell_type": "code",
   "execution_count": 49,
   "metadata": {},
   "outputs": [],
   "source": [
    "# Для ARPPU проведем еще один тест, сравним медианы в группах\n",
    "# сделаем ручную симуляцию для разности медиан\n",
    "median_diff_arppu = []\n",
    "for i in range(10000):\n",
    "    sample_data_control = df_control_oplata.sample(frac=1, replace=True)\n",
    "    sample_median_control = sample_data_control.revenue.median()\n",
    "    \n",
    "    sample_data_test = df_test_oplata.sample(frac=1, replace=True)\n",
    "    sample_median_test = sample_data_test.revenue.median()\n",
    "    \n",
    "    sample_mean_diff = sample_median_test - sample_median_control\n",
    "    median_diff_arppu.append(sample_mean_diff)"
   ]
  },
  {
   "cell_type": "code",
   "execution_count": 50,
   "metadata": {},
   "outputs": [
    {
     "data": {
      "text/plain": [
       "2761.0"
      ]
     },
     "execution_count": 50,
     "metadata": {},
     "output_type": "execute_result"
    }
   ],
   "source": [
    "pd.Series(median_diff_arppu).quantile(0.975)"
   ]
  },
  {
   "cell_type": "code",
   "execution_count": 51,
   "metadata": {},
   "outputs": [
    {
     "data": {
      "text/plain": [
       "2657.0"
      ]
     },
     "execution_count": 51,
     "metadata": {},
     "output_type": "execute_result"
    }
   ],
   "source": [
    "pd.Series(median_diff_arppu).quantile(0.025)"
   ]
  },
  {
   "cell_type": "markdown",
   "metadata": {},
   "source": [
    "т.к. доверительный интервал для разности медиан у нас НЕ содержит 0 <br>\n",
    "то мы можем сделать вывод, что имеются стат значимые отличия <br>\n",
    "и мы можем отвергуть нулевую гипотезу о равенстве медиан"
   ]
  },
  {
   "cell_type": "markdown",
   "metadata": {},
   "source": [
    "# Выводы "
   ]
  },
  {
   "cell_type": "markdown",
   "metadata": {},
   "source": [
    "<div class=\"alert alert-block alert-success\">\n",
    "По результатам анализа проведенного A/B теста нельзя 100% утверждать, что набор акционных предложений в какой-то из групп лучше <br>\n",
    "В контрольной группе конверсия стат значимо лучше, но при этом <br>\n",
    "в тестовой группе лучше средний доход ARPU и ARPPU, но эти отличия НЕ стат значимы <br>\n",
    "Но стат значимы отличия для медиан в тестовой и контрольной группах    \n",
    "<div>\n",
    "\n",
    "на мой взгляд стоит посмотреть, что привело (какое-то одно из акционных  предложений?) к выбросам в контрольной группе и почему они исчезли в тестовой группе <br>\n",
    "p.s. вполне возможно, что это предложение имеет решающее значение"
   ]
  },
  {
   "cell_type": "code",
   "execution_count": null,
   "metadata": {},
   "outputs": [],
   "source": []
  },
  {
   "cell_type": "markdown",
   "metadata": {},
   "source": [
    "# ЗАДАНИЕ 3"
   ]
  },
  {
   "cell_type": "markdown",
   "metadata": {},
   "source": [
    "<div class=\"alert alert-info\">\n",
    "В игре Plants & Gardens каждый месяц проводятся тематические события, ограниченные по времени. <br>\n",
    "    В них игроки могут получить уникальные предметы для сада и персонажей, дополнительные монеты или бонусы. <br>\n",
    "    Для получения награды требуется пройти ряд уровней за определенное время. <br>\n",
    "    С помощью каких метрик можно оценить результаты последнего прошедшего события?<br>\n",
    "\n",
    "Предположим, в другом событии мы усложнили механику событий так, что при каждой неудачной попытке выполнения уровня игрок будет откатываться на несколько уровней назад. <br>\n",
    "    Изменится ли набор метрик оценки результата? Если да, то как?<br>\n",
    "    </div>"
   ]
  },
  {
   "cell_type": "markdown",
   "metadata": {},
   "source": [
    "<div class=\"alert alert-success\">\n",
    "    \n",
    "**1 вариант** <br>\n",
    "**Дневная аудитория (DAU)** — количество уникальных пользователей, которые зашли в приложение в течение суток.<br>\n",
    "Сравнить показатели во время события и показатели, когда события не было.<br><br>\n",
    "    \n",
    "**Месячная аудитория (MAU)** — количество уникальных пользователей, которые зашли в приложение в течение месяца. \n",
    "Сравнить показатели за месяц с данным событием и показатели в месяца с другими событиями.<br><br>\n",
    "    \n",
    "**avg. DAU/MAU = stickness ratio** — коэффициент того, насколько часто пользователи, во время события \"остаются\" в продукте<br>\n",
    "Т.е. насколько чаще пользователи во время события заходят в игру<br><br>\n",
    "    \n",
    "**Количество новых/вернувшихся пользователей** — число пользователей во время проведения события.<br>\n",
    "**Retention rate (RR)** — коэффициент удержания клиентов. <br>\n",
    "Тут стоит обратить внимание на игроков, которые давно не заходили в игру и вернулись \"под событие\"<br><br>\n",
    "    \n",
    "**Конверсия (conversion rate, CR)** — отношение числа пользователей, которые выполнили какое-либо целевое действие к общему числу пользователей.<br>\n",
    "Тут под целевым действием может подразумеваться анпример покупка чего-то в игре (жизней/плюшек и т.п., не могу точно сказать, т.к. в игру не играл)<br><br>\n",
    "**ARPPU (Average revenue per paying user)** - Средний доход на платящего пользователя (то есть клиента).<br><br>\n",
    "**ARPU (Average revenue per user)** - Cредний доход с привлечённого пользователя.<br><br>\n",
    "<br><br>    \n",
    "**2 вариант** <br>\n",
    "К вышеперечисленным из 1 варианта стоит обратить внимание на:<br> <br>\n",
    "**Количество отвалившихся пользователей**  во время проведения события.<br>\n",
    "**Churn rate (отток клиентов)** — метрика, обратная retention. <br><br>\n",
    "**Средняя продолжительность сессии (average session length, ASL)**    <br><br>\n",
    "Также возможно сильно изменяться метрики stickness ratio, конверсия, ARPPU и ARPU, но сложно предсказать в какую сторону \n",
    "</div>"
   ]
  },
  {
   "cell_type": "code",
   "execution_count": null,
   "metadata": {},
   "outputs": [],
   "source": []
  }
 ],
 "metadata": {
  "kernelspec": {
   "display_name": "Python 3",
   "language": "python",
   "name": "python3"
  },
  "language_info": {
   "codemirror_mode": {
    "name": "ipython",
    "version": 3
   },
   "file_extension": ".py",
   "mimetype": "text/x-python",
   "name": "python",
   "nbconvert_exporter": "python",
   "pygments_lexer": "ipython3",
   "version": "3.7.3"
  }
 },
 "nbformat": 4,
 "nbformat_minor": 4
}
